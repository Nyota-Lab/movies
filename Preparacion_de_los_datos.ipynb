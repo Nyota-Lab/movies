{
  "nbformat": 4,
  "nbformat_minor": 0,
  "metadata": {
    "kernelspec": {
      "display_name": "Python 3",
      "language": "python",
      "name": "python3"
    },
    "language_info": {
      "codemirror_mode": {
        "name": "ipython",
        "version": 3
      },
      "file_extension": ".py",
      "mimetype": "text/x-python",
      "name": "python",
      "nbconvert_exporter": "python",
      "pygments_lexer": "ipython3",
      "version": "3.7.6"
    },
    "colab": {
      "name": "Preparacion de los datos.ipynb",
      "provenance": [],
      "collapsed_sections": [
        "lsC2wcuvpMvH",
        "Yk24uPY0G10C",
        "vT9L5AglHLWH"
      ],
      "include_colab_link": true
    }
  },
  "cells": [
    {
      "cell_type": "markdown",
      "metadata": {
        "id": "view-in-github",
        "colab_type": "text"
      },
      "source": [
        "<a href=\"https://colab.research.google.com/github/Nyota-Lab/movies/blob/Preparacion-de-datos/Preparacion_de_los_datos.ipynb\" target=\"_parent\"><img src=\"https://colab.research.google.com/assets/colab-badge.svg\" alt=\"Open In Colab\"/></a>"
      ]
    },
    {
      "cell_type": "markdown",
      "metadata": {
        "id": "vlBCi7ZPpWJ0",
        "colab_type": "text"
      },
      "source": [
        "#Primera fase del proceso de prediccion con ML"
      ]
    },
    {
      "cell_type": "markdown",
      "metadata": {
        "id": "lsC2wcuvpMvH",
        "colab_type": "text"
      },
      "source": [
        "##Importamos las librerias\n",
        "\n",
        "\n",
        "\n",
        "\n"
      ]
    },
    {
      "cell_type": "code",
      "metadata": {
        "id": "GLJgVcC1nMo4",
        "colab_type": "code",
        "colab": {}
      },
      "source": [
        "import numpy as np\n",
        "import pandas as pd\n",
        "import matplotlib.pyplot as plt\n",
        "import seaborn as sb\n",
        "import sklearn as sklearn"
      ],
      "execution_count": 0,
      "outputs": []
    },
    {
      "cell_type": "markdown",
      "metadata": {
        "id": "GMBGTJaNp0FN",
        "colab_type": "text"
      },
      "source": [
        "*   Para que los graficos estén directamente en la notebook *(esto se puede importar directamente en el bloque anterior)*\n",
        "\n"
      ]
    },
    {
      "cell_type": "code",
      "metadata": {
        "id": "tN1sT63cnMpM",
        "colab_type": "code",
        "colab": {}
      },
      "source": [
        "%matplotlib inline"
      ],
      "execution_count": 0,
      "outputs": []
    },
    {
      "cell_type": "markdown",
      "metadata": {
        "id": "Yk24uPY0G10C",
        "colab_type": "text"
      },
      "source": [
        "##Importamos el Dataset"
      ]
    },
    {
      "cell_type": "markdown",
      "metadata": {
        "id": "64LRhQOTqOXB",
        "colab_type": "text"
      },
      "source": [
        "\n",
        "\n",
        "*   En Jupyter Notebooks cargamos el dataset con la libreria pandas pd.read_csv, esta libreria tambien permite otro tipo de manejo de datos con los dataframe.\n",
        "*   En Google Colab hacemos la carga del dataset directamente desde Drive usando los siguentes [pasos](https://colab.research.google.com/notebooks/io.ipynb#scrollTo=u22w3BFiOveA)\n"
      ]
    },
    {
      "cell_type": "markdown",
      "metadata": {
        "id": "sftAcTg-t5rt",
        "colab_type": "text"
      },
      "source": [
        "1. Primero hacemos la autenticacion con Google Drive"
      ]
    },
    {
      "cell_type": "code",
      "metadata": {
        "id": "JJgE3bGdnMpb",
        "colab_type": "code",
        "outputId": "4ef91662-3659-4b14-b6cc-0292c2c3a52c",
        "colab": {
          "base_uri": "https://localhost:8080/",
          "height": 130
        }
      },
      "source": [
        "#movies = pd.read_csv(r'C:\\Users\\willi\\Documents\\Programacion\\ML\\peliculas.csv') \n",
        "from google.colab import drive\n",
        "drive.mount('/content/drive')"
      ],
      "execution_count": 4,
      "outputs": [
        {
          "output_type": "stream",
          "text": [
            "Go to this URL in a browser: https://accounts.google.com/o/oauth2/auth?client_id=947318989803-6bn6qk8qdgf4n4g3pfee6491hc0brc4i.apps.googleusercontent.com&redirect_uri=urn%3aietf%3awg%3aoauth%3a2.0%3aoob&response_type=code&scope=email%20https%3a%2f%2fwww.googleapis.com%2fauth%2fdocs.test%20https%3a%2f%2fwww.googleapis.com%2fauth%2fdrive%20https%3a%2f%2fwww.googleapis.com%2fauth%2fdrive.photos.readonly%20https%3a%2f%2fwww.googleapis.com%2fauth%2fpeopleapi.readonly\n",
            "\n",
            "Enter your authorization code:\n",
            "··········\n",
            "Mounted at /content/drive\n"
          ],
          "name": "stdout"
        }
      ]
    },
    {
      "cell_type": "markdown",
      "metadata": {
        "id": "M-mAJy0AuCKe",
        "colab_type": "text"
      },
      "source": [
        "2. Cargamos el CSV desde Drive"
      ]
    },
    {
      "cell_type": "code",
      "metadata": {
        "id": "HsixBlNer8XB",
        "colab_type": "code",
        "colab": {}
      },
      "source": [
        "path = \"/content/drive/My Drive/Peliculas/peliculas.csv\"\n",
        "movies = pd.read_csv('/content/drive/My Drive/Peliculas/peliculas.csv')"
      ],
      "execution_count": 0,
      "outputs": []
    },
    {
      "cell_type": "markdown",
      "metadata": {
        "id": "bdiv7Kn3uWVF",
        "colab_type": "text"
      },
      "source": [
        "\n",
        "\n",
        "*   Verificamos que el dataframe se haya cargado correctamente\n"
      ]
    },
    {
      "cell_type": "code",
      "metadata": {
        "id": "CoXRfOsnnMpn",
        "colab_type": "code",
        "outputId": "f6660047-d400-4e11-a3b6-4aeb2fbfc071",
        "colab": {
          "base_uri": "https://localhost:8080/",
          "height": 36
        }
      },
      "source": [
        "type(movies)"
      ],
      "execution_count": 6,
      "outputs": [
        {
          "output_type": "execute_result",
          "data": {
            "text/plain": [
              "pandas.core.frame.DataFrame"
            ]
          },
          "metadata": {
            "tags": []
          },
          "execution_count": 6
        }
      ]
    },
    {
      "cell_type": "markdown",
      "metadata": {
        "id": "o9wXI2foujym",
        "colab_type": "text"
      },
      "source": [
        "*   Con head podemos ver las 5 primeras muestras en un dataframe, no olvidar los ()"
      ]
    },
    {
      "cell_type": "code",
      "metadata": {
        "id": "u1BkDQlCnMp0",
        "colab_type": "code",
        "outputId": "108291dc-8e1b-4c16-9a47-efbdded464b7",
        "colab": {
          "base_uri": "https://localhost:8080/",
          "height": 365
        }
      },
      "source": [
        "movies.head()"
      ],
      "execution_count": 7,
      "outputs": [
        {
          "output_type": "execute_result",
          "data": {
            "text/html": [
              "<div>\n",
              "<style scoped>\n",
              "    .dataframe tbody tr th:only-of-type {\n",
              "        vertical-align: middle;\n",
              "    }\n",
              "\n",
              "    .dataframe tbody tr th {\n",
              "        vertical-align: top;\n",
              "    }\n",
              "\n",
              "    .dataframe thead th {\n",
              "        text-align: right;\n",
              "    }\n",
              "</style>\n",
              "<table border=\"1\" class=\"dataframe\">\n",
              "  <thead>\n",
              "    <tr style=\"text-align: right;\">\n",
              "      <th></th>\n",
              "      <th>movie_title</th>\n",
              "      <th>title_year</th>\n",
              "      <th>color</th>\n",
              "      <th>aspect_ratio</th>\n",
              "      <th>duration</th>\n",
              "      <th>language</th>\n",
              "      <th>country</th>\n",
              "      <th>duration.1</th>\n",
              "      <th>genres</th>\n",
              "      <th>content_rating</th>\n",
              "      <th>plot_keywords</th>\n",
              "      <th>director_name</th>\n",
              "      <th>actor_1_name</th>\n",
              "      <th>actor_2_name</th>\n",
              "      <th>actor_3_name</th>\n",
              "      <th>cast_total_facebook_likes</th>\n",
              "      <th>budget</th>\n",
              "      <th>imdb_score</th>\n",
              "      <th>gross</th>\n",
              "    </tr>\n",
              "  </thead>\n",
              "  <tbody>\n",
              "    <tr>\n",
              "      <th>0</th>\n",
              "      <td>Avatar</td>\n",
              "      <td>2009.0</td>\n",
              "      <td>Color</td>\n",
              "      <td>1.78</td>\n",
              "      <td>178.0</td>\n",
              "      <td>English</td>\n",
              "      <td>USA</td>\n",
              "      <td>178.0</td>\n",
              "      <td>Action|Adventure|Fantasy|Sci-Fi</td>\n",
              "      <td>PG-13</td>\n",
              "      <td>avatar|future|marine|native|paraplegic</td>\n",
              "      <td>James Cameron</td>\n",
              "      <td>CCH Pounder</td>\n",
              "      <td>Joel David Moore</td>\n",
              "      <td>Wes Studi</td>\n",
              "      <td>4834</td>\n",
              "      <td>237000000.0</td>\n",
              "      <td>7.9</td>\n",
              "      <td>760505847.0</td>\n",
              "    </tr>\n",
              "    <tr>\n",
              "      <th>1</th>\n",
              "      <td>Pirates of the Caribbean: At World's End</td>\n",
              "      <td>2007.0</td>\n",
              "      <td>Color</td>\n",
              "      <td>2.35</td>\n",
              "      <td>169.0</td>\n",
              "      <td>English</td>\n",
              "      <td>USA</td>\n",
              "      <td>169.0</td>\n",
              "      <td>Action|Adventure|Fantasy</td>\n",
              "      <td>PG-13</td>\n",
              "      <td>goddess|marriage ceremony|marriage proposal|pi...</td>\n",
              "      <td>Gore Verbinski</td>\n",
              "      <td>Johnny Depp</td>\n",
              "      <td>Orlando Bloom</td>\n",
              "      <td>Jack Davenport</td>\n",
              "      <td>48350</td>\n",
              "      <td>300000000.0</td>\n",
              "      <td>7.1</td>\n",
              "      <td>309404152.0</td>\n",
              "    </tr>\n",
              "    <tr>\n",
              "      <th>2</th>\n",
              "      <td>Spectre</td>\n",
              "      <td>2015.0</td>\n",
              "      <td>Color</td>\n",
              "      <td>2.35</td>\n",
              "      <td>148.0</td>\n",
              "      <td>English</td>\n",
              "      <td>UK</td>\n",
              "      <td>148.0</td>\n",
              "      <td>Action|Adventure|Thriller</td>\n",
              "      <td>PG-13</td>\n",
              "      <td>bomb|espionage|sequel|spy|terrorist</td>\n",
              "      <td>Sam Mendes</td>\n",
              "      <td>Christoph Waltz</td>\n",
              "      <td>Rory Kinnear</td>\n",
              "      <td>Stephanie Sigman</td>\n",
              "      <td>11700</td>\n",
              "      <td>245000000.0</td>\n",
              "      <td>6.8</td>\n",
              "      <td>200074175.0</td>\n",
              "    </tr>\n",
              "    <tr>\n",
              "      <th>3</th>\n",
              "      <td>The Dark Knight Rises</td>\n",
              "      <td>2012.0</td>\n",
              "      <td>Color</td>\n",
              "      <td>2.35</td>\n",
              "      <td>164.0</td>\n",
              "      <td>English</td>\n",
              "      <td>USA</td>\n",
              "      <td>164.0</td>\n",
              "      <td>Action|Thriller</td>\n",
              "      <td>PG-13</td>\n",
              "      <td>deception|imprisonment|lawlessness|police offi...</td>\n",
              "      <td>Christopher Nolan</td>\n",
              "      <td>Tom Hardy</td>\n",
              "      <td>Christian Bale</td>\n",
              "      <td>Joseph Gordon-Levitt</td>\n",
              "      <td>106759</td>\n",
              "      <td>250000000.0</td>\n",
              "      <td>8.5</td>\n",
              "      <td>448130642.0</td>\n",
              "    </tr>\n",
              "    <tr>\n",
              "      <th>4</th>\n",
              "      <td>Star Wars: Episode VII - The Force Awakens    ...</td>\n",
              "      <td>NaN</td>\n",
              "      <td>NaN</td>\n",
              "      <td>NaN</td>\n",
              "      <td>NaN</td>\n",
              "      <td>NaN</td>\n",
              "      <td>NaN</td>\n",
              "      <td>NaN</td>\n",
              "      <td>Documentary</td>\n",
              "      <td>NaN</td>\n",
              "      <td>NaN</td>\n",
              "      <td>Doug Walker</td>\n",
              "      <td>Doug Walker</td>\n",
              "      <td>Rob Walker</td>\n",
              "      <td>NaN</td>\n",
              "      <td>143</td>\n",
              "      <td>NaN</td>\n",
              "      <td>7.1</td>\n",
              "      <td>NaN</td>\n",
              "    </tr>\n",
              "  </tbody>\n",
              "</table>\n",
              "</div>"
            ],
            "text/plain": [
              "                                         movie_title  ...        gross\n",
              "0                                            Avatar   ...  760505847.0\n",
              "1          Pirates of the Caribbean: At World's End   ...  309404152.0\n",
              "2                                           Spectre   ...  200074175.0\n",
              "3                             The Dark Knight Rises   ...  448130642.0\n",
              "4  Star Wars: Episode VII - The Force Awakens    ...  ...          NaN\n",
              "\n",
              "[5 rows x 19 columns]"
            ]
          },
          "metadata": {
            "tags": []
          },
          "execution_count": 7
        }
      ]
    },
    {
      "cell_type": "markdown",
      "metadata": {
        "id": "4MuBwTmluwp7",
        "colab_type": "text"
      },
      "source": [
        "\n",
        "\n",
        "*   En pandas tambien se puede conocer la dimension de un dataframe con shape un dataframe es basicamente una matriz\n",
        "\n"
      ]
    },
    {
      "cell_type": "code",
      "metadata": {
        "id": "fz7zX_rsnMqA",
        "colab_type": "code",
        "outputId": "d8430cf0-8dc3-4dcf-f7bb-ebed6e6ab130",
        "colab": {
          "base_uri": "https://localhost:8080/",
          "height": 36
        }
      },
      "source": [
        "movies.shape"
      ],
      "execution_count": 8,
      "outputs": [
        {
          "output_type": "execute_result",
          "data": {
            "text/plain": [
              "(5043, 19)"
            ]
          },
          "metadata": {
            "tags": []
          },
          "execution_count": 8
        }
      ]
    },
    {
      "cell_type": "markdown",
      "metadata": {
        "id": "o591Mj1TvAlO",
        "colab_type": "text"
      },
      "source": [
        "1.   Podemos acceder a los indices de las columnas con columns"
      ]
    },
    {
      "cell_type": "code",
      "metadata": {
        "id": "sh-XyrSsnMqK",
        "colab_type": "code",
        "outputId": "f5700f09-8c20-4a02-c2cd-83e1860169b4",
        "colab": {
          "base_uri": "https://localhost:8080/",
          "height": 129
        }
      },
      "source": [
        "movies.columns"
      ],
      "execution_count": 9,
      "outputs": [
        {
          "output_type": "execute_result",
          "data": {
            "text/plain": [
              "Index(['movie_title', 'title_year', 'color', 'aspect_ratio', 'duration',\n",
              "       'language', 'country', 'duration.1', 'genres', 'content_rating',\n",
              "       'plot_keywords', 'director_name', 'actor_1_name', 'actor_2_name',\n",
              "       'actor_3_name', 'cast_total_facebook_likes', 'budget', 'imdb_score',\n",
              "       'gross'],\n",
              "      dtype='object')"
            ]
          },
          "metadata": {
            "tags": []
          },
          "execution_count": 9
        }
      ]
    },
    {
      "cell_type": "markdown",
      "metadata": {
        "id": "RzPLm1ftvVTD",
        "colab_type": "text"
      },
      "source": [
        "*   Tambien podemos acceder a los indices de las filas con index (parecido a arange en numpy)\n",
        "\n",
        "\n"
      ]
    },
    {
      "cell_type": "code",
      "metadata": {
        "id": "xjk-l4MinMqS",
        "colab_type": "code",
        "outputId": "20fafa23-8ce5-4225-da1e-aa185998a5ae",
        "colab": {
          "base_uri": "https://localhost:8080/",
          "height": 36
        }
      },
      "source": [
        "movies.index"
      ],
      "execution_count": 10,
      "outputs": [
        {
          "output_type": "execute_result",
          "data": {
            "text/plain": [
              "RangeIndex(start=0, stop=5043, step=1)"
            ]
          },
          "metadata": {
            "tags": []
          },
          "execution_count": 10
        }
      ]
    },
    {
      "cell_type": "markdown",
      "metadata": {
        "id": "UzxbP5V3vxy2",
        "colab_type": "text"
      },
      "source": [
        "*   Para acceder a un feature en especifico podemos instanciarlo con el index obtenido\n",
        "*   Si queremos ver los primeros 5 datos del feature usamos .head"
      ]
    },
    {
      "cell_type": "code",
      "metadata": {
        "id": "jbbJQ_SQnMqc",
        "colab_type": "code",
        "outputId": "e100a6b7-d4ef-4ecc-c925-39c7529ea941",
        "colab": {
          "base_uri": "https://localhost:8080/",
          "height": 129
        }
      },
      "source": [
        "columna1 = movies['movie_title']\n",
        "columna1.head()"
      ],
      "execution_count": 11,
      "outputs": [
        {
          "output_type": "execute_result",
          "data": {
            "text/plain": [
              "0                                              Avatar \n",
              "1            Pirates of the Caribbean: At World's End \n",
              "2                                             Spectre \n",
              "3                               The Dark Knight Rises \n",
              "4    Star Wars: Episode VII - The Force Awakens    ...\n",
              "Name: movie_title, dtype: object"
            ]
          },
          "metadata": {
            "tags": []
          },
          "execution_count": 11
        }
      ]
    },
    {
      "cell_type": "markdown",
      "metadata": {
        "id": "XuaoMqJewt3d",
        "colab_type": "text"
      },
      "source": [
        " *   Tambien podemos acceder a una linea de una forma parecida a la sintaxis de numpy pero con loc\n"
      ]
    },
    {
      "cell_type": "code",
      "metadata": {
        "id": "xixNMkbmnMql",
        "colab_type": "code",
        "outputId": "b976ccfe-a4b0-4e53-de97-adc961c630d0",
        "colab": {
          "base_uri": "https://localhost:8080/",
          "height": 389
        }
      },
      "source": [
        "linea10 = movies.loc[10,:]\n",
        "print(linea10)"
      ],
      "execution_count": 12,
      "outputs": [
        {
          "output_type": "stream",
          "text": [
            "movie_title                                Batman v Superman: Dawn of Justice \n",
            "title_year                                                                2016\n",
            "color                                                                    Color\n",
            "aspect_ratio                                                              2.35\n",
            "duration                                                                   183\n",
            "language                                                               English\n",
            "country                                                                    USA\n",
            "duration.1                                                                 183\n",
            "genres                                                 Action|Adventure|Sci-Fi\n",
            "content_rating                                                           PG-13\n",
            "plot_keywords                based on comic book|batman|sequel to a reboot|...\n",
            "director_name                                                      Zack Snyder\n",
            "actor_1_name                                                      Henry Cavill\n",
            "actor_2_name                                                      Lauren Cohan\n",
            "actor_3_name                                                    Alan D. Purwin\n",
            "cast_total_facebook_likes                                                24450\n",
            "budget                                                                 2.5e+08\n",
            "imdb_score                                                                 6.9\n",
            "gross                                                              3.30249e+08\n",
            "Name: 10, dtype: object\n"
          ],
          "name": "stdout"
        }
      ]
    },
    {
      "cell_type": "markdown",
      "metadata": {
        "id": "2gsZyP2exeFE",
        "colab_type": "text"
      },
      "source": [
        "*   Inspeccionamos los datos con info\n",
        "\n"
      ]
    },
    {
      "cell_type": "code",
      "metadata": {
        "id": "XzlSQA3snMqw",
        "colab_type": "code",
        "outputId": "1674fbbc-4784-473c-9931-41d57231a4e2",
        "colab": {
          "base_uri": "https://localhost:8080/",
          "height": 463
        }
      },
      "source": [
        "movies.info()"
      ],
      "execution_count": 13,
      "outputs": [
        {
          "output_type": "stream",
          "text": [
            "<class 'pandas.core.frame.DataFrame'>\n",
            "RangeIndex: 5043 entries, 0 to 5042\n",
            "Data columns (total 19 columns):\n",
            "movie_title                  5043 non-null object\n",
            "title_year                   4935 non-null float64\n",
            "color                        5024 non-null object\n",
            "aspect_ratio                 4714 non-null float64\n",
            "duration                     5028 non-null float64\n",
            "language                     5031 non-null object\n",
            "country                      5038 non-null object\n",
            "duration.1                   5028 non-null float64\n",
            "genres                       5043 non-null object\n",
            "content_rating               4740 non-null object\n",
            "plot_keywords                4890 non-null object\n",
            "director_name                4939 non-null object\n",
            "actor_1_name                 5036 non-null object\n",
            "actor_2_name                 5030 non-null object\n",
            "actor_3_name                 5020 non-null object\n",
            "cast_total_facebook_likes    5043 non-null int64\n",
            "budget                       4551 non-null float64\n",
            "imdb_score                   5043 non-null float64\n",
            "gross                        4159 non-null float64\n",
            "dtypes: float64(7), int64(1), object(11)\n",
            "memory usage: 748.7+ KB\n"
          ],
          "name": "stdout"
        }
      ]
    },
    {
      "cell_type": "markdown",
      "metadata": {
        "id": "goZsA_nCzB3L",
        "colab_type": "text"
      },
      "source": [
        "*   Ademas si lo que deseamos es solo saber  los tipos de cada feature usamos dtypes"
      ]
    },
    {
      "cell_type": "code",
      "metadata": {
        "id": "qL8HcVvnnMq5",
        "colab_type": "code",
        "outputId": "b4b21897-67fb-4f6e-819b-3d4c84472964",
        "colab": {
          "base_uri": "https://localhost:8080/",
          "height": 389
        }
      },
      "source": [
        "movies.dtypes"
      ],
      "execution_count": 14,
      "outputs": [
        {
          "output_type": "execute_result",
          "data": {
            "text/plain": [
              "movie_title                   object\n",
              "title_year                   float64\n",
              "color                         object\n",
              "aspect_ratio                 float64\n",
              "duration                     float64\n",
              "language                      object\n",
              "country                       object\n",
              "duration.1                   float64\n",
              "genres                        object\n",
              "content_rating                object\n",
              "plot_keywords                 object\n",
              "director_name                 object\n",
              "actor_1_name                  object\n",
              "actor_2_name                  object\n",
              "actor_3_name                  object\n",
              "cast_total_facebook_likes      int64\n",
              "budget                       float64\n",
              "imdb_score                   float64\n",
              "gross                        float64\n",
              "dtype: object"
            ]
          },
          "metadata": {
            "tags": []
          },
          "execution_count": 14
        }
      ]
    },
    {
      "cell_type": "markdown",
      "metadata": {
        "id": "vT9L5AglHLWH",
        "colab_type": "text"
      },
      "source": [
        "##Inspeccion de tipos y segmentacion"
      ]
    },
    {
      "cell_type": "markdown",
      "metadata": {
        "id": "I8U-b2AhzSVn",
        "colab_type": "text"
      },
      "source": [
        "* Podemos verificar el tipo especifico de cada columna lo cual nos devolverá un valor boleano\n",
        " "
      ]
    },
    {
      "cell_type": "code",
      "metadata": {
        "id": "xim8mBtpnMrC",
        "colab_type": "code",
        "outputId": "73e66c3f-32b4-4088-ef3c-fb12074cb6d3",
        "colab": {
          "base_uri": "https://localhost:8080/",
          "height": 389
        }
      },
      "source": [
        "movies.dtypes == float"
      ],
      "execution_count": 15,
      "outputs": [
        {
          "output_type": "execute_result",
          "data": {
            "text/plain": [
              "movie_title                  False\n",
              "title_year                    True\n",
              "color                        False\n",
              "aspect_ratio                  True\n",
              "duration                      True\n",
              "language                     False\n",
              "country                      False\n",
              "duration.1                    True\n",
              "genres                       False\n",
              "content_rating               False\n",
              "plot_keywords                False\n",
              "director_name                False\n",
              "actor_1_name                 False\n",
              "actor_2_name                 False\n",
              "actor_3_name                 False\n",
              "cast_total_facebook_likes    False\n",
              "budget                        True\n",
              "imdb_score                    True\n",
              "gross                         True\n",
              "dtype: bool"
            ]
          },
          "metadata": {
            "tags": []
          },
          "execution_count": 15
        }
      ]
    },
    {
      "cell_type": "markdown",
      "metadata": {
        "id": "XJk8kHtG6eYC",
        "colab_type": "text"
      },
      "source": [
        "* Tambien podemos usar or para verificar varias condiciones a la vez\n"
      ]
    },
    {
      "cell_type": "code",
      "metadata": {
        "id": "wxy7ptxrnMrK",
        "colab_type": "code",
        "outputId": "935ad9c4-6131-4363-f5a8-13560212b1ed",
        "colab": {
          "base_uri": "https://localhost:8080/",
          "height": 389
        }
      },
      "source": [
        "(movies.dtypes == float) | (movies.dtypes == float) | (movies.dtypes == 'int64')"
      ],
      "execution_count": 16,
      "outputs": [
        {
          "output_type": "execute_result",
          "data": {
            "text/plain": [
              "movie_title                  False\n",
              "title_year                    True\n",
              "color                        False\n",
              "aspect_ratio                  True\n",
              "duration                      True\n",
              "language                     False\n",
              "country                      False\n",
              "duration.1                    True\n",
              "genres                       False\n",
              "content_rating               False\n",
              "plot_keywords                False\n",
              "director_name                False\n",
              "actor_1_name                 False\n",
              "actor_2_name                 False\n",
              "actor_3_name                 False\n",
              "cast_total_facebook_likes     True\n",
              "budget                        True\n",
              "imdb_score                    True\n",
              "gross                         True\n",
              "dtype: bool"
            ]
          },
          "metadata": {
            "tags": []
          },
          "execution_count": 16
        }
      ]
    },
    {
      "cell_type": "markdown",
      "metadata": {
        "id": "77JLnoCK63O2",
        "colab_type": "text"
      },
      "source": [
        "* pandas maneja el tipo de texto como object\n",
        " "
      ]
    },
    {
      "cell_type": "code",
      "metadata": {
        "id": "e6Mdfw-unMrW",
        "colab_type": "code",
        "outputId": "add31916-53ed-47ef-e02d-7a6cfe71a534",
        "colab": {
          "base_uri": "https://localhost:8080/",
          "height": 389
        }
      },
      "source": [
        "movies.dtypes == object"
      ],
      "execution_count": 17,
      "outputs": [
        {
          "output_type": "execute_result",
          "data": {
            "text/plain": [
              "movie_title                   True\n",
              "title_year                   False\n",
              "color                         True\n",
              "aspect_ratio                 False\n",
              "duration                     False\n",
              "language                      True\n",
              "country                       True\n",
              "duration.1                   False\n",
              "genres                        True\n",
              "content_rating                True\n",
              "plot_keywords                 True\n",
              "director_name                 True\n",
              "actor_1_name                  True\n",
              "actor_2_name                  True\n",
              "actor_3_name                  True\n",
              "cast_total_facebook_likes    False\n",
              "budget                       False\n",
              "imdb_score                   False\n",
              "gross                        False\n",
              "dtype: bool"
            ]
          },
          "metadata": {
            "tags": []
          },
          "execution_count": 17
        }
      ]
    },
    {
      "cell_type": "markdown",
      "metadata": {
        "id": "BPuLj7A57jKg",
        "colab_type": "text"
      },
      "source": [
        "* Creamos una nueva columna para poder extraer los features que tienen datos numericos\n"
      ]
    },
    {
      "cell_type": "code",
      "metadata": {
        "id": "8Iw4eM4JnMrf",
        "colab_type": "code",
        "outputId": "3e027ca3-e23b-4d25-d0bb-32ef0bdcd0e0",
        "colab": {
          "base_uri": "https://localhost:8080/",
          "height": 389
        }
      },
      "source": [
        "num = (movies.dtypes == float) | (movies.dtypes == float) | (movies.dtypes == 'int64')\n",
        "num"
      ],
      "execution_count": 19,
      "outputs": [
        {
          "output_type": "execute_result",
          "data": {
            "text/plain": [
              "movie_title                  False\n",
              "title_year                    True\n",
              "color                        False\n",
              "aspect_ratio                  True\n",
              "duration                      True\n",
              "language                     False\n",
              "country                      False\n",
              "duration.1                    True\n",
              "genres                       False\n",
              "content_rating               False\n",
              "plot_keywords                False\n",
              "director_name                False\n",
              "actor_1_name                 False\n",
              "actor_2_name                 False\n",
              "actor_3_name                 False\n",
              "cast_total_facebook_likes     True\n",
              "budget                        True\n",
              "imdb_score                    True\n",
              "gross                         True\n",
              "dtype: bool"
            ]
          },
          "metadata": {
            "tags": []
          },
          "execution_count": 19
        }
      ]
    },
    {
      "cell_type": "code",
      "metadata": {
        "id": "ZLBhay12nMrn",
        "colab_type": "code",
        "outputId": "9b8ca055-cbd9-4467-e08a-f081759a48f2",
        "colab": {
          "base_uri": "https://localhost:8080/",
          "height": 370
        }
      },
      "source": [
        "for e1 in num:\n",
        "    print(e1)"
      ],
      "execution_count": 20,
      "outputs": [
        {
          "output_type": "stream",
          "text": [
            "False\n",
            "True\n",
            "False\n",
            "True\n",
            "True\n",
            "False\n",
            "False\n",
            "True\n",
            "False\n",
            "False\n",
            "False\n",
            "False\n",
            "False\n",
            "False\n",
            "False\n",
            "True\n",
            "True\n",
            "True\n",
            "True\n"
          ],
          "name": "stdout"
        }
      ]
    },
    {
      "cell_type": "markdown",
      "metadata": {
        "id": "2Y8q46JI91R4",
        "colab_type": "text"
      },
      "source": [
        "* Creamos una nueva variable para extraer las columnas que tienen valores numericos\n",
        "* Tomamos todas las columnas dentro de num.index y las agregamos a num_cols solo si num[c] es true\n"
      ]
    },
    {
      "cell_type": "code",
      "metadata": {
        "id": "Zr8zkl-pnMru",
        "colab_type": "code",
        "outputId": "1d50147f-4807-4aae-8fd9-e6df7a9f7a8c",
        "colab": {
          "base_uri": "https://localhost:8080/",
          "height": 166
        }
      },
      "source": [
        "num_cols = [c for c in num.index if num[c]]\n",
        "num_cols"
      ],
      "execution_count": 21,
      "outputs": [
        {
          "output_type": "execute_result",
          "data": {
            "text/plain": [
              "['title_year',\n",
              " 'aspect_ratio',\n",
              " 'duration',\n",
              " 'duration.1',\n",
              " 'cast_total_facebook_likes',\n",
              " 'budget',\n",
              " 'imdb_score',\n",
              " 'gross']"
            ]
          },
          "metadata": {
            "tags": []
          },
          "execution_count": 21
        }
      ]
    },
    {
      "cell_type": "markdown",
      "metadata": {
        "id": "EeY528GZAxZb",
        "colab_type": "text"
      },
      "source": [
        "* Hacemos lo mismo pero con las features que contengan obj"
      ]
    },
    {
      "cell_type": "code",
      "metadata": {
        "id": "QvfN-sVmnMr1",
        "colab_type": "code",
        "outputId": "28bef2b7-1868-4c05-aed8-ea92211bc14c",
        "colab": {}
      },
      "source": [
        "obj = (movies.dtypes == object)\n",
        "obj_cols = [c for c in obj.index if obj[c]]\n",
        "obj_cols"
      ],
      "execution_count": 0,
      "outputs": [
        {
          "output_type": "execute_result",
          "data": {
            "text/plain": [
              "['movie_title',\n",
              " 'color',\n",
              " 'language',\n",
              " 'country',\n",
              " 'genres',\n",
              " 'content_rating',\n",
              " 'plot_keywords',\n",
              " 'director_name',\n",
              " 'actor_1_name',\n",
              " 'actor_2_name',\n",
              " 'actor_3_name']"
            ]
          },
          "metadata": {
            "tags": []
          },
          "execution_count": 19
        }
      ]
    },
    {
      "cell_type": "markdown",
      "metadata": {
        "id": "YFJHvYODBDiY",
        "colab_type": "text"
      },
      "source": [
        "* Verificamos que se hayan agregados los features correctos"
      ]
    },
    {
      "cell_type": "code",
      "metadata": {
        "id": "Nmrvm1eAnMr8",
        "colab_type": "code",
        "outputId": "40cd71ed-e049-429f-a292-28e5b89b69d4",
        "colab": {
          "base_uri": "https://localhost:8080/",
          "height": 166
        }
      },
      "source": [
        "num_cols"
      ],
      "execution_count": 22,
      "outputs": [
        {
          "output_type": "execute_result",
          "data": {
            "text/plain": [
              "['title_year',\n",
              " 'aspect_ratio',\n",
              " 'duration',\n",
              " 'duration.1',\n",
              " 'cast_total_facebook_likes',\n",
              " 'budget',\n",
              " 'imdb_score',\n",
              " 'gross']"
            ]
          },
          "metadata": {
            "tags": []
          },
          "execution_count": 22
        }
      ]
    },
    {
      "cell_type": "markdown",
      "metadata": {
        "id": "3noRNdqdBrmK",
        "colab_type": "text"
      },
      "source": [
        "* Instanciamos las features verificadas"
      ]
    },
    {
      "cell_type": "code",
      "metadata": {
        "scrolled": true,
        "id": "4uZvT42knMsD",
        "colab_type": "code",
        "colab": {}
      },
      "source": [
        "movies_num = movies[num_cols]"
      ],
      "execution_count": 0,
      "outputs": []
    },
    {
      "cell_type": "markdown",
      "metadata": {
        "id": "7NN1qOjiByl3",
        "colab_type": "text"
      },
      "source": [
        "* Con describe() podemos observar las caracteristicas generales de nuestras columnas numéricas\n"
      ]
    },
    {
      "cell_type": "code",
      "metadata": {
        "id": "Fe1idtDonMsM",
        "colab_type": "code",
        "outputId": "75f5dae4-6b41-4d4f-dcdd-993e2d8b3f48",
        "colab": {
          "base_uri": "https://localhost:8080/",
          "height": 320
        }
      },
      "source": [
        "movies_num.describe()"
      ],
      "execution_count": 25,
      "outputs": [
        {
          "output_type": "execute_result",
          "data": {
            "text/html": [
              "<div>\n",
              "<style scoped>\n",
              "    .dataframe tbody tr th:only-of-type {\n",
              "        vertical-align: middle;\n",
              "    }\n",
              "\n",
              "    .dataframe tbody tr th {\n",
              "        vertical-align: top;\n",
              "    }\n",
              "\n",
              "    .dataframe thead th {\n",
              "        text-align: right;\n",
              "    }\n",
              "</style>\n",
              "<table border=\"1\" class=\"dataframe\">\n",
              "  <thead>\n",
              "    <tr style=\"text-align: right;\">\n",
              "      <th></th>\n",
              "      <th>title_year</th>\n",
              "      <th>aspect_ratio</th>\n",
              "      <th>duration</th>\n",
              "      <th>duration.1</th>\n",
              "      <th>cast_total_facebook_likes</th>\n",
              "      <th>budget</th>\n",
              "      <th>imdb_score</th>\n",
              "      <th>gross</th>\n",
              "    </tr>\n",
              "  </thead>\n",
              "  <tbody>\n",
              "    <tr>\n",
              "      <th>count</th>\n",
              "      <td>4935.000000</td>\n",
              "      <td>4714.000000</td>\n",
              "      <td>5028.000000</td>\n",
              "      <td>5028.000000</td>\n",
              "      <td>5043.000000</td>\n",
              "      <td>4.551000e+03</td>\n",
              "      <td>5043.000000</td>\n",
              "      <td>4.159000e+03</td>\n",
              "    </tr>\n",
              "    <tr>\n",
              "      <th>mean</th>\n",
              "      <td>2002.470517</td>\n",
              "      <td>2.220403</td>\n",
              "      <td>107.201074</td>\n",
              "      <td>107.201074</td>\n",
              "      <td>9699.063851</td>\n",
              "      <td>3.975262e+07</td>\n",
              "      <td>6.442138</td>\n",
              "      <td>4.846841e+07</td>\n",
              "    </tr>\n",
              "    <tr>\n",
              "      <th>std</th>\n",
              "      <td>12.474599</td>\n",
              "      <td>1.385113</td>\n",
              "      <td>25.197441</td>\n",
              "      <td>25.197441</td>\n",
              "      <td>18163.799124</td>\n",
              "      <td>2.061149e+08</td>\n",
              "      <td>1.125116</td>\n",
              "      <td>6.845299e+07</td>\n",
              "    </tr>\n",
              "    <tr>\n",
              "      <th>min</th>\n",
              "      <td>1916.000000</td>\n",
              "      <td>1.180000</td>\n",
              "      <td>7.000000</td>\n",
              "      <td>7.000000</td>\n",
              "      <td>0.000000</td>\n",
              "      <td>2.180000e+02</td>\n",
              "      <td>1.600000</td>\n",
              "      <td>1.620000e+02</td>\n",
              "    </tr>\n",
              "    <tr>\n",
              "      <th>25%</th>\n",
              "      <td>1999.000000</td>\n",
              "      <td>1.850000</td>\n",
              "      <td>93.000000</td>\n",
              "      <td>93.000000</td>\n",
              "      <td>1411.000000</td>\n",
              "      <td>6.000000e+06</td>\n",
              "      <td>5.800000</td>\n",
              "      <td>5.340988e+06</td>\n",
              "    </tr>\n",
              "    <tr>\n",
              "      <th>50%</th>\n",
              "      <td>2005.000000</td>\n",
              "      <td>2.350000</td>\n",
              "      <td>103.000000</td>\n",
              "      <td>103.000000</td>\n",
              "      <td>3090.000000</td>\n",
              "      <td>2.000000e+07</td>\n",
              "      <td>6.600000</td>\n",
              "      <td>2.551750e+07</td>\n",
              "    </tr>\n",
              "    <tr>\n",
              "      <th>75%</th>\n",
              "      <td>2011.000000</td>\n",
              "      <td>2.350000</td>\n",
              "      <td>118.000000</td>\n",
              "      <td>118.000000</td>\n",
              "      <td>13756.500000</td>\n",
              "      <td>4.500000e+07</td>\n",
              "      <td>7.200000</td>\n",
              "      <td>6.230944e+07</td>\n",
              "    </tr>\n",
              "    <tr>\n",
              "      <th>max</th>\n",
              "      <td>2016.000000</td>\n",
              "      <td>16.000000</td>\n",
              "      <td>511.000000</td>\n",
              "      <td>511.000000</td>\n",
              "      <td>656730.000000</td>\n",
              "      <td>1.221550e+10</td>\n",
              "      <td>9.500000</td>\n",
              "      <td>7.605058e+08</td>\n",
              "    </tr>\n",
              "  </tbody>\n",
              "</table>\n",
              "</div>"
            ],
            "text/plain": [
              "        title_year  aspect_ratio  ...   imdb_score         gross\n",
              "count  4935.000000   4714.000000  ...  5043.000000  4.159000e+03\n",
              "mean   2002.470517      2.220403  ...     6.442138  4.846841e+07\n",
              "std      12.474599      1.385113  ...     1.125116  6.845299e+07\n",
              "min    1916.000000      1.180000  ...     1.600000  1.620000e+02\n",
              "25%    1999.000000      1.850000  ...     5.800000  5.340988e+06\n",
              "50%    2005.000000      2.350000  ...     6.600000  2.551750e+07\n",
              "75%    2011.000000      2.350000  ...     7.200000  6.230944e+07\n",
              "max    2016.000000     16.000000  ...     9.500000  7.605058e+08\n",
              "\n",
              "[8 rows x 8 columns]"
            ]
          },
          "metadata": {
            "tags": []
          },
          "execution_count": 25
        }
      ]
    },
    {
      "cell_type": "markdown",
      "metadata": {
        "id": "-HyePPENCHJI",
        "colab_type": "text"
      },
      "source": [
        "* Podemos visualizar graficos de las columnas numéricas con la funcion hist() y seleccionando una columna\n"
      ]
    },
    {
      "cell_type": "code",
      "metadata": {
        "id": "fRfSTALInMse",
        "colab_type": "code",
        "outputId": "d4ea6d14-a09c-4710-a985-02656a3097fe",
        "colab": {
          "base_uri": "https://localhost:8080/",
          "height": 287
        }
      },
      "source": [
        "movies_num['duration'].hist()"
      ],
      "execution_count": 26,
      "outputs": [
        {
          "output_type": "execute_result",
          "data": {
            "text/plain": [
              "<matplotlib.axes._subplots.AxesSubplot at 0x7f0982c34b00>"
            ]
          },
          "metadata": {
            "tags": []
          },
          "execution_count": 26
        },
        {
          "output_type": "display_data",
          "data": {
            "image/png": "[encoded data removed]",
            "text/plain": [
              "<Figure size 432x288 with 1 Axes>"
            ]
          },
          "metadata": {
            "tags": []
          }
        }
      ]
    },
    {
      "cell_type": "markdown",
      "metadata": {
        "id": "92bx9yAcCTXu",
        "colab_type": "text"
      },
      "source": [
        "* Seguimos revisando y las columnas tienen una distribucion que tiende a la normal\n"
      ]
    },
    {
      "cell_type": "code",
      "metadata": {
        "id": "ZOmgwDlYnMsn",
        "colab_type": "code",
        "outputId": "03069b56-659c-45f9-8e1d-10206877dd99",
        "colab": {
          "base_uri": "https://localhost:8080/",
          "height": 284
        }
      },
      "source": [
        "movies_num['imdb_score'].hist()"
      ],
      "execution_count": 27,
      "outputs": [
        {
          "output_type": "execute_result",
          "data": {
            "text/plain": [
              "<matplotlib.axes._subplots.AxesSubplot at 0x7f0982b86d30>"
            ]
          },
          "metadata": {
            "tags": []
          },
          "execution_count": 27
        },
        {
          "output_type": "display_data",
          "data": {
            "image/png": "[encoded data removed]",
            "text/plain": [
              "<Figure size 432x288 with 1 Axes>"
            ]
          },
          "metadata": {
            "tags": []
          }
        }
      ]
    },
    {
      "cell_type": "markdown",
      "metadata": {
        "id": "OdfUnj3rCb1G",
        "colab_type": "text"
      },
      "source": [
        "* En el siguiente caso tenemos datos que están distorisionando la informacion por lo cual deben ser arreglados\n"
      ]
    },
    {
      "cell_type": "code",
      "metadata": {
        "id": "eWPrMltEnMsu",
        "colab_type": "code",
        "outputId": "031c4e6c-1adf-42bd-ff1d-6adb09854cfa",
        "colab": {
          "base_uri": "https://localhost:8080/",
          "height": 297
        }
      },
      "source": [
        "movies_num['budget'].hist()"
      ],
      "execution_count": 29,
      "outputs": [
        {
          "output_type": "execute_result",
          "data": {
            "text/plain": [
              "<matplotlib.axes._subplots.AxesSubplot at 0x7f09826d62b0>"
            ]
          },
          "metadata": {
            "tags": []
          },
          "execution_count": 29
        },
        {
          "output_type": "display_data",
          "data": {
            "image/png": "[encoded data removed]",
            "text/plain": [
              "<Figure size 432x288 with 1 Axes>"
            ]
          },
          "metadata": {
            "tags": []
          }
        }
      ]
    },
    {
      "cell_type": "markdown",
      "metadata": {
        "id": "4b-zaglCCmW0",
        "colab_type": "text"
      },
      "source": [
        "* Usamos la tecnica boolean filtering para averiguar que películas están distorsionando nuestra feature, esta técnica nos entrega un boleano dependiendo del parametro que establezcamos\n"
      ]
    },
    {
      "cell_type": "code",
      "metadata": {
        "id": "3vOSr5M5nMs3",
        "colab_type": "code",
        "outputId": "5d659a1b-81c6-414a-d618-83c5d07d9aaa",
        "colab": {
          "base_uri": "https://localhost:8080/",
          "height": 73
        }
      },
      "source": [
        "(movies_num['budget'] > 1e9).value_counts()"
      ],
      "execution_count": 30,
      "outputs": [
        {
          "output_type": "execute_result",
          "data": {
            "text/plain": [
              "False    5037\n",
              "True        6\n",
              "Name: budget, dtype: int64"
            ]
          },
          "metadata": {
            "tags": []
          },
          "execution_count": 30
        }
      ]
    },
    {
      "cell_type": "markdown",
      "metadata": {
        "id": "ga8XGNL9D1p_",
        "colab_type": "text"
      },
      "source": [
        "* ya que sabemos que hay 6 peliculas que están distorsionando la informacion las guardamos dentro de mask para poder separarlas del resto de la informacion, mask es un contenedor temporal para poder manejar estas distorsiones de mejor manera\n"
      ]
    },
    {
      "cell_type": "code",
      "metadata": {
        "id": "TAPUZRU0nMs_",
        "colab_type": "code",
        "colab": {}
      },
      "source": [
        "mask = (movies_num['budget'] > 1e9)"
      ],
      "execution_count": 0,
      "outputs": []
    },
    {
      "cell_type": "markdown",
      "metadata": {
        "id": "XYHqkzinGZag",
        "colab_type": "text"
      },
      "source": [
        "* Podemos saber cuales peliculas son las que nos generan el error en la informacion si consultamos mask en movies ahora vamos a obtener solo los valores de mask que sean True"
      ]
    },
    {
      "cell_type": "code",
      "metadata": {
        "id": "00bunyeTnMtG",
        "colab_type": "code",
        "outputId": "462eb6b4-9684-4a28-f3fd-4f66bcc0ce50",
        "colab": {
          "base_uri": "https://localhost:8080/",
          "height": 379
        }
      },
      "source": [
        "movies[mask]"
      ],
      "execution_count": 33,
      "outputs": [
        {
          "output_type": "execute_result",
          "data": {
            "text/html": [
              "<div>\n",
              "<style scoped>\n",
              "    .dataframe tbody tr th:only-of-type {\n",
              "        vertical-align: middle;\n",
              "    }\n",
              "\n",
              "    .dataframe tbody tr th {\n",
              "        vertical-align: top;\n",
              "    }\n",
              "\n",
              "    .dataframe thead th {\n",
              "        text-align: right;\n",
              "    }\n",
              "</style>\n",
              "<table border=\"1\" class=\"dataframe\">\n",
              "  <thead>\n",
              "    <tr style=\"text-align: right;\">\n",
              "      <th></th>\n",
              "      <th>movie_title</th>\n",
              "      <th>title_year</th>\n",
              "      <th>color</th>\n",
              "      <th>aspect_ratio</th>\n",
              "      <th>duration</th>\n",
              "      <th>language</th>\n",
              "      <th>country</th>\n",
              "      <th>duration.1</th>\n",
              "      <th>genres</th>\n",
              "      <th>content_rating</th>\n",
              "      <th>plot_keywords</th>\n",
              "      <th>director_name</th>\n",
              "      <th>actor_1_name</th>\n",
              "      <th>actor_2_name</th>\n",
              "      <th>actor_3_name</th>\n",
              "      <th>cast_total_facebook_likes</th>\n",
              "      <th>budget</th>\n",
              "      <th>imdb_score</th>\n",
              "      <th>gross</th>\n",
              "    </tr>\n",
              "  </thead>\n",
              "  <tbody>\n",
              "    <tr>\n",
              "      <th>2323</th>\n",
              "      <td>Princess Mononoke</td>\n",
              "      <td>1997.0</td>\n",
              "      <td>Color</td>\n",
              "      <td>1.85</td>\n",
              "      <td>134.0</td>\n",
              "      <td>Japanese</td>\n",
              "      <td>Japan</td>\n",
              "      <td>134.0</td>\n",
              "      <td>Adventure|Animation|Fantasy</td>\n",
              "      <td>PG-13</td>\n",
              "      <td>anime|cult film|forest|princess|studio ghibli</td>\n",
              "      <td>Hayao Miyazaki</td>\n",
              "      <td>Minnie Driver</td>\n",
              "      <td>Jada Pinkett Smith</td>\n",
              "      <td>Billy Crudup</td>\n",
              "      <td>2710</td>\n",
              "      <td>2.400000e+09</td>\n",
              "      <td>8.4</td>\n",
              "      <td>2298191.0</td>\n",
              "    </tr>\n",
              "    <tr>\n",
              "      <th>2334</th>\n",
              "      <td>Steamboy</td>\n",
              "      <td>2004.0</td>\n",
              "      <td>Color</td>\n",
              "      <td>1.85</td>\n",
              "      <td>103.0</td>\n",
              "      <td>Japanese</td>\n",
              "      <td>Japan</td>\n",
              "      <td>103.0</td>\n",
              "      <td>Action|Adventure|Animation|Family|Sci-Fi|Thriller</td>\n",
              "      <td>PG-13</td>\n",
              "      <td>19th century|ball|boy|inventor|steam</td>\n",
              "      <td>Katsuhiro Ôtomo</td>\n",
              "      <td>William Hootkins</td>\n",
              "      <td>Robin Atkin Downes</td>\n",
              "      <td>Rosalind Ayres</td>\n",
              "      <td>991</td>\n",
              "      <td>2.127520e+09</td>\n",
              "      <td>6.9</td>\n",
              "      <td>410388.0</td>\n",
              "    </tr>\n",
              "    <tr>\n",
              "      <th>2988</th>\n",
              "      <td>The Host</td>\n",
              "      <td>2006.0</td>\n",
              "      <td>Color</td>\n",
              "      <td>1.85</td>\n",
              "      <td>110.0</td>\n",
              "      <td>Korean</td>\n",
              "      <td>South Korea</td>\n",
              "      <td>110.0</td>\n",
              "      <td>Comedy|Drama|Horror|Sci-Fi</td>\n",
              "      <td>R</td>\n",
              "      <td>daughter|han river|monster|river|seoul</td>\n",
              "      <td>Joon-ho Bong</td>\n",
              "      <td>Doona Bae</td>\n",
              "      <td>Kang-ho Song</td>\n",
              "      <td>Ah-sung Ko</td>\n",
              "      <td>1173</td>\n",
              "      <td>1.221550e+10</td>\n",
              "      <td>7.0</td>\n",
              "      <td>2201412.0</td>\n",
              "    </tr>\n",
              "    <tr>\n",
              "      <th>3005</th>\n",
              "      <td>Fateless</td>\n",
              "      <td>2005.0</td>\n",
              "      <td>Color</td>\n",
              "      <td>2.35</td>\n",
              "      <td>134.0</td>\n",
              "      <td>Hungarian</td>\n",
              "      <td>Hungary</td>\n",
              "      <td>134.0</td>\n",
              "      <td>Drama|Romance|War</td>\n",
              "      <td>R</td>\n",
              "      <td>bus|death|gay slur|hatred|jewish</td>\n",
              "      <td>Lajos Koltai</td>\n",
              "      <td>Marcell Nagy</td>\n",
              "      <td>Péter Fancsikai</td>\n",
              "      <td>Bálint Péntek</td>\n",
              "      <td>11</td>\n",
              "      <td>2.500000e+09</td>\n",
              "      <td>7.1</td>\n",
              "      <td>195888.0</td>\n",
              "    </tr>\n",
              "    <tr>\n",
              "      <th>3423</th>\n",
              "      <td>Akira</td>\n",
              "      <td>1988.0</td>\n",
              "      <td>Color</td>\n",
              "      <td>1.85</td>\n",
              "      <td>124.0</td>\n",
              "      <td>Japanese</td>\n",
              "      <td>Japan</td>\n",
              "      <td>124.0</td>\n",
              "      <td>Action|Animation|Sci-Fi</td>\n",
              "      <td>R</td>\n",
              "      <td>based on manga|biker gang|gifted child|post th...</td>\n",
              "      <td>Katsuhiro Ôtomo</td>\n",
              "      <td>Mitsuo Iwata</td>\n",
              "      <td>Takeshi Kusao</td>\n",
              "      <td>Tesshô Genda</td>\n",
              "      <td>28</td>\n",
              "      <td>1.100000e+09</td>\n",
              "      <td>8.1</td>\n",
              "      <td>439162.0</td>\n",
              "    </tr>\n",
              "    <tr>\n",
              "      <th>3859</th>\n",
              "      <td>Lady Vengeance</td>\n",
              "      <td>2005.0</td>\n",
              "      <td>Color</td>\n",
              "      <td>2.35</td>\n",
              "      <td>112.0</td>\n",
              "      <td>Korean</td>\n",
              "      <td>South Korea</td>\n",
              "      <td>112.0</td>\n",
              "      <td>Crime|Drama</td>\n",
              "      <td>R</td>\n",
              "      <td>cake|christian|lesbian sex|oral sex|pregnant s...</td>\n",
              "      <td>Chan-wook Park</td>\n",
              "      <td>Min-sik Choi</td>\n",
              "      <td>Yeong-ae Lee</td>\n",
              "      <td>Hye-jeong Kang</td>\n",
              "      <td>907</td>\n",
              "      <td>4.200000e+09</td>\n",
              "      <td>7.7</td>\n",
              "      <td>211667.0</td>\n",
              "    </tr>\n",
              "  </tbody>\n",
              "</table>\n",
              "</div>"
            ],
            "text/plain": [
              "             movie_title  title_year  ... imdb_score      gross\n",
              "2323  Princess Mononoke       1997.0  ...        8.4  2298191.0\n",
              "2334           Steamboy       2004.0  ...        6.9   410388.0\n",
              "2988           The Host       2006.0  ...        7.0  2201412.0\n",
              "3005           Fateless       2005.0  ...        7.1   195888.0\n",
              "3423              Akira       1988.0  ...        8.1   439162.0\n",
              "3859     Lady Vengeance       2005.0  ...        7.7   211667.0\n",
              "\n",
              "[6 rows x 19 columns]"
            ]
          },
          "metadata": {
            "tags": []
          },
          "execution_count": 33
        }
      ]
    },
    {
      "cell_type": "markdown",
      "metadata": {
        "id": "-M2EGrjjIHuQ",
        "colab_type": "text"
      },
      "source": [
        "##Cargando un nuevo dataframe"
      ]
    },
    {
      "cell_type": "markdown",
      "metadata": {
        "id": "aJcYW1tCGq2h",
        "colab_type": "text"
      },
      "source": [
        "* Como los valores de ingresos no se encuentran en una misma moneda (en este caso son yenes) hay que buscar los datos correctos en otro dataframe\n"
      ]
    },
    {
      "cell_type": "code",
      "metadata": {
        "id": "HDo-MUCbnMtc",
        "colab_type": "code",
        "outputId": "6639abfc-1f94-4558-889b-8012b5f49165",
        "colab": {
          "base_uri": "https://localhost:8080/",
          "height": 788
        }
      },
      "source": [
        "pd.read_csv('/content/drive/My Drive/Peliculas/thenumbers.csv')"
      ],
      "execution_count": 34,
      "outputs": [
        {
          "output_type": "execute_result",
          "data": {
            "text/html": [
              "<div>\n",
              "<style scoped>\n",
              "    .dataframe tbody tr th:only-of-type {\n",
              "        vertical-align: middle;\n",
              "    }\n",
              "\n",
              "    .dataframe tbody tr th {\n",
              "        vertical-align: top;\n",
              "    }\n",
              "\n",
              "    .dataframe thead th {\n",
              "        text-align: right;\n",
              "    }\n",
              "</style>\n",
              "<table border=\"1\" class=\"dataframe\">\n",
              "  <thead>\n",
              "    <tr style=\"text-align: right;\">\n",
              "      <th></th>\n",
              "      <th>Unnamed: 0</th>\n",
              "      <th>movie_name</th>\n",
              "      <th>domestic_gross</th>\n",
              "      <th>movie_link</th>\n",
              "      <th>production_budget</th>\n",
              "      <th>release_date</th>\n",
              "      <th>worldwide_gross</th>\n",
              "      <th>movie_title</th>\n",
              "    </tr>\n",
              "  </thead>\n",
              "  <tbody>\n",
              "    <tr>\n",
              "      <th>0</th>\n",
              "      <td>0</td>\n",
              "      <td>Avatar</td>\n",
              "      <td>760507625</td>\n",
              "      <td>http://www.the-numbers.com/movie/Avatar#tab=su...</td>\n",
              "      <td>425000000</td>\n",
              "      <td>12/18/2009</td>\n",
              "      <td>2783918982</td>\n",
              "      <td>Avatar</td>\n",
              "    </tr>\n",
              "    <tr>\n",
              "      <th>1</th>\n",
              "      <td>1</td>\n",
              "      <td>Star Wars Ep. VII: The Force Awakens</td>\n",
              "      <td>936662225</td>\n",
              "      <td>http://www.the-numbers.com/movie/Star-Wars-Ep-...</td>\n",
              "      <td>306000000</td>\n",
              "      <td>12/18/2015</td>\n",
              "      <td>2058662225</td>\n",
              "      <td>Star Wars: Episode VII - The Force Awakens    ...</td>\n",
              "    </tr>\n",
              "    <tr>\n",
              "      <th>2</th>\n",
              "      <td>2</td>\n",
              "      <td>Pirates of the Caribbean: At World's End</td>\n",
              "      <td>309420425</td>\n",
              "      <td>http://www.the-numbers.com/movie/Pirates-of-th...</td>\n",
              "      <td>300000000</td>\n",
              "      <td>5/24/2007</td>\n",
              "      <td>963420425</td>\n",
              "      <td>Pirates of the Caribbean: At World's End</td>\n",
              "    </tr>\n",
              "    <tr>\n",
              "      <th>3</th>\n",
              "      <td>3</td>\n",
              "      <td>Spectre</td>\n",
              "      <td>200074175</td>\n",
              "      <td>http://www.the-numbers.com/movie/Spectre#tab=s...</td>\n",
              "      <td>300000000</td>\n",
              "      <td>11/6/2015</td>\n",
              "      <td>879620923</td>\n",
              "      <td>Spectre</td>\n",
              "    </tr>\n",
              "    <tr>\n",
              "      <th>4</th>\n",
              "      <td>4</td>\n",
              "      <td>The Dark Knight Rises</td>\n",
              "      <td>448139099</td>\n",
              "      <td>http://www.the-numbers.com/movie/Dark-Knight-R...</td>\n",
              "      <td>275000000</td>\n",
              "      <td>7/20/2012</td>\n",
              "      <td>1084439099</td>\n",
              "      <td>The Dark Knight Rises</td>\n",
              "    </tr>\n",
              "    <tr>\n",
              "      <th>...</th>\n",
              "      <td>...</td>\n",
              "      <td>...</td>\n",
              "      <td>...</td>\n",
              "      <td>...</td>\n",
              "      <td>...</td>\n",
              "      <td>...</td>\n",
              "      <td>...</td>\n",
              "      <td>...</td>\n",
              "    </tr>\n",
              "    <tr>\n",
              "      <th>4336</th>\n",
              "      <td>5157</td>\n",
              "      <td>The Mongol King</td>\n",
              "      <td>900</td>\n",
              "      <td>http://www.the-numbers.com/movie/Mongol-King-T...</td>\n",
              "      <td>7000</td>\n",
              "      <td>1/1/2004</td>\n",
              "      <td>900</td>\n",
              "      <td>The Mongol King</td>\n",
              "    </tr>\n",
              "    <tr>\n",
              "      <th>4337</th>\n",
              "      <td>5160</td>\n",
              "      <td>Signed Sealed Delivered</td>\n",
              "      <td>0</td>\n",
              "      <td>http://www.the-numbers.com/movie/Signed-Sealed...</td>\n",
              "      <td>5000</td>\n",
              "      <td>9/29/2015</td>\n",
              "      <td>0</td>\n",
              "      <td>Signed Sealed Delivered</td>\n",
              "    </tr>\n",
              "    <tr>\n",
              "      <th>4338</th>\n",
              "      <td>5161</td>\n",
              "      <td>Shanghai Calling</td>\n",
              "      <td>10443</td>\n",
              "      <td>http://www.the-numbers.com/movie/Shanghai-Call...</td>\n",
              "      <td>3967</td>\n",
              "      <td>2/15/2013</td>\n",
              "      <td>10443</td>\n",
              "      <td>Shanghai Calling</td>\n",
              "    </tr>\n",
              "    <tr>\n",
              "      <th>4339</th>\n",
              "      <td>5162</td>\n",
              "      <td>A Plague So Pleasant</td>\n",
              "      <td>0</td>\n",
              "      <td>http://www.the-numbers.com/movie/Plague-So-Ple...</td>\n",
              "      <td>1400</td>\n",
              "      <td>9/29/2015</td>\n",
              "      <td>0</td>\n",
              "      <td>A Plague So Pleasant</td>\n",
              "    </tr>\n",
              "    <tr>\n",
              "      <th>4340</th>\n",
              "      <td>5163</td>\n",
              "      <td>My Date With Drew</td>\n",
              "      <td>181041</td>\n",
              "      <td>http://www.the-numbers.com/movie/My-Date-With-...</td>\n",
              "      <td>1100</td>\n",
              "      <td>8/5/2005</td>\n",
              "      <td>181041</td>\n",
              "      <td>My Date with Drew</td>\n",
              "    </tr>\n",
              "  </tbody>\n",
              "</table>\n",
              "<p>4341 rows × 8 columns</p>\n",
              "</div>"
            ],
            "text/plain": [
              "      Unnamed: 0  ...                                        movie_title\n",
              "0              0  ...                                            Avatar \n",
              "1              1  ...  Star Wars: Episode VII - The Force Awakens    ...\n",
              "2              2  ...          Pirates of the Caribbean: At World's End \n",
              "3              3  ...                                           Spectre \n",
              "4              4  ...                             The Dark Knight Rises \n",
              "...          ...  ...                                                ...\n",
              "4336        5157  ...                                   The Mongol King \n",
              "4337        5160  ...                           Signed Sealed Delivered \n",
              "4338        5161  ...                                  Shanghai Calling \n",
              "4339        5162  ...                              A Plague So Pleasant \n",
              "4340        5163  ...                                 My Date with Drew \n",
              "\n",
              "[4341 rows x 8 columns]"
            ]
          },
          "metadata": {
            "tags": []
          },
          "execution_count": 34
        }
      ]
    },
    {
      "cell_type": "markdown",
      "metadata": {
        "id": "dh2s1l0XHibx",
        "colab_type": "text"
      },
      "source": [
        "* Instanciamos el dataframe con la feature en dolares"
      ]
    },
    {
      "cell_type": "code",
      "metadata": {
        "id": "SkHKv91RnMti",
        "colab_type": "code",
        "colab": {}
      },
      "source": [
        "financials = pd.read_csv('/content/drive/My Drive/Peliculas/thenumbers.csv')"
      ],
      "execution_count": 0,
      "outputs": []
    },
    {
      "cell_type": "markdown",
      "metadata": {
        "id": "clqGly6IH3A7",
        "colab_type": "text"
      },
      "source": [
        "* No necesitamos todas las features de este nuevo dataframe así que instanciamos las necesarias nuevamente"
      ]
    },
    {
      "cell_type": "code",
      "metadata": {
        "id": "TcWu6vUEnMtm",
        "colab_type": "code",
        "outputId": "69fd6605-8666-41b3-cda4-0652712f1ab6",
        "colab": {
          "base_uri": "https://localhost:8080/",
          "height": 206
        }
      },
      "source": [
        "financials = financials[['movie_title','production_budget','worldwide_gross']]\n",
        "financials.head()"
      ],
      "execution_count": 38,
      "outputs": [
        {
          "output_type": "execute_result",
          "data": {
            "text/html": [
              "<div>\n",
              "<style scoped>\n",
              "    .dataframe tbody tr th:only-of-type {\n",
              "        vertical-align: middle;\n",
              "    }\n",
              "\n",
              "    .dataframe tbody tr th {\n",
              "        vertical-align: top;\n",
              "    }\n",
              "\n",
              "    .dataframe thead th {\n",
              "        text-align: right;\n",
              "    }\n",
              "</style>\n",
              "<table border=\"1\" class=\"dataframe\">\n",
              "  <thead>\n",
              "    <tr style=\"text-align: right;\">\n",
              "      <th></th>\n",
              "      <th>movie_title</th>\n",
              "      <th>production_budget</th>\n",
              "      <th>worldwide_gross</th>\n",
              "    </tr>\n",
              "  </thead>\n",
              "  <tbody>\n",
              "    <tr>\n",
              "      <th>0</th>\n",
              "      <td>Avatar</td>\n",
              "      <td>425000000</td>\n",
              "      <td>2783918982</td>\n",
              "    </tr>\n",
              "    <tr>\n",
              "      <th>1</th>\n",
              "      <td>Star Wars: Episode VII - The Force Awakens    ...</td>\n",
              "      <td>306000000</td>\n",
              "      <td>2058662225</td>\n",
              "    </tr>\n",
              "    <tr>\n",
              "      <th>2</th>\n",
              "      <td>Pirates of the Caribbean: At World's End</td>\n",
              "      <td>300000000</td>\n",
              "      <td>963420425</td>\n",
              "    </tr>\n",
              "    <tr>\n",
              "      <th>3</th>\n",
              "      <td>Spectre</td>\n",
              "      <td>300000000</td>\n",
              "      <td>879620923</td>\n",
              "    </tr>\n",
              "    <tr>\n",
              "      <th>4</th>\n",
              "      <td>The Dark Knight Rises</td>\n",
              "      <td>275000000</td>\n",
              "      <td>1084439099</td>\n",
              "    </tr>\n",
              "  </tbody>\n",
              "</table>\n",
              "</div>"
            ],
            "text/plain": [
              "                                         movie_title  ...  worldwide_gross\n",
              "0                                            Avatar   ...       2783918982\n",
              "1  Star Wars: Episode VII - The Force Awakens    ...  ...       2058662225\n",
              "2          Pirates of the Caribbean: At World's End   ...        963420425\n",
              "3                                           Spectre   ...        879620923\n",
              "4                             The Dark Knight Rises   ...       1084439099\n",
              "\n",
              "[5 rows x 3 columns]"
            ]
          },
          "metadata": {
            "tags": []
          },
          "execution_count": 38
        }
      ]
    },
    {
      "cell_type": "markdown",
      "metadata": {
        "id": "qffh7RZEOWca",
        "colab_type": "text"
      },
      "source": [
        "##Uniendo dos dataframes"
      ]
    },
    {
      "cell_type": "markdown",
      "metadata": {
        "id": "4kYpZSF2IZnv",
        "colab_type": "text"
      },
      "source": [
        "* Analizando las dimensiones de los dos dataframes vemos que al hacer un merge vamos a perder datos en este caso dada la importancia y la cantidad de los datos es posible aceptar la perdida de algunos (702 para ser exactos)\n"
      ]
    },
    {
      "cell_type": "code",
      "metadata": {
        "id": "E0VwY8SOnMtu",
        "colab_type": "code",
        "outputId": "22480269-b111-470b-9a14-a975e7a74054",
        "colab": {
          "base_uri": "https://localhost:8080/",
          "height": 54
        }
      },
      "source": [
        "print(movies.shape)\n",
        "print(financials.shape)"
      ],
      "execution_count": 40,
      "outputs": [
        {
          "output_type": "stream",
          "text": [
            "(5043, 19)\n",
            "(4341, 3)\n"
          ],
          "name": "stdout"
        }
      ]
    },
    {
      "cell_type": "markdown",
      "metadata": {
        "id": "TuSyxIGEJDov",
        "colab_type": "text"
      },
      "source": [
        "* Para poder hacer el join entre los dataframes necesitamos el nombre de la pelicula para que sea la llave tenemos que agregar el nombre de la pelicula a nuestro movies_num aprovechando que tienen el mismo indice por defecto la concatenacion se hace por lineas, para que sea por columnas agregamos axis=1\n"
      ]
    },
    {
      "cell_type": "code",
      "metadata": {
        "id": "lVWhm-ltnMtz",
        "colab_type": "code",
        "outputId": "7d18d66b-786a-48e8-e8c6-b828103f76f3",
        "colab": {
          "base_uri": "https://localhost:8080/",
          "height": 293
        }
      },
      "source": [
        "movies_num = pd.concat([movies_num, movies['movie_title']],axis=1)\n",
        "movies_num.head()"
      ],
      "execution_count": 41,
      "outputs": [
        {
          "output_type": "execute_result",
          "data": {
            "text/html": [
              "<div>\n",
              "<style scoped>\n",
              "    .dataframe tbody tr th:only-of-type {\n",
              "        vertical-align: middle;\n",
              "    }\n",
              "\n",
              "    .dataframe tbody tr th {\n",
              "        vertical-align: top;\n",
              "    }\n",
              "\n",
              "    .dataframe thead th {\n",
              "        text-align: right;\n",
              "    }\n",
              "</style>\n",
              "<table border=\"1\" class=\"dataframe\">\n",
              "  <thead>\n",
              "    <tr style=\"text-align: right;\">\n",
              "      <th></th>\n",
              "      <th>title_year</th>\n",
              "      <th>aspect_ratio</th>\n",
              "      <th>duration</th>\n",
              "      <th>duration.1</th>\n",
              "      <th>cast_total_facebook_likes</th>\n",
              "      <th>budget</th>\n",
              "      <th>imdb_score</th>\n",
              "      <th>gross</th>\n",
              "      <th>movie_title</th>\n",
              "    </tr>\n",
              "  </thead>\n",
              "  <tbody>\n",
              "    <tr>\n",
              "      <th>0</th>\n",
              "      <td>2009.0</td>\n",
              "      <td>1.78</td>\n",
              "      <td>178.0</td>\n",
              "      <td>178.0</td>\n",
              "      <td>4834</td>\n",
              "      <td>237000000.0</td>\n",
              "      <td>7.9</td>\n",
              "      <td>760505847.0</td>\n",
              "      <td>Avatar</td>\n",
              "    </tr>\n",
              "    <tr>\n",
              "      <th>1</th>\n",
              "      <td>2007.0</td>\n",
              "      <td>2.35</td>\n",
              "      <td>169.0</td>\n",
              "      <td>169.0</td>\n",
              "      <td>48350</td>\n",
              "      <td>300000000.0</td>\n",
              "      <td>7.1</td>\n",
              "      <td>309404152.0</td>\n",
              "      <td>Pirates of the Caribbean: At World's End</td>\n",
              "    </tr>\n",
              "    <tr>\n",
              "      <th>2</th>\n",
              "      <td>2015.0</td>\n",
              "      <td>2.35</td>\n",
              "      <td>148.0</td>\n",
              "      <td>148.0</td>\n",
              "      <td>11700</td>\n",
              "      <td>245000000.0</td>\n",
              "      <td>6.8</td>\n",
              "      <td>200074175.0</td>\n",
              "      <td>Spectre</td>\n",
              "    </tr>\n",
              "    <tr>\n",
              "      <th>3</th>\n",
              "      <td>2012.0</td>\n",
              "      <td>2.35</td>\n",
              "      <td>164.0</td>\n",
              "      <td>164.0</td>\n",
              "      <td>106759</td>\n",
              "      <td>250000000.0</td>\n",
              "      <td>8.5</td>\n",
              "      <td>448130642.0</td>\n",
              "      <td>The Dark Knight Rises</td>\n",
              "    </tr>\n",
              "    <tr>\n",
              "      <th>4</th>\n",
              "      <td>NaN</td>\n",
              "      <td>NaN</td>\n",
              "      <td>NaN</td>\n",
              "      <td>NaN</td>\n",
              "      <td>143</td>\n",
              "      <td>NaN</td>\n",
              "      <td>7.1</td>\n",
              "      <td>NaN</td>\n",
              "      <td>Star Wars: Episode VII - The Force Awakens    ...</td>\n",
              "    </tr>\n",
              "  </tbody>\n",
              "</table>\n",
              "</div>"
            ],
            "text/plain": [
              "   title_year  ...                                        movie_title\n",
              "0      2009.0  ...                                            Avatar \n",
              "1      2007.0  ...          Pirates of the Caribbean: At World's End \n",
              "2      2015.0  ...                                           Spectre \n",
              "3      2012.0  ...                             The Dark Knight Rises \n",
              "4         NaN  ...  Star Wars: Episode VII - The Force Awakens    ...\n",
              "\n",
              "[5 rows x 9 columns]"
            ]
          },
          "metadata": {
            "tags": []
          },
          "execution_count": 41
        }
      ]
    },
    {
      "cell_type": "markdown",
      "metadata": {
        "id": "X2Q5ZJVoJbYz",
        "colab_type": "text"
      },
      "source": [
        "* Una vez tenemos las llaves realizamos el merge entre los dataframes con pd.merge escribimos los nombres de los dataframes a unir usamos on= para definir cual será la llave para realizar el merge usamos how= para saber con cuantos datos nos vamos a quedar, en este caso con los 4341 de financials\n"
      ]
    },
    {
      "cell_type": "code",
      "metadata": {
        "id": "GXPoqkCynMt4",
        "colab_type": "code",
        "colab": {}
      },
      "source": [
        "movies_v2 = pd.merge(financials,movies_num,on='movie_title',how='left')"
      ],
      "execution_count": 0,
      "outputs": []
    },
    {
      "cell_type": "code",
      "metadata": {
        "id": "otTWngnknMt8",
        "colab_type": "code",
        "outputId": "0d49f7c8-51c3-411d-f4da-4b0dc26026bf",
        "colab": {
          "base_uri": "https://localhost:8080/",
          "height": 330
        }
      },
      "source": [
        "movies_v2.head()"
      ],
      "execution_count": 44,
      "outputs": [
        {
          "output_type": "execute_result",
          "data": {
            "text/html": [
              "<div>\n",
              "<style scoped>\n",
              "    .dataframe tbody tr th:only-of-type {\n",
              "        vertical-align: middle;\n",
              "    }\n",
              "\n",
              "    .dataframe tbody tr th {\n",
              "        vertical-align: top;\n",
              "    }\n",
              "\n",
              "    .dataframe thead th {\n",
              "        text-align: right;\n",
              "    }\n",
              "</style>\n",
              "<table border=\"1\" class=\"dataframe\">\n",
              "  <thead>\n",
              "    <tr style=\"text-align: right;\">\n",
              "      <th></th>\n",
              "      <th>movie_title</th>\n",
              "      <th>production_budget</th>\n",
              "      <th>worldwide_gross</th>\n",
              "      <th>title_year</th>\n",
              "      <th>aspect_ratio</th>\n",
              "      <th>duration</th>\n",
              "      <th>duration.1</th>\n",
              "      <th>cast_total_facebook_likes</th>\n",
              "      <th>budget</th>\n",
              "      <th>imdb_score</th>\n",
              "      <th>gross</th>\n",
              "    </tr>\n",
              "  </thead>\n",
              "  <tbody>\n",
              "    <tr>\n",
              "      <th>0</th>\n",
              "      <td>Avatar</td>\n",
              "      <td>425000000</td>\n",
              "      <td>2783918982</td>\n",
              "      <td>2009.0</td>\n",
              "      <td>1.78</td>\n",
              "      <td>178.0</td>\n",
              "      <td>178.0</td>\n",
              "      <td>4834</td>\n",
              "      <td>237000000.0</td>\n",
              "      <td>7.9</td>\n",
              "      <td>760505847.0</td>\n",
              "    </tr>\n",
              "    <tr>\n",
              "      <th>1</th>\n",
              "      <td>Star Wars: Episode VII - The Force Awakens    ...</td>\n",
              "      <td>306000000</td>\n",
              "      <td>2058662225</td>\n",
              "      <td>NaN</td>\n",
              "      <td>NaN</td>\n",
              "      <td>NaN</td>\n",
              "      <td>NaN</td>\n",
              "      <td>143</td>\n",
              "      <td>NaN</td>\n",
              "      <td>7.1</td>\n",
              "      <td>NaN</td>\n",
              "    </tr>\n",
              "    <tr>\n",
              "      <th>2</th>\n",
              "      <td>Pirates of the Caribbean: At World's End</td>\n",
              "      <td>300000000</td>\n",
              "      <td>963420425</td>\n",
              "      <td>2007.0</td>\n",
              "      <td>2.35</td>\n",
              "      <td>169.0</td>\n",
              "      <td>169.0</td>\n",
              "      <td>48350</td>\n",
              "      <td>300000000.0</td>\n",
              "      <td>7.1</td>\n",
              "      <td>309404152.0</td>\n",
              "    </tr>\n",
              "    <tr>\n",
              "      <th>3</th>\n",
              "      <td>Spectre</td>\n",
              "      <td>300000000</td>\n",
              "      <td>879620923</td>\n",
              "      <td>2015.0</td>\n",
              "      <td>2.35</td>\n",
              "      <td>148.0</td>\n",
              "      <td>148.0</td>\n",
              "      <td>11700</td>\n",
              "      <td>245000000.0</td>\n",
              "      <td>6.8</td>\n",
              "      <td>200074175.0</td>\n",
              "    </tr>\n",
              "    <tr>\n",
              "      <th>4</th>\n",
              "      <td>The Dark Knight Rises</td>\n",
              "      <td>275000000</td>\n",
              "      <td>1084439099</td>\n",
              "      <td>2012.0</td>\n",
              "      <td>2.35</td>\n",
              "      <td>164.0</td>\n",
              "      <td>164.0</td>\n",
              "      <td>106759</td>\n",
              "      <td>250000000.0</td>\n",
              "      <td>8.5</td>\n",
              "      <td>448130642.0</td>\n",
              "    </tr>\n",
              "  </tbody>\n",
              "</table>\n",
              "</div>"
            ],
            "text/plain": [
              "                                         movie_title  ...        gross\n",
              "0                                            Avatar   ...  760505847.0\n",
              "1  Star Wars: Episode VII - The Force Awakens    ...  ...          NaN\n",
              "2          Pirates of the Caribbean: At World's End   ...  309404152.0\n",
              "3                                           Spectre   ...  200074175.0\n",
              "4                             The Dark Knight Rises   ...  448130642.0\n",
              "\n",
              "[5 rows x 11 columns]"
            ]
          },
          "metadata": {
            "tags": []
          },
          "execution_count": 44
        }
      ]
    },
    {
      "cell_type": "code",
      "metadata": {
        "id": "NU75TeMXnMuB",
        "colab_type": "code",
        "outputId": "46d71cec-6e6f-4bf4-bb3a-1cf2e20b1020",
        "colab": {
          "base_uri": "https://localhost:8080/",
          "height": 36
        }
      },
      "source": [
        "movies_v2.shape"
      ],
      "execution_count": 46,
      "outputs": [
        {
          "output_type": "execute_result",
          "data": {
            "text/plain": [
              "(4385, 11)"
            ]
          },
          "metadata": {
            "tags": []
          },
          "execution_count": 46
        }
      ]
    },
    {
      "cell_type": "markdown",
      "metadata": {
        "id": "dV93-ZI7N1so",
        "colab_type": "text"
      },
      "source": [
        "* Una vez verificamos la salud de nuestros datos es importante revisar cuales son los datos faltantes con notnull() podemos ver en que columnas hay datos faltantes con false"
      ]
    },
    {
      "cell_type": "code",
      "metadata": {
        "id": "JNReJJqznMuG",
        "colab_type": "code",
        "outputId": "57144854-514b-404e-8e35-c28f428e3c9a",
        "colab": {
          "base_uri": "https://localhost:8080/",
          "height": 443
        }
      },
      "source": [
        "movies_v2.notnull()"
      ],
      "execution_count": 47,
      "outputs": [
        {
          "output_type": "execute_result",
          "data": {
            "text/html": [
              "<div>\n",
              "<style scoped>\n",
              "    .dataframe tbody tr th:only-of-type {\n",
              "        vertical-align: middle;\n",
              "    }\n",
              "\n",
              "    .dataframe tbody tr th {\n",
              "        vertical-align: top;\n",
              "    }\n",
              "\n",
              "    .dataframe thead th {\n",
              "        text-align: right;\n",
              "    }\n",
              "</style>\n",
              "<table border=\"1\" class=\"dataframe\">\n",
              "  <thead>\n",
              "    <tr style=\"text-align: right;\">\n",
              "      <th></th>\n",
              "      <th>movie_title</th>\n",
              "      <th>production_budget</th>\n",
              "      <th>worldwide_gross</th>\n",
              "      <th>title_year</th>\n",
              "      <th>aspect_ratio</th>\n",
              "      <th>duration</th>\n",
              "      <th>duration.1</th>\n",
              "      <th>cast_total_facebook_likes</th>\n",
              "      <th>budget</th>\n",
              "      <th>imdb_score</th>\n",
              "      <th>gross</th>\n",
              "    </tr>\n",
              "  </thead>\n",
              "  <tbody>\n",
              "    <tr>\n",
              "      <th>0</th>\n",
              "      <td>True</td>\n",
              "      <td>True</td>\n",
              "      <td>True</td>\n",
              "      <td>True</td>\n",
              "      <td>True</td>\n",
              "      <td>True</td>\n",
              "      <td>True</td>\n",
              "      <td>True</td>\n",
              "      <td>True</td>\n",
              "      <td>True</td>\n",
              "      <td>True</td>\n",
              "    </tr>\n",
              "    <tr>\n",
              "      <th>1</th>\n",
              "      <td>True</td>\n",
              "      <td>True</td>\n",
              "      <td>True</td>\n",
              "      <td>False</td>\n",
              "      <td>False</td>\n",
              "      <td>False</td>\n",
              "      <td>False</td>\n",
              "      <td>True</td>\n",
              "      <td>False</td>\n",
              "      <td>True</td>\n",
              "      <td>False</td>\n",
              "    </tr>\n",
              "    <tr>\n",
              "      <th>2</th>\n",
              "      <td>True</td>\n",
              "      <td>True</td>\n",
              "      <td>True</td>\n",
              "      <td>True</td>\n",
              "      <td>True</td>\n",
              "      <td>True</td>\n",
              "      <td>True</td>\n",
              "      <td>True</td>\n",
              "      <td>True</td>\n",
              "      <td>True</td>\n",
              "      <td>True</td>\n",
              "    </tr>\n",
              "    <tr>\n",
              "      <th>3</th>\n",
              "      <td>True</td>\n",
              "      <td>True</td>\n",
              "      <td>True</td>\n",
              "      <td>True</td>\n",
              "      <td>True</td>\n",
              "      <td>True</td>\n",
              "      <td>True</td>\n",
              "      <td>True</td>\n",
              "      <td>True</td>\n",
              "      <td>True</td>\n",
              "      <td>True</td>\n",
              "    </tr>\n",
              "    <tr>\n",
              "      <th>4</th>\n",
              "      <td>True</td>\n",
              "      <td>True</td>\n",
              "      <td>True</td>\n",
              "      <td>True</td>\n",
              "      <td>True</td>\n",
              "      <td>True</td>\n",
              "      <td>True</td>\n",
              "      <td>True</td>\n",
              "      <td>True</td>\n",
              "      <td>True</td>\n",
              "      <td>True</td>\n",
              "    </tr>\n",
              "    <tr>\n",
              "      <th>...</th>\n",
              "      <td>...</td>\n",
              "      <td>...</td>\n",
              "      <td>...</td>\n",
              "      <td>...</td>\n",
              "      <td>...</td>\n",
              "      <td>...</td>\n",
              "      <td>...</td>\n",
              "      <td>...</td>\n",
              "      <td>...</td>\n",
              "      <td>...</td>\n",
              "      <td>...</td>\n",
              "    </tr>\n",
              "    <tr>\n",
              "      <th>4380</th>\n",
              "      <td>True</td>\n",
              "      <td>True</td>\n",
              "      <td>True</td>\n",
              "      <td>True</td>\n",
              "      <td>False</td>\n",
              "      <td>True</td>\n",
              "      <td>True</td>\n",
              "      <td>True</td>\n",
              "      <td>True</td>\n",
              "      <td>True</td>\n",
              "      <td>False</td>\n",
              "    </tr>\n",
              "    <tr>\n",
              "      <th>4381</th>\n",
              "      <td>True</td>\n",
              "      <td>True</td>\n",
              "      <td>True</td>\n",
              "      <td>True</td>\n",
              "      <td>False</td>\n",
              "      <td>True</td>\n",
              "      <td>True</td>\n",
              "      <td>True</td>\n",
              "      <td>False</td>\n",
              "      <td>True</td>\n",
              "      <td>False</td>\n",
              "    </tr>\n",
              "    <tr>\n",
              "      <th>4382</th>\n",
              "      <td>True</td>\n",
              "      <td>True</td>\n",
              "      <td>True</td>\n",
              "      <td>True</td>\n",
              "      <td>True</td>\n",
              "      <td>True</td>\n",
              "      <td>True</td>\n",
              "      <td>True</td>\n",
              "      <td>False</td>\n",
              "      <td>True</td>\n",
              "      <td>True</td>\n",
              "    </tr>\n",
              "    <tr>\n",
              "      <th>4383</th>\n",
              "      <td>True</td>\n",
              "      <td>True</td>\n",
              "      <td>True</td>\n",
              "      <td>True</td>\n",
              "      <td>False</td>\n",
              "      <td>True</td>\n",
              "      <td>True</td>\n",
              "      <td>True</td>\n",
              "      <td>True</td>\n",
              "      <td>True</td>\n",
              "      <td>False</td>\n",
              "    </tr>\n",
              "    <tr>\n",
              "      <th>4384</th>\n",
              "      <td>True</td>\n",
              "      <td>True</td>\n",
              "      <td>True</td>\n",
              "      <td>True</td>\n",
              "      <td>True</td>\n",
              "      <td>True</td>\n",
              "      <td>True</td>\n",
              "      <td>True</td>\n",
              "      <td>True</td>\n",
              "      <td>True</td>\n",
              "      <td>True</td>\n",
              "    </tr>\n",
              "  </tbody>\n",
              "</table>\n",
              "<p>4385 rows × 11 columns</p>\n",
              "</div>"
            ],
            "text/plain": [
              "      movie_title  production_budget  ...  imdb_score  gross\n",
              "0            True               True  ...        True   True\n",
              "1            True               True  ...        True  False\n",
              "2            True               True  ...        True   True\n",
              "3            True               True  ...        True   True\n",
              "4            True               True  ...        True   True\n",
              "...           ...                ...  ...         ...    ...\n",
              "4380         True               True  ...        True  False\n",
              "4381         True               True  ...        True  False\n",
              "4382         True               True  ...        True   True\n",
              "4383         True               True  ...        True  False\n",
              "4384         True               True  ...        True   True\n",
              "\n",
              "[4385 rows x 11 columns]"
            ]
          },
          "metadata": {
            "tags": []
          },
          "execution_count": 47
        }
      ]
    },
    {
      "cell_type": "markdown",
      "metadata": {
        "id": "Y7cKNIjLOI3g",
        "colab_type": "text"
      },
      "source": [
        "* Para saber exactamente cuantos datos faltantes tenemos usamos apply y le pasamos value_counts para que consolide\n"
      ]
    },
    {
      "cell_type": "code",
      "metadata": {
        "id": "XNJ5rgMsnMuL",
        "colab_type": "code",
        "outputId": "14eef8f6-045c-44d8-8a3e-6b4b2a2456ca",
        "colab": {
          "base_uri": "https://localhost:8080/",
          "height": 132
        }
      },
      "source": [
        "movies_v2.notnull().apply(pd.Series.value_counts)"
      ],
      "execution_count": 48,
      "outputs": [
        {
          "output_type": "execute_result",
          "data": {
            "text/html": [
              "<div>\n",
              "<style scoped>\n",
              "    .dataframe tbody tr th:only-of-type {\n",
              "        vertical-align: middle;\n",
              "    }\n",
              "\n",
              "    .dataframe tbody tr th {\n",
              "        vertical-align: top;\n",
              "    }\n",
              "\n",
              "    .dataframe thead th {\n",
              "        text-align: right;\n",
              "    }\n",
              "</style>\n",
              "<table border=\"1\" class=\"dataframe\">\n",
              "  <thead>\n",
              "    <tr style=\"text-align: right;\">\n",
              "      <th></th>\n",
              "      <th>movie_title</th>\n",
              "      <th>production_budget</th>\n",
              "      <th>worldwide_gross</th>\n",
              "      <th>title_year</th>\n",
              "      <th>aspect_ratio</th>\n",
              "      <th>duration</th>\n",
              "      <th>duration.1</th>\n",
              "      <th>cast_total_facebook_likes</th>\n",
              "      <th>budget</th>\n",
              "      <th>imdb_score</th>\n",
              "      <th>gross</th>\n",
              "    </tr>\n",
              "  </thead>\n",
              "  <tbody>\n",
              "    <tr>\n",
              "      <th>False</th>\n",
              "      <td>NaN</td>\n",
              "      <td>NaN</td>\n",
              "      <td>NaN</td>\n",
              "      <td>27</td>\n",
              "      <td>274</td>\n",
              "      <td>13</td>\n",
              "      <td>13</td>\n",
              "      <td>NaN</td>\n",
              "      <td>335</td>\n",
              "      <td>NaN</td>\n",
              "      <td>671</td>\n",
              "    </tr>\n",
              "    <tr>\n",
              "      <th>True</th>\n",
              "      <td>4385.0</td>\n",
              "      <td>4385.0</td>\n",
              "      <td>4385.0</td>\n",
              "      <td>4358</td>\n",
              "      <td>4111</td>\n",
              "      <td>4372</td>\n",
              "      <td>4372</td>\n",
              "      <td>4385.0</td>\n",
              "      <td>4050</td>\n",
              "      <td>4385.0</td>\n",
              "      <td>3714</td>\n",
              "    </tr>\n",
              "  </tbody>\n",
              "</table>\n",
              "</div>"
            ],
            "text/plain": [
              "       movie_title  production_budget  ...  imdb_score  gross\n",
              "False          NaN                NaN  ...         NaN    671\n",
              "True        4385.0             4385.0  ...      4385.0   3714\n",
              "\n",
              "[2 rows x 11 columns]"
            ]
          },
          "metadata": {
            "tags": []
          },
          "execution_count": 48
        }
      ]
    },
    {
      "cell_type": "markdown",
      "metadata": {
        "id": "vabv8jlRO0Cq",
        "colab_type": "text"
      },
      "source": [
        "* Tambien es necesario revisar las columnas que si tienen valor pero está en cero, para esto usamos diferente de cero !=0\n"
      ]
    },
    {
      "cell_type": "code",
      "metadata": {
        "id": "K8DlA7WJnMuO",
        "colab_type": "code",
        "outputId": "32f87ec3-aa62-44b0-9a68-d9ccf8062627",
        "colab": {
          "base_uri": "https://localhost:8080/",
          "height": 132
        }
      },
      "source": [
        "(movies_v2 != 0).apply(pd.Series.value_counts)"
      ],
      "execution_count": 49,
      "outputs": [
        {
          "output_type": "execute_result",
          "data": {
            "text/html": [
              "<div>\n",
              "<style scoped>\n",
              "    .dataframe tbody tr th:only-of-type {\n",
              "        vertical-align: middle;\n",
              "    }\n",
              "\n",
              "    .dataframe tbody tr th {\n",
              "        vertical-align: top;\n",
              "    }\n",
              "\n",
              "    .dataframe thead th {\n",
              "        text-align: right;\n",
              "    }\n",
              "</style>\n",
              "<table border=\"1\" class=\"dataframe\">\n",
              "  <thead>\n",
              "    <tr style=\"text-align: right;\">\n",
              "      <th></th>\n",
              "      <th>movie_title</th>\n",
              "      <th>production_budget</th>\n",
              "      <th>worldwide_gross</th>\n",
              "      <th>title_year</th>\n",
              "      <th>aspect_ratio</th>\n",
              "      <th>duration</th>\n",
              "      <th>duration.1</th>\n",
              "      <th>cast_total_facebook_likes</th>\n",
              "      <th>budget</th>\n",
              "      <th>imdb_score</th>\n",
              "      <th>gross</th>\n",
              "    </tr>\n",
              "  </thead>\n",
              "  <tbody>\n",
              "    <tr>\n",
              "      <th>False</th>\n",
              "      <td>NaN</td>\n",
              "      <td>NaN</td>\n",
              "      <td>281</td>\n",
              "      <td>NaN</td>\n",
              "      <td>NaN</td>\n",
              "      <td>NaN</td>\n",
              "      <td>NaN</td>\n",
              "      <td>27</td>\n",
              "      <td>NaN</td>\n",
              "      <td>NaN</td>\n",
              "      <td>NaN</td>\n",
              "    </tr>\n",
              "    <tr>\n",
              "      <th>True</th>\n",
              "      <td>4385.0</td>\n",
              "      <td>4385.0</td>\n",
              "      <td>4104</td>\n",
              "      <td>4385.0</td>\n",
              "      <td>4385.0</td>\n",
              "      <td>4385.0</td>\n",
              "      <td>4385.0</td>\n",
              "      <td>4358</td>\n",
              "      <td>4385.0</td>\n",
              "      <td>4385.0</td>\n",
              "      <td>4385.0</td>\n",
              "    </tr>\n",
              "  </tbody>\n",
              "</table>\n",
              "</div>"
            ],
            "text/plain": [
              "       movie_title  production_budget  ...  imdb_score   gross\n",
              "False          NaN                NaN  ...         NaN     NaN\n",
              "True        4385.0             4385.0  ...      4385.0  4385.0\n",
              "\n",
              "[2 rows x 11 columns]"
            ]
          },
          "metadata": {
            "tags": []
          },
          "execution_count": 49
        }
      ]
    },
    {
      "cell_type": "markdown",
      "metadata": {
        "id": "bjwxqxVVPOQl",
        "colab_type": "text"
      },
      "source": [
        "* Instanciamos una nueva variable que nos permita aislar los valores que están vacios o son nulos"
      ]
    },
    {
      "cell_type": "code",
      "metadata": {
        "id": "J7a9NOTNnMuT",
        "colab_type": "code",
        "outputId": "ce127354-d93a-4cea-ab55-662109a1d232",
        "colab": {
          "base_uri": "https://localhost:8080/",
          "height": 226
        }
      },
      "source": [
        "avaliable = ((movies_v2 != 0) & (movies_v2.notnull()))\n",
        "avaliable.head()"
      ],
      "execution_count": 51,
      "outputs": [
        {
          "output_type": "execute_result",
          "data": {
            "text/html": [
              "<div>\n",
              "<style scoped>\n",
              "    .dataframe tbody tr th:only-of-type {\n",
              "        vertical-align: middle;\n",
              "    }\n",
              "\n",
              "    .dataframe tbody tr th {\n",
              "        vertical-align: top;\n",
              "    }\n",
              "\n",
              "    .dataframe thead th {\n",
              "        text-align: right;\n",
              "    }\n",
              "</style>\n",
              "<table border=\"1\" class=\"dataframe\">\n",
              "  <thead>\n",
              "    <tr style=\"text-align: right;\">\n",
              "      <th></th>\n",
              "      <th>movie_title</th>\n",
              "      <th>production_budget</th>\n",
              "      <th>worldwide_gross</th>\n",
              "      <th>title_year</th>\n",
              "      <th>aspect_ratio</th>\n",
              "      <th>duration</th>\n",
              "      <th>duration.1</th>\n",
              "      <th>cast_total_facebook_likes</th>\n",
              "      <th>budget</th>\n",
              "      <th>imdb_score</th>\n",
              "      <th>gross</th>\n",
              "    </tr>\n",
              "  </thead>\n",
              "  <tbody>\n",
              "    <tr>\n",
              "      <th>0</th>\n",
              "      <td>True</td>\n",
              "      <td>True</td>\n",
              "      <td>True</td>\n",
              "      <td>True</td>\n",
              "      <td>True</td>\n",
              "      <td>True</td>\n",
              "      <td>True</td>\n",
              "      <td>True</td>\n",
              "      <td>True</td>\n",
              "      <td>True</td>\n",
              "      <td>True</td>\n",
              "    </tr>\n",
              "    <tr>\n",
              "      <th>1</th>\n",
              "      <td>True</td>\n",
              "      <td>True</td>\n",
              "      <td>True</td>\n",
              "      <td>False</td>\n",
              "      <td>False</td>\n",
              "      <td>False</td>\n",
              "      <td>False</td>\n",
              "      <td>True</td>\n",
              "      <td>False</td>\n",
              "      <td>True</td>\n",
              "      <td>False</td>\n",
              "    </tr>\n",
              "    <tr>\n",
              "      <th>2</th>\n",
              "      <td>True</td>\n",
              "      <td>True</td>\n",
              "      <td>True</td>\n",
              "      <td>True</td>\n",
              "      <td>True</td>\n",
              "      <td>True</td>\n",
              "      <td>True</td>\n",
              "      <td>True</td>\n",
              "      <td>True</td>\n",
              "      <td>True</td>\n",
              "      <td>True</td>\n",
              "    </tr>\n",
              "    <tr>\n",
              "      <th>3</th>\n",
              "      <td>True</td>\n",
              "      <td>True</td>\n",
              "      <td>True</td>\n",
              "      <td>True</td>\n",
              "      <td>True</td>\n",
              "      <td>True</td>\n",
              "      <td>True</td>\n",
              "      <td>True</td>\n",
              "      <td>True</td>\n",
              "      <td>True</td>\n",
              "      <td>True</td>\n",
              "    </tr>\n",
              "    <tr>\n",
              "      <th>4</th>\n",
              "      <td>True</td>\n",
              "      <td>True</td>\n",
              "      <td>True</td>\n",
              "      <td>True</td>\n",
              "      <td>True</td>\n",
              "      <td>True</td>\n",
              "      <td>True</td>\n",
              "      <td>True</td>\n",
              "      <td>True</td>\n",
              "      <td>True</td>\n",
              "      <td>True</td>\n",
              "    </tr>\n",
              "  </tbody>\n",
              "</table>\n",
              "</div>"
            ],
            "text/plain": [
              "   movie_title  production_budget  worldwide_gross  ...  budget  imdb_score  gross\n",
              "0         True               True             True  ...    True        True   True\n",
              "1         True               True             True  ...   False        True  False\n",
              "2         True               True             True  ...    True        True   True\n",
              "3         True               True             True  ...    True        True   True\n",
              "4         True               True             True  ...    True        True   True\n",
              "\n",
              "[5 rows x 11 columns]"
            ]
          },
          "metadata": {
            "tags": []
          },
          "execution_count": 51
        }
      ]
    },
    {
      "cell_type": "markdown",
      "metadata": {
        "id": "BB0PYjXmPkzd",
        "colab_type": "text"
      },
      "source": [
        "* Podemos usar una forma para saber en que columnas hay datos falsos con all que toma todas las features a traves de axis=1 e indica si cualquiera de las features tiene un valor cero o no tiene valor a través de un booleano \n"
      ]
    },
    {
      "cell_type": "code",
      "metadata": {
        "id": "-mQAICJ7nMuY",
        "colab_type": "code",
        "outputId": "8c61504b-e532-48be-dc74-7b28c87130d7",
        "colab": {
          "base_uri": "https://localhost:8080/",
          "height": 240
        }
      },
      "source": [
        "avaliable.all(axis=1)"
      ],
      "execution_count": 52,
      "outputs": [
        {
          "output_type": "execute_result",
          "data": {
            "text/plain": [
              "0        True\n",
              "1       False\n",
              "2        True\n",
              "3        True\n",
              "4        True\n",
              "        ...  \n",
              "4380    False\n",
              "4381    False\n",
              "4382    False\n",
              "4383    False\n",
              "4384     True\n",
              "Length: 4385, dtype: bool"
            ]
          },
          "metadata": {
            "tags": []
          },
          "execution_count": 52
        }
      ]
    },
    {
      "cell_type": "markdown",
      "metadata": {
        "id": "3yQ1NAmUQKJy",
        "colab_type": "text"
      },
      "source": [
        "* Una vez sabemos que existen datos falsos contamos cuantos de ellos tenemos usando nuevamente value_counts()\n"
      ]
    },
    {
      "cell_type": "code",
      "metadata": {
        "id": "_CMNT63YnMug",
        "colab_type": "code",
        "outputId": "2c135ea7-7169-4dff-a356-2a62a23b529e",
        "colab": {
          "base_uri": "https://localhost:8080/",
          "height": 73
        }
      },
      "source": [
        "avaliable.all(axis=1).value_counts()"
      ],
      "execution_count": 53,
      "outputs": [
        {
          "output_type": "execute_result",
          "data": {
            "text/plain": [
              "True     3408\n",
              "False     977\n",
              "dtype: int64"
            ]
          },
          "metadata": {
            "tags": []
          },
          "execution_count": 53
        }
      ]
    },
    {
      "cell_type": "markdown",
      "metadata": {
        "id": "xLKA2Oj5QbaS",
        "colab_type": "text"
      },
      "source": [
        "* Creamos una mascara que nos ayudará a establecer cuantos datos son validos en worldwide_gross asignamos la mascara a movies_v2 ya que de otra manera no se puede realizar el conteo\n"
      ]
    },
    {
      "cell_type": "code",
      "metadata": {
        "id": "K7ohbm4wnMun",
        "colab_type": "code",
        "colab": {}
      },
      "source": [
        "mask = avaliable['worldwide_gross']\n",
        "movies_v2 = movies_v2[mask]"
      ],
      "execution_count": 0,
      "outputs": []
    },
    {
      "cell_type": "markdown",
      "metadata": {
        "id": "vr2GNJ1gSHCM",
        "colab_type": "text"
      },
      "source": [
        "* Como vimos en anteriores lineas nos quedarian 4104 datos con valores distintos a 0\n"
      ]
    },
    {
      "cell_type": "code",
      "metadata": {
        "id": "YmVE09gXnMur",
        "colab_type": "code",
        "outputId": "4f692b79-5d23-4ee5-865b-fefb5e75429f",
        "colab": {
          "base_uri": "https://localhost:8080/",
          "height": 54
        }
      },
      "source": [
        "((movies_v2 != 0) & (movies_v2.notnull())).worldwide_gross.value_counts()"
      ],
      "execution_count": 55,
      "outputs": [
        {
          "output_type": "execute_result",
          "data": {
            "text/plain": [
              "True    4104\n",
              "Name: worldwide_gross, dtype: int64"
            ]
          },
          "metadata": {
            "tags": []
          },
          "execution_count": 55
        }
      ]
    },
    {
      "cell_type": "markdown",
      "metadata": {
        "id": "nz5lVhlgSQNb",
        "colab_type": "text"
      },
      "source": [
        "* Ahora vamos a hacer uso de scikit-learn para el manejo de los datos faltantes iniciamos importando la libreria y abreviando\n",
        "* Con imputer vamos a hacer el reemplazo de los datos faltantes en el dataframe missing_values= le indicamos cuales valores son los que van a ser reemplazados strategy= es la forma en la que se van a realizar estos cambios (revisar documentacion) axis=1 para que tome las columnas"
      ]
    },
    {
      "cell_type": "code",
      "metadata": {
        "id": "RVvX76DynMuw",
        "colab_type": "code",
        "colab": {}
      },
      "source": [
        "from sklearn.impute import SimpleImputer\n",
        "imputer = SimpleImputer(missing_values=np.nan, strategy='mean')"
      ],
      "execution_count": 0,
      "outputs": []
    },
    {
      "cell_type": "markdown",
      "metadata": {
        "id": "hG-0MKEoSvYq",
        "colab_type": "text"
      },
      "source": [
        "* Solo necesitamos datos numéricos así que quitamos la feature del titulo de la pelicula con drop\n"
      ]
    },
    {
      "cell_type": "code",
      "metadata": {
        "id": "oCdF8K02nMu1",
        "colab_type": "code",
        "colab": {}
      },
      "source": [
        "movies_v2 = movies_v2.drop('movie_title',axis=1)"
      ],
      "execution_count": 0,
      "outputs": []
    },
    {
      "cell_type": "markdown",
      "metadata": {
        "id": "ZkVHXgC3S5HC",
        "colab_type": "text"
      },
      "source": [
        "* Igualmente si revisamos las features de nuestro dataset vemos que tenemos una de ellas duplicada y la eliminamos con el comando drop\n"
      ]
    },
    {
      "cell_type": "code",
      "metadata": {
        "id": "budQa6OJnMu5",
        "colab_type": "code",
        "colab": {}
      },
      "source": [
        "movies_v2 = movies_v2.drop('duration.1',axis=1)"
      ],
      "execution_count": 0,
      "outputs": []
    },
    {
      "cell_type": "markdown",
      "metadata": {
        "id": "WziT0J8FYAyT",
        "colab_type": "text"
      },
      "source": [
        "* Ya tenemos el dataframe solo con datos numéricos\n"
      ]
    },
    {
      "cell_type": "code",
      "metadata": {
        "id": "1YDwUwQ5nMu_",
        "colab_type": "code",
        "outputId": "f9861242-624b-4324-e1f8-9a492f5bf2d9",
        "colab": {
          "base_uri": "https://localhost:8080/",
          "height": 443
        }
      },
      "source": [
        "movies_v2"
      ],
      "execution_count": 59,
      "outputs": [
        {
          "output_type": "execute_result",
          "data": {
            "text/html": [
              "<div>\n",
              "<style scoped>\n",
              "    .dataframe tbody tr th:only-of-type {\n",
              "        vertical-align: middle;\n",
              "    }\n",
              "\n",
              "    .dataframe tbody tr th {\n",
              "        vertical-align: top;\n",
              "    }\n",
              "\n",
              "    .dataframe thead th {\n",
              "        text-align: right;\n",
              "    }\n",
              "</style>\n",
              "<table border=\"1\" class=\"dataframe\">\n",
              "  <thead>\n",
              "    <tr style=\"text-align: right;\">\n",
              "      <th></th>\n",
              "      <th>production_budget</th>\n",
              "      <th>worldwide_gross</th>\n",
              "      <th>title_year</th>\n",
              "      <th>aspect_ratio</th>\n",
              "      <th>duration</th>\n",
              "      <th>cast_total_facebook_likes</th>\n",
              "      <th>budget</th>\n",
              "      <th>imdb_score</th>\n",
              "      <th>gross</th>\n",
              "    </tr>\n",
              "  </thead>\n",
              "  <tbody>\n",
              "    <tr>\n",
              "      <th>0</th>\n",
              "      <td>425000000</td>\n",
              "      <td>2783918982</td>\n",
              "      <td>2009.0</td>\n",
              "      <td>1.78</td>\n",
              "      <td>178.0</td>\n",
              "      <td>4834</td>\n",
              "      <td>237000000.0</td>\n",
              "      <td>7.9</td>\n",
              "      <td>760505847.0</td>\n",
              "    </tr>\n",
              "    <tr>\n",
              "      <th>1</th>\n",
              "      <td>306000000</td>\n",
              "      <td>2058662225</td>\n",
              "      <td>NaN</td>\n",
              "      <td>NaN</td>\n",
              "      <td>NaN</td>\n",
              "      <td>143</td>\n",
              "      <td>NaN</td>\n",
              "      <td>7.1</td>\n",
              "      <td>NaN</td>\n",
              "    </tr>\n",
              "    <tr>\n",
              "      <th>2</th>\n",
              "      <td>300000000</td>\n",
              "      <td>963420425</td>\n",
              "      <td>2007.0</td>\n",
              "      <td>2.35</td>\n",
              "      <td>169.0</td>\n",
              "      <td>48350</td>\n",
              "      <td>300000000.0</td>\n",
              "      <td>7.1</td>\n",
              "      <td>309404152.0</td>\n",
              "    </tr>\n",
              "    <tr>\n",
              "      <th>3</th>\n",
              "      <td>300000000</td>\n",
              "      <td>879620923</td>\n",
              "      <td>2015.0</td>\n",
              "      <td>2.35</td>\n",
              "      <td>148.0</td>\n",
              "      <td>11700</td>\n",
              "      <td>245000000.0</td>\n",
              "      <td>6.8</td>\n",
              "      <td>200074175.0</td>\n",
              "    </tr>\n",
              "    <tr>\n",
              "      <th>4</th>\n",
              "      <td>275000000</td>\n",
              "      <td>1084439099</td>\n",
              "      <td>2012.0</td>\n",
              "      <td>2.35</td>\n",
              "      <td>164.0</td>\n",
              "      <td>106759</td>\n",
              "      <td>250000000.0</td>\n",
              "      <td>8.5</td>\n",
              "      <td>448130642.0</td>\n",
              "    </tr>\n",
              "    <tr>\n",
              "      <th>...</th>\n",
              "      <td>...</td>\n",
              "      <td>...</td>\n",
              "      <td>...</td>\n",
              "      <td>...</td>\n",
              "      <td>...</td>\n",
              "      <td>...</td>\n",
              "      <td>...</td>\n",
              "      <td>...</td>\n",
              "      <td>...</td>\n",
              "    </tr>\n",
              "    <tr>\n",
              "      <th>4378</th>\n",
              "      <td>7000</td>\n",
              "      <td>841926</td>\n",
              "      <td>2004.0</td>\n",
              "      <td>1.85</td>\n",
              "      <td>77.0</td>\n",
              "      <td>368</td>\n",
              "      <td>7000.0</td>\n",
              "      <td>7.0</td>\n",
              "      <td>424760.0</td>\n",
              "    </tr>\n",
              "    <tr>\n",
              "      <th>4379</th>\n",
              "      <td>7000</td>\n",
              "      <td>71644</td>\n",
              "      <td>2005.0</td>\n",
              "      <td>NaN</td>\n",
              "      <td>80.0</td>\n",
              "      <td>0</td>\n",
              "      <td>7000.0</td>\n",
              "      <td>6.3</td>\n",
              "      <td>70071.0</td>\n",
              "    </tr>\n",
              "    <tr>\n",
              "      <th>4380</th>\n",
              "      <td>7000</td>\n",
              "      <td>900</td>\n",
              "      <td>2005.0</td>\n",
              "      <td>NaN</td>\n",
              "      <td>84.0</td>\n",
              "      <td>93</td>\n",
              "      <td>3250.0</td>\n",
              "      <td>7.8</td>\n",
              "      <td>NaN</td>\n",
              "    </tr>\n",
              "    <tr>\n",
              "      <th>4382</th>\n",
              "      <td>3967</td>\n",
              "      <td>10443</td>\n",
              "      <td>2012.0</td>\n",
              "      <td>2.35</td>\n",
              "      <td>100.0</td>\n",
              "      <td>2386</td>\n",
              "      <td>NaN</td>\n",
              "      <td>6.3</td>\n",
              "      <td>10443.0</td>\n",
              "    </tr>\n",
              "    <tr>\n",
              "      <th>4384</th>\n",
              "      <td>1100</td>\n",
              "      <td>181041</td>\n",
              "      <td>2004.0</td>\n",
              "      <td>1.85</td>\n",
              "      <td>90.0</td>\n",
              "      <td>163</td>\n",
              "      <td>1100.0</td>\n",
              "      <td>6.6</td>\n",
              "      <td>85222.0</td>\n",
              "    </tr>\n",
              "  </tbody>\n",
              "</table>\n",
              "<p>4104 rows × 9 columns</p>\n",
              "</div>"
            ],
            "text/plain": [
              "      production_budget  worldwide_gross  ...  imdb_score        gross\n",
              "0             425000000       2783918982  ...         7.9  760505847.0\n",
              "1             306000000       2058662225  ...         7.1          NaN\n",
              "2             300000000        963420425  ...         7.1  309404152.0\n",
              "3             300000000        879620923  ...         6.8  200074175.0\n",
              "4             275000000       1084439099  ...         8.5  448130642.0\n",
              "...                 ...              ...  ...         ...          ...\n",
              "4378               7000           841926  ...         7.0     424760.0\n",
              "4379               7000            71644  ...         6.3      70071.0\n",
              "4380               7000              900  ...         7.8          NaN\n",
              "4382               3967            10443  ...         6.3      10443.0\n",
              "4384               1100           181041  ...         6.6      85222.0\n",
              "\n",
              "[4104 rows x 9 columns]"
            ]
          },
          "metadata": {
            "tags": []
          },
          "execution_count": 59
        }
      ]
    },
    {
      "cell_type": "markdown",
      "metadata": {
        "id": "TvnvhAgZYOE-",
        "colab_type": "text"
      },
      "source": [
        "* Usamos imputer para transformar los valores nan al promedio de toda la columna\n"
      ]
    },
    {
      "cell_type": "code",
      "metadata": {
        "id": "Mz6gWL9AnMvD",
        "colab_type": "code",
        "colab": {}
      },
      "source": [
        "values = imputer.fit_transform(movies_v2)"
      ],
      "execution_count": 0,
      "outputs": []
    },
    {
      "cell_type": "markdown",
      "metadata": {
        "id": "9BHuk2o9YWQo",
        "colab_type": "text"
      },
      "source": [
        "* Podemos ver que ya no tenemos valores nan aunque ahora están organizados de otra manera\n"
      ]
    },
    {
      "cell_type": "code",
      "metadata": {
        "id": "61P3zD3enMvI",
        "colab_type": "code",
        "outputId": "a6be7d7e-6997-41d3-a304-4aec368b0449",
        "colab": {
          "base_uri": "https://localhost:8080/",
          "height": 259
        }
      },
      "source": [
        "values"
      ],
      "execution_count": 61,
      "outputs": [
        {
          "output_type": "execute_result",
          "data": {
            "text/plain": [
              "array([[4.25000000e+08, 2.78391898e+09, 2.00900000e+03, ...,\n",
              "        2.37000000e+08, 7.90000000e+00, 7.60505847e+08],\n",
              "       [3.06000000e+08, 2.05866222e+09, 2.00213073e+03, ...,\n",
              "        4.04553863e+07, 7.10000000e+00, 4.83193329e+07],\n",
              "       [3.00000000e+08, 9.63420425e+08, 2.00700000e+03, ...,\n",
              "        3.00000000e+08, 7.10000000e+00, 3.09404152e+08],\n",
              "       ...,\n",
              "       [7.00000000e+03, 9.00000000e+02, 2.00500000e+03, ...,\n",
              "        3.25000000e+03, 7.80000000e+00, 4.83193329e+07],\n",
              "       [3.96700000e+03, 1.04430000e+04, 2.01200000e+03, ...,\n",
              "        4.04553863e+07, 6.30000000e+00, 1.04430000e+04],\n",
              "       [1.10000000e+03, 1.81041000e+05, 2.00400000e+03, ...,\n",
              "        1.10000000e+03, 6.60000000e+00, 8.52220000e+04]])"
            ]
          },
          "metadata": {
            "tags": []
          },
          "execution_count": 61
        }
      ]
    },
    {
      "cell_type": "markdown",
      "metadata": {
        "id": "KSmMKTjCYdlM",
        "colab_type": "text"
      },
      "source": [
        "* Estos son los valores del dataframe con nan para verificar que si se realizó el cambio\n"
      ]
    },
    {
      "cell_type": "code",
      "metadata": {
        "id": "-xMKZMVQnMvN",
        "colab_type": "code",
        "outputId": "7b4e5b25-c4c8-4f1d-82bc-8ca2105adcf0",
        "colab": {
          "base_uri": "https://localhost:8080/",
          "height": 259
        }
      },
      "source": [
        "movies_v2.values"
      ],
      "execution_count": 62,
      "outputs": [
        {
          "output_type": "execute_result",
          "data": {
            "text/plain": [
              "array([[4.25000000e+08, 2.78391898e+09, 2.00900000e+03, ...,\n",
              "        2.37000000e+08, 7.90000000e+00, 7.60505847e+08],\n",
              "       [3.06000000e+08, 2.05866222e+09,            nan, ...,\n",
              "                   nan, 7.10000000e+00,            nan],\n",
              "       [3.00000000e+08, 9.63420425e+08, 2.00700000e+03, ...,\n",
              "        3.00000000e+08, 7.10000000e+00, 3.09404152e+08],\n",
              "       ...,\n",
              "       [7.00000000e+03, 9.00000000e+02, 2.00500000e+03, ...,\n",
              "        3.25000000e+03, 7.80000000e+00,            nan],\n",
              "       [3.96700000e+03, 1.04430000e+04, 2.01200000e+03, ...,\n",
              "                   nan, 6.30000000e+00, 1.04430000e+04],\n",
              "       [1.10000000e+03, 1.81041000e+05, 2.00400000e+03, ...,\n",
              "        1.10000000e+03, 6.60000000e+00, 8.52220000e+04]])"
            ]
          },
          "metadata": {
            "tags": []
          },
          "execution_count": 62
        }
      ]
    },
    {
      "cell_type": "markdown",
      "metadata": {
        "id": "K4bW_U3mYsuK",
        "colab_type": "text"
      },
      "source": [
        "* Instanciamos los valores corregidos en X\n"
      ]
    },
    {
      "cell_type": "code",
      "metadata": {
        "id": "odKSZU63nMvR",
        "colab_type": "code",
        "colab": {}
      },
      "source": [
        "X = pd.DataFrame(values)"
      ],
      "execution_count": 0,
      "outputs": []
    },
    {
      "cell_type": "markdown",
      "metadata": {
        "id": "OFqZKnabY2Dh",
        "colab_type": "text"
      },
      "source": [
        "* Reorganizamos los valores de X en funcion de las features numéricas de nuestro dataframe movies_v2\n"
      ]
    },
    {
      "cell_type": "code",
      "metadata": {
        "id": "uhbEzkq2nMvU",
        "colab_type": "code",
        "colab": {}
      },
      "source": [
        "X.columns = movies_v2.columns"
      ],
      "execution_count": 0,
      "outputs": []
    },
    {
      "cell_type": "markdown",
      "metadata": {
        "id": "Ye3s_5j1Z_43",
        "colab_type": "text"
      },
      "source": [
        "* Reorganizamos los valores de x en función de los indices de movies_v2 \n"
      ]
    },
    {
      "cell_type": "code",
      "metadata": {
        "id": "vwHxtCOPnMvX",
        "colab_type": "code",
        "colab": {}
      },
      "source": [
        "X.index = movies_v2.index"
      ],
      "execution_count": 0,
      "outputs": []
    },
    {
      "cell_type": "markdown",
      "metadata": {
        "id": "xoecrJf6aKm9",
        "colab_type": "text"
      },
      "source": [
        "* Verificamos que no existan ya valores nan\n"
      ]
    },
    {
      "cell_type": "code",
      "metadata": {
        "id": "of9r7cEwnMvc",
        "colab_type": "code",
        "outputId": "5a06e814-0f8a-4f34-fa7e-3808c30bb5b1",
        "colab": {
          "base_uri": "https://localhost:8080/",
          "height": 443
        }
      },
      "source": [
        "X"
      ],
      "execution_count": 69,
      "outputs": [
        {
          "output_type": "execute_result",
          "data": {
            "text/html": [
              "<div>\n",
              "<style scoped>\n",
              "    .dataframe tbody tr th:only-of-type {\n",
              "        vertical-align: middle;\n",
              "    }\n",
              "\n",
              "    .dataframe tbody tr th {\n",
              "        vertical-align: top;\n",
              "    }\n",
              "\n",
              "    .dataframe thead th {\n",
              "        text-align: right;\n",
              "    }\n",
              "</style>\n",
              "<table border=\"1\" class=\"dataframe\">\n",
              "  <thead>\n",
              "    <tr style=\"text-align: right;\">\n",
              "      <th></th>\n",
              "      <th>production_budget</th>\n",
              "      <th>worldwide_gross</th>\n",
              "      <th>title_year</th>\n",
              "      <th>aspect_ratio</th>\n",
              "      <th>duration</th>\n",
              "      <th>cast_total_facebook_likes</th>\n",
              "      <th>budget</th>\n",
              "      <th>imdb_score</th>\n",
              "      <th>gross</th>\n",
              "    </tr>\n",
              "  </thead>\n",
              "  <tbody>\n",
              "    <tr>\n",
              "      <th>0</th>\n",
              "      <td>425000000.0</td>\n",
              "      <td>2.783919e+09</td>\n",
              "      <td>2009.000000</td>\n",
              "      <td>1.780000</td>\n",
              "      <td>178.000000</td>\n",
              "      <td>4834.0</td>\n",
              "      <td>2.370000e+08</td>\n",
              "      <td>7.9</td>\n",
              "      <td>7.605058e+08</td>\n",
              "    </tr>\n",
              "    <tr>\n",
              "      <th>1</th>\n",
              "      <td>306000000.0</td>\n",
              "      <td>2.058662e+09</td>\n",
              "      <td>2002.130733</td>\n",
              "      <td>2.126976</td>\n",
              "      <td>108.577186</td>\n",
              "      <td>143.0</td>\n",
              "      <td>4.045539e+07</td>\n",
              "      <td>7.1</td>\n",
              "      <td>4.831933e+07</td>\n",
              "    </tr>\n",
              "    <tr>\n",
              "      <th>2</th>\n",
              "      <td>300000000.0</td>\n",
              "      <td>9.634204e+08</td>\n",
              "      <td>2007.000000</td>\n",
              "      <td>2.350000</td>\n",
              "      <td>169.000000</td>\n",
              "      <td>48350.0</td>\n",
              "      <td>3.000000e+08</td>\n",
              "      <td>7.1</td>\n",
              "      <td>3.094042e+08</td>\n",
              "    </tr>\n",
              "    <tr>\n",
              "      <th>3</th>\n",
              "      <td>300000000.0</td>\n",
              "      <td>8.796209e+08</td>\n",
              "      <td>2015.000000</td>\n",
              "      <td>2.350000</td>\n",
              "      <td>148.000000</td>\n",
              "      <td>11700.0</td>\n",
              "      <td>2.450000e+08</td>\n",
              "      <td>6.8</td>\n",
              "      <td>2.000742e+08</td>\n",
              "    </tr>\n",
              "    <tr>\n",
              "      <th>4</th>\n",
              "      <td>275000000.0</td>\n",
              "      <td>1.084439e+09</td>\n",
              "      <td>2012.000000</td>\n",
              "      <td>2.350000</td>\n",
              "      <td>164.000000</td>\n",
              "      <td>106759.0</td>\n",
              "      <td>2.500000e+08</td>\n",
              "      <td>8.5</td>\n",
              "      <td>4.481306e+08</td>\n",
              "    </tr>\n",
              "    <tr>\n",
              "      <th>...</th>\n",
              "      <td>...</td>\n",
              "      <td>...</td>\n",
              "      <td>...</td>\n",
              "      <td>...</td>\n",
              "      <td>...</td>\n",
              "      <td>...</td>\n",
              "      <td>...</td>\n",
              "      <td>...</td>\n",
              "      <td>...</td>\n",
              "    </tr>\n",
              "    <tr>\n",
              "      <th>4378</th>\n",
              "      <td>7000.0</td>\n",
              "      <td>8.419260e+05</td>\n",
              "      <td>2004.000000</td>\n",
              "      <td>1.850000</td>\n",
              "      <td>77.000000</td>\n",
              "      <td>368.0</td>\n",
              "      <td>7.000000e+03</td>\n",
              "      <td>7.0</td>\n",
              "      <td>4.247600e+05</td>\n",
              "    </tr>\n",
              "    <tr>\n",
              "      <th>4379</th>\n",
              "      <td>7000.0</td>\n",
              "      <td>7.164400e+04</td>\n",
              "      <td>2005.000000</td>\n",
              "      <td>2.126976</td>\n",
              "      <td>80.000000</td>\n",
              "      <td>0.0</td>\n",
              "      <td>7.000000e+03</td>\n",
              "      <td>6.3</td>\n",
              "      <td>7.007100e+04</td>\n",
              "    </tr>\n",
              "    <tr>\n",
              "      <th>4380</th>\n",
              "      <td>7000.0</td>\n",
              "      <td>9.000000e+02</td>\n",
              "      <td>2005.000000</td>\n",
              "      <td>2.126976</td>\n",
              "      <td>84.000000</td>\n",
              "      <td>93.0</td>\n",
              "      <td>3.250000e+03</td>\n",
              "      <td>7.8</td>\n",
              "      <td>4.831933e+07</td>\n",
              "    </tr>\n",
              "    <tr>\n",
              "      <th>4382</th>\n",
              "      <td>3967.0</td>\n",
              "      <td>1.044300e+04</td>\n",
              "      <td>2012.000000</td>\n",
              "      <td>2.350000</td>\n",
              "      <td>100.000000</td>\n",
              "      <td>2386.0</td>\n",
              "      <td>4.045539e+07</td>\n",
              "      <td>6.3</td>\n",
              "      <td>1.044300e+04</td>\n",
              "    </tr>\n",
              "    <tr>\n",
              "      <th>4384</th>\n",
              "      <td>1100.0</td>\n",
              "      <td>1.810410e+05</td>\n",
              "      <td>2004.000000</td>\n",
              "      <td>1.850000</td>\n",
              "      <td>90.000000</td>\n",
              "      <td>163.0</td>\n",
              "      <td>1.100000e+03</td>\n",
              "      <td>6.6</td>\n",
              "      <td>8.522200e+04</td>\n",
              "    </tr>\n",
              "  </tbody>\n",
              "</table>\n",
              "<p>4104 rows × 9 columns</p>\n",
              "</div>"
            ],
            "text/plain": [
              "      production_budget  worldwide_gross  ...  imdb_score         gross\n",
              "0           425000000.0     2.783919e+09  ...         7.9  7.605058e+08\n",
              "1           306000000.0     2.058662e+09  ...         7.1  4.831933e+07\n",
              "2           300000000.0     9.634204e+08  ...         7.1  3.094042e+08\n",
              "3           300000000.0     8.796209e+08  ...         6.8  2.000742e+08\n",
              "4           275000000.0     1.084439e+09  ...         8.5  4.481306e+08\n",
              "...                 ...              ...  ...         ...           ...\n",
              "4378             7000.0     8.419260e+05  ...         7.0  4.247600e+05\n",
              "4379             7000.0     7.164400e+04  ...         6.3  7.007100e+04\n",
              "4380             7000.0     9.000000e+02  ...         7.8  4.831933e+07\n",
              "4382             3967.0     1.044300e+04  ...         6.3  1.044300e+04\n",
              "4384             1100.0     1.810410e+05  ...         6.6  8.522200e+04\n",
              "\n",
              "[4104 rows x 9 columns]"
            ]
          },
          "metadata": {
            "tags": []
          },
          "execution_count": 69
        }
      ]
    },
    {
      "cell_type": "markdown",
      "metadata": {
        "id": "LIjCVCTsag4O",
        "colab_type": "text"
      },
      "source": [
        "* Exportamos el resultado en formato csv"
      ]
    },
    {
      "cell_type": "code",
      "metadata": {
        "id": "-o3wsgnUnMvg",
        "colab_type": "code",
        "colab": {}
      },
      "source": [
        "X.to_csv('/content/drive/My Drive/Peliculas/X.csv',index=False)"
      ],
      "execution_count": 0,
      "outputs": []
    },
    {
      "cell_type": "code",
      "metadata": {
        "id": "BwC4WoDznMvk",
        "colab_type": "code",
        "colab": {}
      },
      "source": [
        ""
      ],
      "execution_count": 0,
      "outputs": []
    }
  ]
}