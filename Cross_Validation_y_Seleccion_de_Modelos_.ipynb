{
  "nbformat": 4,
  "nbformat_minor": 0,
  "metadata": {
    "kernelspec": {
      "display_name": "Python 3",
      "language": "python",
      "name": "python3"
    },
    "language_info": {
      "codemirror_mode": {
        "name": "ipython",
        "version": 3
      },
      "file_extension": ".py",
      "mimetype": "text/x-python",
      "name": "python",
      "nbconvert_exporter": "python",
      "pygments_lexer": "ipython3",
      "version": "3.7.6"
    },
    "colab": {
      "name": "Cross Validation y Seleccion de Modelos .ipynb",
      "provenance": [],
      "collapsed_sections": [],
      "include_colab_link": true
    }
  },
  "cells": [
    {
      "cell_type": "markdown",
      "metadata": {
        "id": "view-in-github",
        "colab_type": "text"
      },
      "source": [
        "<a href=\"https://colab.research.google.com/github/Nyota-Lab/movies/blob/Cross-Validation/Cross_Validation_y_Seleccion_de_Modelos_.ipynb\" target=\"_parent\"><img src=\"https://colab.research.google.com/assets/colab-badge.svg\" alt=\"Open In Colab\"/></a>"
      ]
    },
    {
      "cell_type": "markdown",
      "metadata": {
        "id": "sSZH9YVd-_rD",
        "colab_type": "text"
      },
      "source": [
        "#Cross Validation y Seleccion de Modelos\n",
        "##Métodos de Evaluación\n",
        "* Entre los pasos mas comunes para poder evaluar el rendimiento de un modelo tenemos:\n",
        "  * Usar train_test_split para dividir la informacion entre un conjunto de prueba y uno de entrenamiento\n",
        "  * Escoger una metrica y adecuarla a nuestro modelo tomando en cuenta la pregunta y el tipo de modelo\n",
        "  * Apoyarnos en graficos de datos para entender mejor el comportamiento de los mismos"
      ]
    },
    {
      "cell_type": "code",
      "metadata": {
        "id": "LiqdYuQJb56L",
        "colab_type": "code",
        "colab": {}
      },
      "source": [
        "%matplotlib inline\n",
        "import pandas as pd\n",
        "import numpy as np\n",
        "import matplotlib.pyplot as plt"
      ],
      "execution_count": 0,
      "outputs": []
    },
    {
      "cell_type": "code",
      "metadata": {
        "id": "s2p2PmYC_Fkr",
        "colab_type": "code",
        "outputId": "f90537b0-4dd0-4513-9934-823e14f7fb0c",
        "colab": {
          "base_uri": "https://localhost:8080/",
          "height": 131
        }
      },
      "source": [
        "from google.colab import drive\n",
        "drive.mount('/content/drive')"
      ],
      "execution_count": 0,
      "outputs": [
        {
          "output_type": "stream",
          "text": [
            "Go to this URL in a browser: https://accounts.google.com/o/oauth2/auth?client_id=947318989803-6bn6qk8qdgf4n4g3pfee6491hc0brc4i.apps.googleusercontent.com&redirect_uri=urn%3aietf%3awg%3aoauth%3a2.0%3aoob&response_type=code&scope=email%20https%3a%2f%2fwww.googleapis.com%2fauth%2fdocs.test%20https%3a%2f%2fwww.googleapis.com%2fauth%2fdrive%20https%3a%2f%2fwww.googleapis.com%2fauth%2fdrive.photos.readonly%20https%3a%2f%2fwww.googleapis.com%2fauth%2fpeopleapi.readonly\n",
            "\n",
            "Enter your authorization code:\n",
            "··········\n",
            "Mounted at /content/drive\n"
          ],
          "name": "stdout"
        }
      ]
    },
    {
      "cell_type": "code",
      "metadata": {
        "id": "dM0dmPACb56d",
        "colab_type": "code",
        "colab": {}
      },
      "source": [
        "#X = pd.read_csv(r'C:\\Users\\willi\\Documents\\Programacion\\ML\\X_openings.csv')\n",
        "path  = ('/content/drive/My Drive/Peliculas/X_openings.csv')\n",
        "X = pd.read_csv('/content/drive/My Drive/Peliculas/X_openings.csv')\n",
        "y = X['worldwide_gross']\n",
        "X = X.drop('worldwide_gross',axis=1)"
      ],
      "execution_count": 0,
      "outputs": []
    },
    {
      "cell_type": "markdown",
      "metadata": {
        "id": "jE5dFCeN_-Tt",
        "colab_type": "text"
      },
      "source": [
        "##Random State\n",
        "* Un problema cuando hacemos la creacion de conjuntos de entrenamiento y test es que siempre vamos a encontrar\n",
        "una division aleatoria, por lo tanto los resultados pueden variar entre conjuntos de entrenamiento del mismo\n",
        "dataset, para corregir esto podemos usar random_state al cual le damos un numero que podemos llamar en futuras\n",
        "interacciones\n"
      ]
    },
    {
      "cell_type": "code",
      "metadata": {
        "id": "Jc03MO9jb56s",
        "colab_type": "code",
        "colab": {}
      },
      "source": [
        "from sklearn.model_selection import train_test_split\n",
        "\n",
        "X_train, X_test, y_train, y_test = train_test_split(X,y, random_state=1)"
      ],
      "execution_count": 0,
      "outputs": []
    },
    {
      "cell_type": "markdown",
      "metadata": {
        "id": "riwj2x9tA8uY",
        "colab_type": "text"
      },
      "source": [
        "* Dividimos nuestro dataset en nuevos conjuntos de datos para verificar si son iguales"
      ]
    },
    {
      "cell_type": "code",
      "metadata": {
        "id": "jsqrXXrWb562",
        "colab_type": "code",
        "colab": {}
      },
      "source": [
        "X2_train, X2_test, y2_train, y2_test = train_test_split(X,y, random_state=1)"
      ],
      "execution_count": 0,
      "outputs": []
    },
    {
      "cell_type": "markdown",
      "metadata": {
        "id": "daGoJ818BD3p",
        "colab_type": "text"
      },
      "source": [
        "* Verificamos que ambos conjuntos son iguales"
      ]
    },
    {
      "cell_type": "code",
      "metadata": {
        "id": "cqBJ52lGb57A",
        "colab_type": "code",
        "outputId": "219f22b1-c295-46c0-f5e0-12d4646d67ca",
        "colab": {
          "base_uri": "https://localhost:8080/",
          "height": 36
        }
      },
      "source": [
        "pd.DataFrame.equals(X_train,X2_train)"
      ],
      "execution_count": 0,
      "outputs": [
        {
          "output_type": "execute_result",
          "data": {
            "text/plain": [
              "True"
            ]
          },
          "metadata": {
            "tags": []
          },
          "execution_count": 15
        }
      ]
    },
    {
      "cell_type": "markdown",
      "metadata": {
        "id": "r6jSZ_1Dfldl",
        "colab_type": "text"
      },
      "source": [
        "##Cross Validation\n",
        "* Una forma muy util de validacion de scores del dataframe es cross validation, de esta manera dividimos los conjuntos de entrenamiento y prueba en diferentes partes que se van evaluando individualmente y entregan un score dependiendo del metodo que se escogio como scoring\n",
        "* Despues de llamar el método tenemos algunos parámetros que nos pide:\n",
        "  * cv= para indicar en cuantas partes queremos dividir los datos para la cross validation, entre 5 y 10 es lo mejor, mas allá de eso no hay relevancia para el modelo\n",
        "  * scoring= es el método sobre el cual evaluamos el rendimiento de nuestro modelo"
      ]
    },
    {
      "cell_type": "code",
      "metadata": {
        "id": "x5Ifb8ffb57N",
        "colab_type": "code",
        "outputId": "07d83cf5-564b-42bf-be07-3940bddc37f0",
        "colab": {
          "base_uri": "https://localhost:8080/",
          "height": 168
        }
      },
      "source": [
        "\n",
        "from sklearn.model_selection import cross_val_score\n",
        "from sklearn.linear_model import Lasso\n",
        "\n",
        "scores = cross_val_score(Lasso(),X,y,cv=5,scoring='r2')\n",
        "scores"
      ],
      "execution_count": 0,
      "outputs": [
        {
          "output_type": "stream",
          "text": [
            "/usr/local/lib/python3.6/dist-packages/sklearn/linear_model/_coordinate_descent.py:476: ConvergenceWarning: Objective did not converge. You might want to increase the number of iterations. Duality gap: 3.3531444112586967e+18, tolerance: 8334877530886788.0\n",
            "  positive)\n",
            "/usr/local/lib/python3.6/dist-packages/sklearn/linear_model/_coordinate_descent.py:476: ConvergenceWarning: Objective did not converge. You might want to increase the number of iterations. Duality gap: 1.6937642436249027e+18, tolerance: 8653617519237807.0\n",
            "  positive)\n",
            "/usr/local/lib/python3.6/dist-packages/sklearn/linear_model/_coordinate_descent.py:476: ConvergenceWarning: Objective did not converge. You might want to increase the number of iterations. Duality gap: 2.366305050945958e+18, tolerance: 8543073557124824.0\n",
            "  positive)\n"
          ],
          "name": "stderr"
        },
        {
          "output_type": "execute_result",
          "data": {
            "text/plain": [
              "array([0.59316596, 0.68931527, 0.55383855, 0.18147236, 0.23040894])"
            ]
          },
          "metadata": {
            "tags": []
          },
          "execution_count": 16
        }
      ]
    },
    {
      "cell_type": "markdown",
      "metadata": {
        "id": "0Pv0VJZBjCQ8",
        "colab_type": "text"
      },
      "source": [
        "* Como podemos ver, nuestro score promedio es mas bajo que en anteriores interacciones, es por eso que preferimos\n",
        "hacer cross validation ya que nos entrega un score mucho mas ajustado que train_test_split"
      ]
    },
    {
      "cell_type": "code",
      "metadata": {
        "id": "DXX8GSMgb57W",
        "colab_type": "code",
        "outputId": "66b42e5a-50bd-4641-dbb0-5e2b60229afe",
        "colab": {
          "base_uri": "https://localhost:8080/",
          "height": 36
        }
      },
      "source": [
        "scores.mean()"
      ],
      "execution_count": 0,
      "outputs": [
        {
          "output_type": "execute_result",
          "data": {
            "text/plain": [
              "0.44964021745791766"
            ]
          },
          "metadata": {
            "tags": []
          },
          "execution_count": 17
        }
      ]
    },
    {
      "cell_type": "markdown",
      "metadata": {
        "id": "Orr7rCDSkz28",
        "colab_type": "text"
      },
      "source": [
        "##Seleccion de Modelos\n",
        "* Es importante tambien analizar si nuestro modelo presenta overfitting o underfitting\n",
        "  * Por lo general un sesgo alto esta ligado a underfitting\n",
        "  * Por lo general una varianza alta se liga a overfitting\n"
      ]
    },
    {
      "cell_type": "code",
      "metadata": {
        "id": "AY3OIGdmb57d",
        "colab_type": "code",
        "outputId": "4723ace6-a0df-491c-aae0-10a361c844fa",
        "colab": {
          "base_uri": "https://localhost:8080/",
          "height": 92
        }
      },
      "source": [
        "!pip install --upgrade scikit-learn"
      ],
      "execution_count": 0,
      "outputs": [
        {
          "output_type": "stream",
          "text": [
            "Requirement already up-to-date: scikit-learn in /usr/local/lib/python3.6/dist-packages (0.22.2.post1)\n",
            "Requirement already satisfied, skipping upgrade: joblib>=0.11 in /usr/local/lib/python3.6/dist-packages (from scikit-learn) (0.14.1)\n",
            "Requirement already satisfied, skipping upgrade: scipy>=0.17.0 in /usr/local/lib/python3.6/dist-packages (from scikit-learn) (1.4.1)\n",
            "Requirement already satisfied, skipping upgrade: numpy>=1.11.0 in /usr/local/lib/python3.6/dist-packages (from scikit-learn) (1.18.2)\n"
          ],
          "name": "stdout"
        }
      ]
    },
    {
      "cell_type": "markdown",
      "metadata": {
        "id": "LjaDOCbEujiw",
        "colab_type": "text"
      },
      "source": [
        "* Vamos a usar la funcion cross_validate debido a que nos entrega mas informacion que cross_validation, entre ella:\n",
        "  * Tiempos de entrenamiento\n",
        "  * Tiempos de prediccion\n",
        "  * Score de entrenamiento y de test"
      ]
    },
    {
      "cell_type": "code",
      "metadata": {
        "id": "3yTdcaksb57m",
        "colab_type": "code",
        "outputId": "2cfca634-aabe-4ee5-f4b8-d0358a6bcf0f",
        "colab": {
          "base_uri": "https://localhost:8080/",
          "height": 224
        }
      },
      "source": [
        "from sklearn.model_selection import cross_validate\n",
        "from sklearn.linear_model import Lasso\n",
        "X = pd.read_csv('/content/drive/My Drive/Peliculas/X_openings.csv')\n",
        "y = X['worldwide_gross']\n",
        "X = X.drop('worldwide_gross',axis=1)\n",
        "from sklearn.model_selection import train_test_split\n",
        "X_train, X_test, y_train, y_test = train_test_split(X,y, random_state=1)\n",
        "\n",
        "results = cross_validate(Lasso(),X,y,cv=5,return_train_score=True)\n",
        "results"
      ],
      "execution_count": 0,
      "outputs": [
        {
          "output_type": "stream",
          "text": [
            "/usr/local/lib/python3.6/dist-packages/sklearn/linear_model/_coordinate_descent.py:476: ConvergenceWarning: Objective did not converge. You might want to increase the number of iterations. Duality gap: 3.3531444112586967e+18, tolerance: 8334877530886788.0\n",
            "  positive)\n",
            "/usr/local/lib/python3.6/dist-packages/sklearn/linear_model/_coordinate_descent.py:476: ConvergenceWarning: Objective did not converge. You might want to increase the number of iterations. Duality gap: 1.6937642436249027e+18, tolerance: 8653617519237807.0\n",
            "  positive)\n",
            "/usr/local/lib/python3.6/dist-packages/sklearn/linear_model/_coordinate_descent.py:476: ConvergenceWarning: Objective did not converge. You might want to increase the number of iterations. Duality gap: 2.366305050945958e+18, tolerance: 8543073557124824.0\n",
            "  positive)\n"
          ],
          "name": "stderr"
        },
        {
          "output_type": "execute_result",
          "data": {
            "text/plain": [
              "{'fit_time': array([0.00461984, 0.03368783, 0.02545929, 0.02387142, 0.02009201]),\n",
              " 'score_time': array([0.00188708, 0.00242782, 0.0021174 , 0.00181556, 0.00201011]),\n",
              " 'test_score': array([0.59316596, 0.68931527, 0.55383855, 0.18147236, 0.23040894]),\n",
              " 'train_score': array([0.68988012, 0.77004932, 0.76604995, 0.76123379, 0.75837599])}"
            ]
          },
          "metadata": {
            "tags": []
          },
          "execution_count": 22
        }
      ]
    },
    {
      "cell_type": "markdown",
      "metadata": {
        "id": "XIzp8fTRvlEA",
        "colab_type": "text"
      },
      "source": [
        "* Como nos entrega la informacion en 5 partes distintas vamos a instanciar los resultados y sacar el promedio de cada una"
      ]
    },
    {
      "cell_type": "code",
      "metadata": {
        "id": "V_Hgf7lUb57v",
        "colab_type": "code",
        "outputId": "9d520bb0-d3d5-4818-d41f-8d2addc5c953",
        "colab": {
          "base_uri": "https://localhost:8080/",
          "height": 54
        }
      },
      "source": [
        "test_scores = results['test_score']\n",
        "train_scores = results['train_score']\n",
        "print(np.mean(train_scores))\n",
        "print(np.mean(test_scores))"
      ],
      "execution_count": 0,
      "outputs": [
        {
          "output_type": "stream",
          "text": [
            "0.7491178363039036\n",
            "0.44964021745791766\n"
          ],
          "name": "stdout"
        }
      ]
    },
    {
      "cell_type": "markdown",
      "metadata": {
        "id": "z-MCWcjzxMlB",
        "colab_type": "text"
      },
      "source": [
        "* Segun los datos anteriores, la diferencia entre los datos de entramiento y de test nos indican que existe una varianza alta, además el score de los datos de entreamiento tampoco es el que debería ser por lo cual notamos que nuestro modelo de entrenamiento no está siendo tan efectivo como debería y vamos a usar un modelo diferente \n"
      ]
    },
    {
      "cell_type": "markdown",
      "metadata": {
        "id": "lfoqJniixviD",
        "colab_type": "text"
      },
      "source": [
        "##Validation Curves\n",
        "* El nuevo modelo que vamos a usar es kneighborns el cual busca los valores \"vecinos\" y promedia su distancia del valor objetivo para encontrar la mejor respuesta"
      ]
    },
    {
      "cell_type": "code",
      "metadata": {
        "id": "pYkxrrw-b575",
        "colab_type": "code",
        "outputId": "a84c7af0-a60a-42ea-e5c8-bf4d56dbe59e",
        "colab": {
          "base_uri": "https://localhost:8080/",
          "height": 92
        }
      },
      "source": [
        "from sklearn.neighbors import KNeighborsRegressor\n",
        "cross_validate(KNeighborsRegressor(),X,y,cv=5,return_train_score=True)"
      ],
      "execution_count": 0,
      "outputs": [
        {
          "output_type": "execute_result",
          "data": {
            "text/plain": [
              "{'fit_time': array([0.00435853, 0.00301814, 0.00287032, 0.00294232, 0.00295877]),\n",
              " 'score_time': array([0.00332022, 0.00407052, 0.0039115 , 0.0038414 , 0.003335  ]),\n",
              " 'test_score': array([0.3647382 , 0.59274527, 0.21545625, 0.15143495, 0.25635077]),\n",
              " 'train_score': array([0.73553883, 0.78647652, 0.78386739, 0.77876542, 0.77477287])}"
            ]
          },
          "metadata": {
            "tags": []
          },
          "execution_count": 24
        }
      ]
    },
    {
      "cell_type": "markdown",
      "metadata": {
        "id": "hMIM7idX1A9S",
        "colab_type": "text"
      },
      "source": [
        "* Dado que los resultados fueron similares a los de Lasso, vamos a variar el parametro de vecinos que por defecto\n",
        "está en 5"
      ]
    },
    {
      "cell_type": "code",
      "metadata": {
        "id": "UdIKwkXab58P",
        "colab_type": "code",
        "outputId": "2bd1bffd-edc5-4356-d358-3c1ab56e66b4",
        "colab": {
          "base_uri": "https://localhost:8080/",
          "height": 92
        }
      },
      "source": [
        "from sklearn.neighbors import KNeighborsRegressor\n",
        "cross_validate(KNeighborsRegressor(n_neighbors=10),X,y,cv=5,return_train_score=True)"
      ],
      "execution_count": 0,
      "outputs": [
        {
          "output_type": "execute_result",
          "data": {
            "text/plain": [
              "{'fit_time': array([0.00610232, 0.00322771, 0.00315976, 0.00301933, 0.00307918]),\n",
              " 'score_time': array([0.00709271, 0.00504088, 0.00504637, 0.00436401, 0.00385714]),\n",
              " 'test_score': array([0.23553954, 0.61921355, 0.24881301, 0.1209604 , 0.2466995 ]),\n",
              " 'train_score': array([0.67830521, 0.76365722, 0.76231726, 0.75701303, 0.75061953])}"
            ]
          },
          "metadata": {
            "tags": []
          },
          "execution_count": 25
        }
      ]
    },
    {
      "cell_type": "markdown",
      "metadata": {
        "id": "MhTMwOF-1ObB",
        "colab_type": "text"
      },
      "source": [
        "* Para hacer estop de manera mas automatizada vamos a usar una curva de validacion, pero primero generamos el rango\n"
      ]
    },
    {
      "cell_type": "code",
      "metadata": {
        "id": "ncVc66vdb58a",
        "colab_type": "code",
        "outputId": "30d47b33-d3cc-47b2-9b92-c98b9170f04b",
        "colab": {
          "base_uri": "https://localhost:8080/",
          "height": 54
        }
      },
      "source": [
        "n = np.arange(2,50,2)\n",
        "n"
      ],
      "execution_count": 0,
      "outputs": [
        {
          "output_type": "execute_result",
          "data": {
            "text/plain": [
              "array([ 2,  4,  6,  8, 10, 12, 14, 16, 18, 20, 22, 24, 26, 28, 30, 32, 34,\n",
              "       36, 38, 40, 42, 44, 46, 48])"
            ]
          },
          "metadata": {
            "tags": []
          },
          "execution_count": 27
        }
      ]
    },
    {
      "cell_type": "markdown",
      "metadata": {
        "id": "1WUPdCpu1ZSd",
        "colab_type": "text"
      },
      "source": [
        "* Ahora importamos validation_curve y la ejecutamos dandole el nombre del parametro a cambiar y los valores a tomar\n"
      ]
    },
    {
      "cell_type": "code",
      "metadata": {
        "id": "9mZyOOMPb58k",
        "colab_type": "code",
        "colab": {}
      },
      "source": [
        "from sklearn.model_selection import validation_curve\n",
        "train_scores, test_scores = validation_curve(KNeighborsRegressor(),\n",
        "                                             X,\n",
        "                                             y,\n",
        "                                             param_name='n_neighbors',\n",
        "                                             param_range=n,\n",
        "                                             cv=5)"
      ],
      "execution_count": 0,
      "outputs": []
    },
    {
      "cell_type": "markdown",
      "metadata": {
        "id": "9Hqfoz5E2Fe-",
        "colab_type": "text"
      },
      "source": [
        "* Verificamos cuantos parámetros nos dio"
      ]
    },
    {
      "cell_type": "code",
      "metadata": {
        "id": "3040UWWeb58q",
        "colab_type": "code",
        "outputId": "e68fcc83-1b99-4016-cdbc-1c1d049a21cb",
        "colab": {
          "base_uri": "https://localhost:8080/",
          "height": 111
        }
      },
      "source": [
        "np.mean(train_scores,axis=1)"
      ],
      "execution_count": 0,
      "outputs": [
        {
          "output_type": "execute_result",
          "data": {
            "text/plain": [
              "array([0.86831591, 0.79120817, 0.7593398 , 0.7498298 , 0.74238245,\n",
              "       0.73284018, 0.72586058, 0.71779833, 0.71281982, 0.70976325,\n",
              "       0.70723469, 0.70502429, 0.70174649, 0.69741543, 0.69379214,\n",
              "       0.69163113, 0.68955146, 0.6862285 , 0.68321376, 0.68018032,\n",
              "       0.67885534, 0.67522056, 0.67135123, 0.66953759])"
            ]
          },
          "metadata": {
            "tags": []
          },
          "execution_count": 29
        }
      ]
    },
    {
      "cell_type": "markdown",
      "metadata": {
        "id": "uX0mnJDE2rb9",
        "colab_type": "text"
      },
      "source": [
        "* En este caso usamos la gráfica de las curvas de entrenamiento para encontrar a través de la manipulación del número de vecinos el punto en el que seoptimizaba nuestro modelo, a pesar de que con 6 vecinos las curvas se aproximan, sigue habiendo un gran margen entre ellas por lo cual todavía tenemos el problema"
      ]
    },
    {
      "cell_type": "code",
      "metadata": {
        "id": "1zhQwPZhb58x",
        "colab_type": "code",
        "outputId": "c72c8a90-9670-4e0f-c94f-5d541bcfb083",
        "colab": {
          "base_uri": "https://localhost:8080/",
          "height": 1000
        }
      },
      "source": [
        "plt.plot(np.mean(train_scores,axis=1))\n",
        "plt.plot(np.mean(test_scores,axis=1))\n",
        "plt.xticks(np.arange(25),n)"
      ],
      "execution_count": 0,
      "outputs": [
        {
          "output_type": "execute_result",
          "data": {
            "text/plain": [
              "([<matplotlib.axis.XTick at 0x7f9e18ce67f0>,\n",
              "  <matplotlib.axis.XTick at 0x7f9e18ce66a0>,\n",
              "  <matplotlib.axis.XTick at 0x7f9e1925ac50>,\n",
              "  <matplotlib.axis.XTick at 0x7f9e18ca7898>,\n",
              "  <matplotlib.axis.XTick at 0x7f9e18ca7d30>,\n",
              "  <matplotlib.axis.XTick at 0x7f9e18cb8208>,\n",
              "  <matplotlib.axis.XTick at 0x7f9e18cb86a0>,\n",
              "  <matplotlib.axis.XTick at 0x7f9e18cb8b38>,\n",
              "  <matplotlib.axis.XTick at 0x7f9e18cb8d68>,\n",
              "  <matplotlib.axis.XTick at 0x7f9e18cbe4a8>,\n",
              "  <matplotlib.axis.XTick at 0x7f9e18cbe940>,\n",
              "  <matplotlib.axis.XTick at 0x7f9e18cb8780>,\n",
              "  <matplotlib.axis.XTick at 0x7f9e18ca79e8>,\n",
              "  <matplotlib.axis.XTick at 0x7f9e18cbe898>,\n",
              "  <matplotlib.axis.XTick at 0x7f9e18cc7198>,\n",
              "  <matplotlib.axis.XTick at 0x7f9e18cc75f8>,\n",
              "  <matplotlib.axis.XTick at 0x7f9e18cc7a90>,\n",
              "  <matplotlib.axis.XTick at 0x7f9e18cc7f28>,\n",
              "  <matplotlib.axis.XTick at 0x7f9e18cce400>,\n",
              "  <matplotlib.axis.XTick at 0x7f9e18cce898>,\n",
              "  <matplotlib.axis.XTick at 0x7f9e18cced30>,\n",
              "  <matplotlib.axis.XTick at 0x7f9e18ccee10>,\n",
              "  <matplotlib.axis.XTick at 0x7f9e18cc7b38>,\n",
              "  <matplotlib.axis.XTick at 0x7f9e18ca7cf8>,\n",
              "  <matplotlib.axis.XTick at 0x7f9e18d954e0>],\n",
              " [Text(0, 0, '2'),\n",
              "  Text(0, 0, '4'),\n",
              "  Text(0, 0, '6'),\n",
              "  Text(0, 0, '8'),\n",
              "  Text(0, 0, '10'),\n",
              "  Text(0, 0, '12'),\n",
              "  Text(0, 0, '14'),\n",
              "  Text(0, 0, '16'),\n",
              "  Text(0, 0, '18'),\n",
              "  Text(0, 0, '20'),\n",
              "  Text(0, 0, '22'),\n",
              "  Text(0, 0, '24'),\n",
              "  Text(0, 0, '26'),\n",
              "  Text(0, 0, '28'),\n",
              "  Text(0, 0, '30'),\n",
              "  Text(0, 0, '32'),\n",
              "  Text(0, 0, '34'),\n",
              "  Text(0, 0, '36'),\n",
              "  Text(0, 0, '38'),\n",
              "  Text(0, 0, '40'),\n",
              "  Text(0, 0, '42'),\n",
              "  Text(0, 0, '44'),\n",
              "  Text(0, 0, '46'),\n",
              "  Text(0, 0, '48')])"
            ]
          },
          "metadata": {
            "tags": []
          },
          "execution_count": 30
        },
        {
          "output_type": "display_data",
          "data": {
            "image/png": "[encoded data removed]",
            "text/plain": [
              "<Figure size 432x288 with 1 Axes>"
            ]
          },
          "metadata": {
            "tags": []
          }
        }
      ]
    },
    {
      "cell_type": "markdown",
      "metadata": {
        "id": "WxtRNFBB5g8M",
        "colab_type": "text"
      },
      "source": [
        "##Learning Curves\n",
        "* Con la informacion obtenida de Validation Curve vamos a usar las curvas de aprendizaje para mejorar nuestro modelo:\n",
        "  * Primero importamos el modelo y lo instanciamos usando la cantidad de vecinos que mejor resultado nos dió en el anterior modelo\n",
        "  *  El primer valor [0] nos indica la cantidad de muestras que está tomando en cada grupo de cv\n",
        "  * El segundo valor son los scores de nuestro conjunto de train y como cambian con cada iteración\n",
        "  * El tercero son los valores de test y su score"
      ]
    },
    {
      "cell_type": "code",
      "metadata": {
        "id": "f6qYYTdRb583",
        "colab_type": "code",
        "outputId": "047ad4e4-d3d5-487f-a648-61ee29f85a90",
        "colab": {
          "base_uri": "https://localhost:8080/",
          "height": 316
        }
      },
      "source": [
        "from sklearn.model_selection import learning_curve\n",
        "lc = learning_curve(KNeighborsRegressor(n_neighbors=6),X,y,cv=5)\n",
        "lc"
      ],
      "execution_count": 0,
      "outputs": [
        {
          "output_type": "execute_result",
          "data": {
            "text/plain": [
              "(array([ 177,  577,  976, 1376, 1776]),\n",
              " array([[0.73137814, 0.54347388, 0.54347388, 0.54347388, 0.54347388],\n",
              "        [0.7172216 , 0.6874683 , 0.67612525, 0.67612525, 0.67612525],\n",
              "        [0.72048185, 0.74489894, 0.7303819 , 0.7216836 , 0.7216836 ],\n",
              "        [0.71867144, 0.76263478, 0.7569267 , 0.74900356, 0.74853204],\n",
              "        [0.71882872, 0.77524359, 0.77285199, 0.76729186, 0.76245665]]),\n",
              " array([[ 3.33418389e-01, -1.59695814e+00, -8.82111210e+00,\n",
              "         -1.86782000e+01, -2.29247727e+01],\n",
              "        [ 3.54518984e-01,  5.82744244e-01,  2.74286697e-01,\n",
              "         -2.09063033e-01, -1.90604803e-01],\n",
              "        [ 3.53902555e-01,  5.94866605e-01,  1.62689828e-01,\n",
              "         -3.52114650e-01, -3.12381914e-01],\n",
              "        [ 3.53902555e-01,  5.92497990e-01,  1.60518983e-01,\n",
              "          6.23338761e-02, -2.06197589e-02],\n",
              "        [ 3.52641569e-01,  5.98627520e-01,  2.06512855e-01,\n",
              "          1.45302738e-01,  2.29903192e-01]]))"
            ]
          },
          "metadata": {
            "tags": []
          },
          "execution_count": 35
        }
      ]
    },
    {
      "cell_type": "markdown",
      "metadata": {
        "id": "XTpr-oLS73nT",
        "colab_type": "text"
      },
      "source": [
        "* Vamos a crear tres grupos de acuerdo a los conjuntos de resultados anteriores y generar un gráfico"
      ]
    },
    {
      "cell_type": "code",
      "metadata": {
        "id": "B9MBJy5mb58-",
        "colab_type": "code",
        "outputId": "5becd18e-f581-41d8-c41e-163077eaa96e",
        "colab": {
          "base_uri": "https://localhost:8080/",
          "height": 284
        }
      },
      "source": [
        "samples, train, test = lc[0],lc[1],lc[2]\n",
        "plt.plot(samples,np.mean(train,axis=1))\n",
        "plt.plot(samples,np.mean(test,axis=1))"
      ],
      "execution_count": 0,
      "outputs": [
        {
          "output_type": "execute_result",
          "data": {
            "text/plain": [
              "[<matplotlib.lines.Line2D at 0x7f9e183b1860>]"
            ]
          },
          "metadata": {
            "tags": []
          },
          "execution_count": 36
        },
        {
          "output_type": "display_data",
          "data": {
            "image/png": "[encoded data removed]",
            "text/plain": [
              "<Figure size 432x288 with 1 Axes>"
            ]
          },
          "metadata": {
            "tags": []
          }
        }
      ]
    },
    {
      "cell_type": "markdown",
      "metadata": {
        "id": "dFXBjP5782Xf",
        "colab_type": "text"
      },
      "source": [
        "* El problema en el gráfico anterior es que el primer valor al ser muy bajo no permite observar de mejor manera las variaciones del resto de valores, por lo tanto vamos a cortar ese primer valor de nuestro grafico"
      ]
    },
    {
      "cell_type": "code",
      "metadata": {
        "id": "bsvly6Id9IPx",
        "colab_type": "code",
        "outputId": "5612ca45-7bfb-4f45-d1a2-780af450d276",
        "colab": {
          "base_uri": "https://localhost:8080/",
          "height": 284
        }
      },
      "source": [
        "plt.plot(samples[1:],np.mean(train,axis=1)[1:])\n",
        "plt.plot(samples[1:],np.mean(test,axis=1)[1:])"
      ],
      "execution_count": 0,
      "outputs": [
        {
          "output_type": "execute_result",
          "data": {
            "text/plain": [
              "[<matplotlib.lines.Line2D at 0x7f9e181b30f0>]"
            ]
          },
          "metadata": {
            "tags": []
          },
          "execution_count": 37
        },
        {
          "output_type": "display_data",
          "data": {
            "image/png": "[encoded data removed]",
            "text/plain": [
              "<Figure size 432x288 with 1 Axes>"
            ]
          },
          "metadata": {
            "tags": []
          }
        }
      ]
    },
    {
      "cell_type": "markdown",
      "metadata": {
        "id": "RBEpSS-4-WJS",
        "colab_type": "text"
      },
      "source": [
        "* Entonces en este caso nuestro modelo si está aprendiendo pero por el momento la unica forma de poder mejorar el modelo es suministrandole mas datos, desafortunadamente va a ser muy dificil conseguirlos.\n",
        "* Kneighbors es un buen modelo para ML pero depende mucho de los datos"
      ]
    },
    {
      "cell_type": "markdown",
      "metadata": {
        "id": "W1RPAQPQ-wwm",
        "colab_type": "text"
      },
      "source": [
        "##Como solucionar Overfittiing y Underfitting\n",
        "* Para casos de Overfitting (Varianza alta):\n",
        "  * Conseguir mas datos\n",
        "  * Reducir la cantidad de features\n",
        "  * Aumentar el coeficiente de regularización (modificar las variables de nuestro modelo\n",
        "\n",
        "* Para casos de Underfitting (Desviacion o Bias alta):\n",
        "  * Aumentar las features\n",
        "  * Hacer el modelo mas complejo\n",
        "\n",
        "* Para un mal resultado en general:\n",
        "  * Probar otro algoritmo o verificar la informacion del dataset"
      ]
    }
  ]
}