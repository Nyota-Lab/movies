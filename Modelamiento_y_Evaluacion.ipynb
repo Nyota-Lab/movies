{
  "nbformat": 4,
  "nbformat_minor": 0,
  "metadata": {
    "kernelspec": {
      "display_name": "Python 3",
      "language": "python",
      "name": "python3"
    },
    "language_info": {
      "codemirror_mode": {
        "name": "ipython",
        "version": 3
      },
      "file_extension": ".py",
      "mimetype": "text/x-python",
      "name": "python",
      "nbconvert_exporter": "python",
      "pygments_lexer": "ipython3",
      "version": "3.7.6"
    },
    "colab": {
      "name": "Modelamiento y Evaluacion.ipynb",
      "provenance": [],
      "collapsed_sections": [],
      "toc_visible": true,
      "include_colab_link": true
    }
  },
  "cells": [
    {
      "cell_type": "markdown",
      "metadata": {
        "id": "view-in-github",
        "colab_type": "text"
      },
      "source": [
        "<a href=\"https://colab.research.google.com/github/Nyota-Lab/movies/blob/Modelamiento-y-Evaluacion/Modelamiento_y_Evaluacion.ipynb\" target=\"_parent\"><img src=\"https://colab.research.google.com/assets/colab-badge.svg\" alt=\"Open In Colab\"/></a>"
      ]
    },
    {
      "cell_type": "markdown",
      "metadata": {
        "id": "sNrePvsLNrQC",
        "colab_type": "text"
      },
      "source": [
        "#Proceso de modelamiento y evaluacion en ML"
      ]
    },
    {
      "cell_type": "markdown",
      "metadata": {
        "id": "w8vybNe6NgUe",
        "colab_type": "text"
      },
      "source": [
        "##Importacion de librerias"
      ]
    },
    {
      "cell_type": "code",
      "metadata": {
        "id": "vMzc-bJsMksC",
        "colab_type": "code",
        "colab": {}
      },
      "source": [
        "import numpy as np\n",
        "import pandas as pd"
      ],
      "execution_count": 0,
      "outputs": []
    },
    {
      "cell_type": "markdown",
      "metadata": {
        "id": "OPRr52zJOk_S",
        "colab_type": "text"
      },
      "source": [
        "* Cargamos nuestro dataframe, primero haciendo la autenticacion con drive"
      ]
    },
    {
      "cell_type": "code",
      "metadata": {
        "id": "OPghtVLiMksT",
        "colab_type": "code",
        "colab": {
          "base_uri": "https://localhost:8080/",
          "height": 130
        },
        "outputId": "e7292568-9a0a-4c94-8238-8ec552180be0"
      },
      "source": [
        "#x = pd.read_csv(r'C:\\Users\\willi\\Documents\\Programacion\\ML\\x.csv')\n",
        "from google.colab import drive\n",
        "drive.mount('/content/drive')"
      ],
      "execution_count": 3,
      "outputs": [
        {
          "output_type": "stream",
          "text": [
            "Go to this URL in a browser: https://accounts.google.com/o/oauth2/auth?client_id=947318989803-6bn6qk8qdgf4n4g3pfee6491hc0brc4i.apps.googleusercontent.com&redirect_uri=urn%3aietf%3awg%3aoauth%3a2.0%3aoob&response_type=code&scope=email%20https%3a%2f%2fwww.googleapis.com%2fauth%2fdocs.test%20https%3a%2f%2fwww.googleapis.com%2fauth%2fdrive%20https%3a%2f%2fwww.googleapis.com%2fauth%2fdrive.photos.readonly%20https%3a%2f%2fwww.googleapis.com%2fauth%2fpeopleapi.readonly\n",
            "\n",
            "Enter your authorization code:\n",
            "··········\n",
            "Mounted at /content/drive\n"
          ],
          "name": "stdout"
        }
      ]
    },
    {
      "cell_type": "markdown",
      "metadata": {
        "id": "ZWGGB15xPbry",
        "colab_type": "text"
      },
      "source": [
        "* Ya podemos llamar al archivo csv e instanciarlo"
      ]
    },
    {
      "cell_type": "code",
      "metadata": {
        "id": "nhI758yxOzWN",
        "colab_type": "code",
        "colab": {}
      },
      "source": [
        "path = ('/content/drive/My Drive/Peliculas/X.csv')\n",
        "X = pd.read_csv('/content/drive/My Drive/Peliculas/X.csv')"
      ],
      "execution_count": 0,
      "outputs": []
    },
    {
      "cell_type": "markdown",
      "metadata": {
        "id": "JdWJXLluQ5fI",
        "colab_type": "text"
      },
      "source": [
        "##Dividiendo el dataset\n",
        "* Para poder continuar con el proceso de modelamiento debemos aislar nuestra feature objetivo del resto del dataset y la instanciamos"
      ]
    },
    {
      "cell_type": "code",
      "metadata": {
        "id": "W8-Ovvu4Mksi",
        "colab_type": "code",
        "colab": {}
      },
      "source": [
        "y = X['worldwide_gross']"
      ],
      "execution_count": 0,
      "outputs": []
    },
    {
      "cell_type": "markdown",
      "metadata": {
        "id": "OrWgfUrTRbQ9",
        "colab_type": "text"
      },
      "source": [
        "* Ya que hemos separado la variable objetivo la sacamos de nuestro dataset original para no tener duplicados y problemas en el rendimiento del modelo a futuro"
      ]
    },
    {
      "cell_type": "code",
      "metadata": {
        "id": "0Eo7RoC3Mksu",
        "colab_type": "code",
        "colab": {}
      },
      "source": [
        "X = X.drop('worldwide_gross',axis=1)"
      ],
      "execution_count": 0,
      "outputs": []
    },
    {
      "cell_type": "code",
      "metadata": {
        "id": "9qTINxc4Mks5",
        "colab_type": "code",
        "outputId": "77c371ff-8e27-4e2b-a5f2-e77b932b49a2",
        "colab": {
          "base_uri": "https://localhost:8080/",
          "height": 226
        }
      },
      "source": [
        "X.head()"
      ],
      "execution_count": 8,
      "outputs": [
        {
          "output_type": "execute_result",
          "data": {
            "text/html": [
              "<div>\n",
              "<style scoped>\n",
              "    .dataframe tbody tr th:only-of-type {\n",
              "        vertical-align: middle;\n",
              "    }\n",
              "\n",
              "    .dataframe tbody tr th {\n",
              "        vertical-align: top;\n",
              "    }\n",
              "\n",
              "    .dataframe thead th {\n",
              "        text-align: right;\n",
              "    }\n",
              "</style>\n",
              "<table border=\"1\" class=\"dataframe\">\n",
              "  <thead>\n",
              "    <tr style=\"text-align: right;\">\n",
              "      <th></th>\n",
              "      <th>production_budget</th>\n",
              "      <th>title_year</th>\n",
              "      <th>aspect_ratio</th>\n",
              "      <th>duration</th>\n",
              "      <th>cast_total_facebook_likes</th>\n",
              "      <th>budget</th>\n",
              "      <th>imdb_score</th>\n",
              "      <th>gross</th>\n",
              "    </tr>\n",
              "  </thead>\n",
              "  <tbody>\n",
              "    <tr>\n",
              "      <th>0</th>\n",
              "      <td>425000000.0</td>\n",
              "      <td>2009.000000</td>\n",
              "      <td>1.780000</td>\n",
              "      <td>178.000000</td>\n",
              "      <td>4834.0</td>\n",
              "      <td>2.370000e+08</td>\n",
              "      <td>7.9</td>\n",
              "      <td>7.605058e+08</td>\n",
              "    </tr>\n",
              "    <tr>\n",
              "      <th>1</th>\n",
              "      <td>306000000.0</td>\n",
              "      <td>2002.130733</td>\n",
              "      <td>2.126976</td>\n",
              "      <td>108.577186</td>\n",
              "      <td>143.0</td>\n",
              "      <td>4.045539e+07</td>\n",
              "      <td>7.1</td>\n",
              "      <td>4.831933e+07</td>\n",
              "    </tr>\n",
              "    <tr>\n",
              "      <th>2</th>\n",
              "      <td>300000000.0</td>\n",
              "      <td>2007.000000</td>\n",
              "      <td>2.350000</td>\n",
              "      <td>169.000000</td>\n",
              "      <td>48350.0</td>\n",
              "      <td>3.000000e+08</td>\n",
              "      <td>7.1</td>\n",
              "      <td>3.094042e+08</td>\n",
              "    </tr>\n",
              "    <tr>\n",
              "      <th>3</th>\n",
              "      <td>300000000.0</td>\n",
              "      <td>2015.000000</td>\n",
              "      <td>2.350000</td>\n",
              "      <td>148.000000</td>\n",
              "      <td>11700.0</td>\n",
              "      <td>2.450000e+08</td>\n",
              "      <td>6.8</td>\n",
              "      <td>2.000742e+08</td>\n",
              "    </tr>\n",
              "    <tr>\n",
              "      <th>4</th>\n",
              "      <td>275000000.0</td>\n",
              "      <td>2012.000000</td>\n",
              "      <td>2.350000</td>\n",
              "      <td>164.000000</td>\n",
              "      <td>106759.0</td>\n",
              "      <td>2.500000e+08</td>\n",
              "      <td>8.5</td>\n",
              "      <td>4.481306e+08</td>\n",
              "    </tr>\n",
              "  </tbody>\n",
              "</table>\n",
              "</div>"
            ],
            "text/plain": [
              "   production_budget   title_year  ...  imdb_score         gross\n",
              "0        425000000.0  2009.000000  ...         7.9  7.605058e+08\n",
              "1        306000000.0  2002.130733  ...         7.1  4.831933e+07\n",
              "2        300000000.0  2007.000000  ...         7.1  3.094042e+08\n",
              "3        300000000.0  2015.000000  ...         6.8  2.000742e+08\n",
              "4        275000000.0  2012.000000  ...         8.5  4.481306e+08\n",
              "\n",
              "[5 rows x 8 columns]"
            ]
          },
          "metadata": {
            "tags": []
          },
          "execution_count": 8
        }
      ]
    },
    {
      "cell_type": "markdown",
      "metadata": {
        "id": "pGFcEjzCRz7t",
        "colab_type": "text"
      },
      "source": [
        "##Division de train_ser y test_set\n",
        "\n",
        "* Para poder entrenar el modelo de prediccion a usar vamos a implementar el aprensizaje supervisado, y para este fin se dividirá el dataframe en dos categorias\n",
        "    * X_train, y_train van a ser los conjuntos de entrenamieto\n",
        "    * X_test, y_test vana aser los conjuntos de prueba\n",
        "\n",
        "* Para esto usamos train_test_split que nos permite creat conjuntos train y test con un porcentaje del total\n",
        "\n",
        "\n",
        "\n",
        "\n"
      ]
    },
    {
      "cell_type": "code",
      "metadata": {
        "id": "n505c9sUMktE",
        "colab_type": "code",
        "colab": {}
      },
      "source": [
        "from sklearn.model_selection import train_test_split\n",
        "X_train, X_test, y_train, y_test = train_test_split(X,y,test_size=0.4)"
      ],
      "execution_count": 0,
      "outputs": []
    },
    {
      "cell_type": "code",
      "metadata": {
        "id": "VqGMlRNzMktO",
        "colab_type": "code",
        "outputId": "9364f67e-b80d-47c5-f801-20733727ec9d",
        "colab": {
          "base_uri": "https://localhost:8080/",
          "height": 73
        }
      },
      "source": [
        "print(len(X))\n",
        "print(len(X_train))\n",
        "print(len(X_test))"
      ],
      "execution_count": 10,
      "outputs": [
        {
          "output_type": "stream",
          "text": [
            "4104\n",
            "2462\n",
            "1642\n"
          ],
          "name": "stdout"
        }
      ]
    },
    {
      "cell_type": "markdown",
      "metadata": {
        "id": "LYAzJ_fwS9Rq",
        "colab_type": "text"
      },
      "source": [
        "##Primera regresion\n",
        "\n",
        "* Para esta primera regresion vamos a usar el metodo Lasso"
      ]
    },
    {
      "cell_type": "code",
      "metadata": {
        "id": "Dx8nUzv4MktW",
        "colab_type": "code",
        "colab": {}
      },
      "source": [
        "from sklearn.linear_model import Lasso\n",
        "model = Lasso()"
      ],
      "execution_count": 0,
      "outputs": []
    },
    {
      "cell_type": "markdown",
      "metadata": {
        "id": "DbCGul-jTJ5p",
        "colab_type": "text"
      },
      "source": [
        "* Una vez instanciado el metodo Lasso podemos realizar el primer entrenamiento del modelo usando los conjuntos train y llamando a .fit"
      ]
    },
    {
      "cell_type": "code",
      "metadata": {
        "id": "HFhobZa7Mktg",
        "colab_type": "code",
        "outputId": "e6ec2d11-1412-43d3-8be8-4d0fb18d0a79",
        "colab": {
          "base_uri": "https://localhost:8080/",
          "height": 73
        }
      },
      "source": [
        "model.fit(X_train,y_train)"
      ],
      "execution_count": 13,
      "outputs": [
        {
          "output_type": "execute_result",
          "data": {
            "text/plain": [
              "Lasso(alpha=1.0, copy_X=True, fit_intercept=True, max_iter=1000,\n",
              "      normalize=False, positive=False, precompute=False, random_state=None,\n",
              "      selection='cyclic', tol=0.0001, warm_start=False)"
            ]
          },
          "metadata": {
            "tags": []
          },
          "execution_count": 13
        }
      ]
    },
    {
      "cell_type": "markdown",
      "metadata": {
        "id": "0e2js4mlTnB9",
        "colab_type": "text"
      },
      "source": [
        "* Con el modelo entrenado usamos el conjunto de test para evaluar el entrenamiento y para esto lo instanciamos dentro de una variable llamada predicted"
      ]
    },
    {
      "cell_type": "code",
      "metadata": {
        "id": "CXrnYpl-Mktp",
        "colab_type": "code",
        "colab": {}
      },
      "source": [
        "predicted = model.predict(X_test)"
      ],
      "execution_count": 0,
      "outputs": []
    },
    {
      "cell_type": "markdown",
      "metadata": {
        "id": "fkMcePl7UB-_",
        "colab_type": "text"
      },
      "source": [
        "* Consultamos la dimension de predicted para verificar que coincide con el tamaño de nuestro conjunto test"
      ]
    },
    {
      "cell_type": "code",
      "metadata": {
        "id": "1ILkwnviMktz",
        "colab_type": "code",
        "outputId": "16e72e2a-598d-45ea-e027-22d0cd4419b9",
        "colab": {
          "base_uri": "https://localhost:8080/",
          "height": 36
        }
      },
      "source": [
        "predicted.shape"
      ],
      "execution_count": 18,
      "outputs": [
        {
          "output_type": "execute_result",
          "data": {
            "text/plain": [
              "(1642,)"
            ]
          },
          "metadata": {
            "tags": []
          },
          "execution_count": 18
        }
      ]
    },
    {
      "cell_type": "markdown",
      "metadata": {
        "id": "oKIuCTqTUv4-",
        "colab_type": "text"
      },
      "source": [
        "##Evaluacion del modelo\n",
        "* Realizamos una primera inspeccion visual del comportamiento del modelo con los datos de entrenamiento y los de prueba\n",
        "* Observamos que el conjunto de entrenamiento y el de prueba no tienen grandes diferencias en su representacion grafica, lo cual nos indica que la prediccion se acerca a los valores reales"
      ]
    },
    {
      "cell_type": "code",
      "metadata": {
        "id": "HglDw1t5Mkt9",
        "colab_type": "code",
        "outputId": "c2559a41-04f3-4b9b-9a5f-8d4932d48448",
        "colab": {
          "base_uri": "https://localhost:8080/",
          "height": 427
        }
      },
      "source": [
        "import matplotlib.pyplot as plt\n",
        "%matplotlib inline\n",
        "\n",
        "plt.hist([predicted,y_test])"
      ],
      "execution_count": 20,
      "outputs": [
        {
          "output_type": "execute_result",
          "data": {
            "text/plain": [
              "([array([1.37e+03, 2.12e+02, 4.00e+01, 1.80e+01, 1.00e+00, 0.00e+00,\n",
              "         0.00e+00, 1.00e+00, 0.00e+00, 0.00e+00]),\n",
              "  array([1.419e+03, 1.610e+02, 3.300e+01, 2.100e+01, 5.000e+00, 1.000e+00,\n",
              "         0.000e+00, 1.000e+00, 0.000e+00, 1.000e+00])],\n",
              " array([-1.07043290e+08,  1.82052937e+08,  4.71149164e+08,  7.60245392e+08,\n",
              "         1.04934162e+09,  1.33843785e+09,  1.62753407e+09,  1.91663030e+09,\n",
              "         2.20572653e+09,  2.49482275e+09,  2.78391898e+09]),\n",
              " <a list of 2 Lists of Patches objects>)"
            ]
          },
          "metadata": {
            "tags": []
          },
          "execution_count": 20
        },
        {
          "output_type": "display_data",
          "data": {
            "image/png": "[encoded data removed]",
            "text/plain": [
              "<Figure size 432x288 with 1 Axes>"
            ]
          },
          "metadata": {
            "tags": []
          }
        }
      ]
    },
    {
      "cell_type": "markdown",
      "metadata": {
        "id": "RPKK61WyXhI1",
        "colab_type": "text"
      },
      "source": [
        "* Dado que la evaluacion visual arroja buenos resultados procedemos a usar el R2 para cuantificar la precision de nuestro modelo"
      ]
    },
    {
      "cell_type": "code",
      "metadata": {
        "id": "uWDo-XuCMkuH",
        "colab_type": "code",
        "outputId": "c15fac31-4f23-4fb0-bd14-27faa096c4b8",
        "colab": {
          "base_uri": "https://localhost:8080/",
          "height": 36
        }
      },
      "source": [
        "model.score(X_test,y_test)"
      ],
      "execution_count": 22,
      "outputs": [
        {
          "output_type": "execute_result",
          "data": {
            "text/plain": [
              "0.8385987055265401"
            ]
          },
          "metadata": {
            "tags": []
          },
          "execution_count": 22
        }
      ]
    },
    {
      "cell_type": "markdown",
      "metadata": {
        "id": "ZuHhFY3_Zr7T",
        "colab_type": "text"
      },
      "source": [
        "* Aunque nuestro R2 sea bastante positivo siempre es recomendable hacer una inspeccion visual de las diferencias entre la preddcion y el conjunto de entrenamiento\n",
        "* Para esto podemos usar los residuales que son la diferencia entre la prediccion del modelo y el conjunto de entrenamiento"
      ]
    },
    {
      "cell_type": "code",
      "metadata": {
        "id": "wLbCcqHEMkuX",
        "colab_type": "code",
        "colab": {}
      },
      "source": [
        "residuals = y_test - predicted"
      ],
      "execution_count": 0,
      "outputs": []
    },
    {
      "cell_type": "markdown",
      "metadata": {
        "id": "vjVOs7ToaLmk",
        "colab_type": "text"
      },
      "source": [
        "* Generamaos una representacion gráfica para ver los errores"
      ]
    },
    {
      "cell_type": "code",
      "metadata": {
        "id": "luXhFNn4Mkue",
        "colab_type": "code",
        "outputId": "b7e68648-5a6b-4d7b-ac97-ddecc7f72de7",
        "colab": {
          "base_uri": "https://localhost:8080/",
          "height": 308
        }
      },
      "source": [
        "plt.scatter(y_test,residuals)"
      ],
      "execution_count": 24,
      "outputs": [
        {
          "output_type": "execute_result",
          "data": {
            "text/plain": [
              "<matplotlib.collections.PathCollection at 0x7f13e303ff60>"
            ]
          },
          "metadata": {
            "tags": []
          },
          "execution_count": 24
        },
        {
          "output_type": "display_data",
          "data": {
            "image/png": "[encoded data removed]",
            "text/plain": [
              "<Figure size 432x288 with 1 Axes>"
            ]
          },
          "metadata": {
            "tags": []
          }
        }
      ]
    },
    {
      "cell_type": "markdown",
      "metadata": {
        "id": "BpHzmXypaxME",
        "colab_type": "text"
      },
      "source": [
        "* Vemos una gran cantidad de datos agrupados en un solo sector y algunos mas dispersos, para hacernos una mejor idea de los posibles errores vamos a transformarlo en un valor porcentual"
      ]
    },
    {
      "cell_type": "code",
      "metadata": {
        "id": "mqbhiU5HMkul",
        "colab_type": "code",
        "colab": {
          "base_uri": "https://localhost:8080/",
          "height": 297
        },
        "outputId": "555c17b8-4242-4e29-b588-06638ee5748a"
      },
      "source": [
        "ap_residuals = np.abs(residuals) / y_test\n",
        "plt.scatter(y_test, ap_residuals)"
      ],
      "execution_count": 25,
      "outputs": [
        {
          "output_type": "execute_result",
          "data": {
            "text/plain": [
              "<matplotlib.collections.PathCollection at 0x7f13e2fb3358>"
            ]
          },
          "metadata": {
            "tags": []
          },
          "execution_count": 25
        },
        {
          "output_type": "display_data",
          "data": {
            "image/png": "[encoded data removed]",
            "text/plain": [
              "<Figure size 432x288 with 1 Axes>"
            ]
          },
          "metadata": {
            "tags": []
          }
        }
      ]
    },
    {
      "cell_type": "markdown",
      "metadata": {
        "id": "5hFOCHKKbP3Q",
        "colab_type": "text"
      },
      "source": [
        "* En este caso los valores de los ejes son muy grandes y por eso puede llefar a dificultarse la interpretacion de los mismos, para generar un grafico que nos pueda dar una mejor comprension podemos usar una escala logaritmica"
      ]
    },
    {
      "cell_type": "code",
      "metadata": {
        "id": "Rx7_ORLrMku0",
        "colab_type": "code",
        "colab": {
          "base_uri": "https://localhost:8080/",
          "height": 297
        },
        "outputId": "44fab14f-51bb-4b30-fbcc-a1296e94a072"
      },
      "source": [
        "lap_residuals = np.log(ap_residuals)\n",
        "plt.scatter(y_test, lap_residuals)"
      ],
      "execution_count": 26,
      "outputs": [
        {
          "output_type": "execute_result",
          "data": {
            "text/plain": [
              "<matplotlib.collections.PathCollection at 0x7f13e2f54208>"
            ]
          },
          "metadata": {
            "tags": []
          },
          "execution_count": 26
        },
        {
          "output_type": "display_data",
          "data": {
            "image/png": "[encoded data removed]",
            "text/plain": [
              "<Figure size 432x288 with 1 Axes>"
            ]
          },
          "metadata": {
            "tags": []
          }
        }
      ]
    },
    {
      "cell_type": "markdown",
      "metadata": {
        "id": "IiAea9PVb3h7",
        "colab_type": "text"
      },
      "source": [
        "* A través de estas represnetaciones gráficas podemos verificar de forma visual el rendimiento reflejado en nuestro R2"
      ]
    },
    {
      "cell_type": "code",
      "metadata": {
        "id": "jyiy4e3QMkvC",
        "colab_type": "code",
        "outputId": "0c3bb6ec-1308-47ce-bba0-39d1b511d39e",
        "colab": {
          "base_uri": "https://localhost:8080/",
          "height": 265
        }
      },
      "source": [
        "plt.hist(lap_residuals,bins=100, density=1, histtype='step', cumulative=True);"
      ],
      "execution_count": 27,
      "outputs": [
        {
          "output_type": "display_data",
          "data": {
            "image/png": "[encoded data removed]",
            "text/plain": [
              "<Figure size 432x288 with 1 Axes>"
            ]
          },
          "metadata": {
            "tags": []
          }
        }
      ]
    }
  ]
}