{
  "nbformat": 4,
  "nbformat_minor": 0,
  "metadata": {
    "kernelspec": {
      "display_name": "Python 3",
      "language": "python",
      "name": "python3"
    },
    "language_info": {
      "codemirror_mode": {
        "name": "ipython",
        "version": 3
      },
      "file_extension": ".py",
      "mimetype": "text/x-python",
      "name": "python",
      "nbconvert_exporter": "python",
      "pygments_lexer": "ipython3",
      "version": "3.7.6"
    },
    "colab": {
      "name": "Modelamiento y Evaluacion.ipynb",
      "provenance": [],
      "include_colab_link": true
    }
  },
  "cells": [
    {
      "cell_type": "markdown",
      "metadata": {
        "id": "view-in-github",
        "colab_type": "text"
      },
      "source": [
        "<a href=\"https://colab.research.google.com/github/Nyota-Lab/movies/blob/Modelamiento-y-Evaluacion/Modelamiento_y_Evaluacion.ipynb\" target=\"_parent\"><img src=\"https://colab.research.google.com/assets/colab-badge.svg\" alt=\"Open In Colab\"/></a>"
      ]
    },
    {
      "cell_type": "code",
      "metadata": {
        "id": "vMzc-bJsMksC",
        "colab_type": "code",
        "colab": {}
      },
      "source": [
        "#empezamos importando las librerias\n",
        "import numpy as np\n",
        "import pandas as pd"
      ],
      "execution_count": 0,
      "outputs": []
    },
    {
      "cell_type": "code",
      "metadata": {
        "id": "OPghtVLiMksT",
        "colab_type": "code",
        "colab": {}
      },
      "source": [
        "#cargamos nuestro dataframe\n",
        "x = pd.read_csv(r'C:\\Users\\willi\\Documents\\Programacion\\ML\\x.csv')"
      ],
      "execution_count": 0,
      "outputs": []
    },
    {
      "cell_type": "code",
      "metadata": {
        "id": "W8-Ovvu4Mksi",
        "colab_type": "code",
        "colab": {}
      },
      "source": [
        "#asignamos nuestra columna objetivo a Y\n",
        "y = x['worldwide_gross']"
      ],
      "execution_count": 0,
      "outputs": []
    },
    {
      "cell_type": "code",
      "metadata": {
        "id": "0Eo7RoC3Mksu",
        "colab_type": "code",
        "colab": {}
      },
      "source": [
        "#sacamos de nuestra variable x la clomna objetivo \n",
        "x = x.drop('worldwide_gross',axis=1)"
      ],
      "execution_count": 0,
      "outputs": []
    },
    {
      "cell_type": "code",
      "metadata": {
        "id": "9qTINxc4Mks5",
        "colab_type": "code",
        "outputId": "c1e1d2ca-2e99-4a5a-bfad-a0e4f7f8d25b",
        "colab": {}
      },
      "source": [
        "x"
      ],
      "execution_count": 0,
      "outputs": [
        {
          "output_type": "execute_result",
          "data": {
            "text/html": [
              "<div>\n",
              "<style scoped>\n",
              "    .dataframe tbody tr th:only-of-type {\n",
              "        vertical-align: middle;\n",
              "    }\n",
              "\n",
              "    .dataframe tbody tr th {\n",
              "        vertical-align: top;\n",
              "    }\n",
              "\n",
              "    .dataframe thead th {\n",
              "        text-align: right;\n",
              "    }\n",
              "</style>\n",
              "<table border=\"1\" class=\"dataframe\">\n",
              "  <thead>\n",
              "    <tr style=\"text-align: right;\">\n",
              "      <th></th>\n",
              "      <th>production_budget</th>\n",
              "      <th>title_year</th>\n",
              "      <th>aspect_ratio</th>\n",
              "      <th>duration</th>\n",
              "      <th>cast_total_facebook_likes</th>\n",
              "      <th>budget</th>\n",
              "      <th>imdb_score</th>\n",
              "      <th>gross</th>\n",
              "    </tr>\n",
              "  </thead>\n",
              "  <tbody>\n",
              "    <tr>\n",
              "      <th>0</th>\n",
              "      <td>425000000.0</td>\n",
              "      <td>2009.000000</td>\n",
              "      <td>1.780000</td>\n",
              "      <td>178.000000</td>\n",
              "      <td>4834.0</td>\n",
              "      <td>2.370000e+08</td>\n",
              "      <td>7.9</td>\n",
              "      <td>7.605058e+08</td>\n",
              "    </tr>\n",
              "    <tr>\n",
              "      <th>1</th>\n",
              "      <td>306000000.0</td>\n",
              "      <td>2002.130733</td>\n",
              "      <td>2.126976</td>\n",
              "      <td>108.577186</td>\n",
              "      <td>143.0</td>\n",
              "      <td>4.045539e+07</td>\n",
              "      <td>7.1</td>\n",
              "      <td>4.831933e+07</td>\n",
              "    </tr>\n",
              "    <tr>\n",
              "      <th>2</th>\n",
              "      <td>300000000.0</td>\n",
              "      <td>2007.000000</td>\n",
              "      <td>2.350000</td>\n",
              "      <td>169.000000</td>\n",
              "      <td>48350.0</td>\n",
              "      <td>3.000000e+08</td>\n",
              "      <td>7.1</td>\n",
              "      <td>3.094042e+08</td>\n",
              "    </tr>\n",
              "    <tr>\n",
              "      <th>3</th>\n",
              "      <td>300000000.0</td>\n",
              "      <td>2015.000000</td>\n",
              "      <td>2.350000</td>\n",
              "      <td>148.000000</td>\n",
              "      <td>11700.0</td>\n",
              "      <td>2.450000e+08</td>\n",
              "      <td>6.8</td>\n",
              "      <td>2.000742e+08</td>\n",
              "    </tr>\n",
              "    <tr>\n",
              "      <th>4</th>\n",
              "      <td>275000000.0</td>\n",
              "      <td>2012.000000</td>\n",
              "      <td>2.350000</td>\n",
              "      <td>164.000000</td>\n",
              "      <td>106759.0</td>\n",
              "      <td>2.500000e+08</td>\n",
              "      <td>8.5</td>\n",
              "      <td>4.481306e+08</td>\n",
              "    </tr>\n",
              "    <tr>\n",
              "      <th>...</th>\n",
              "      <td>...</td>\n",
              "      <td>...</td>\n",
              "      <td>...</td>\n",
              "      <td>...</td>\n",
              "      <td>...</td>\n",
              "      <td>...</td>\n",
              "      <td>...</td>\n",
              "      <td>...</td>\n",
              "    </tr>\n",
              "    <tr>\n",
              "      <th>4099</th>\n",
              "      <td>7000.0</td>\n",
              "      <td>2004.000000</td>\n",
              "      <td>1.850000</td>\n",
              "      <td>77.000000</td>\n",
              "      <td>368.0</td>\n",
              "      <td>7.000000e+03</td>\n",
              "      <td>7.0</td>\n",
              "      <td>4.247600e+05</td>\n",
              "    </tr>\n",
              "    <tr>\n",
              "      <th>4100</th>\n",
              "      <td>7000.0</td>\n",
              "      <td>2005.000000</td>\n",
              "      <td>2.126976</td>\n",
              "      <td>80.000000</td>\n",
              "      <td>0.0</td>\n",
              "      <td>7.000000e+03</td>\n",
              "      <td>6.3</td>\n",
              "      <td>7.007100e+04</td>\n",
              "    </tr>\n",
              "    <tr>\n",
              "      <th>4101</th>\n",
              "      <td>7000.0</td>\n",
              "      <td>2005.000000</td>\n",
              "      <td>2.126976</td>\n",
              "      <td>84.000000</td>\n",
              "      <td>93.0</td>\n",
              "      <td>3.250000e+03</td>\n",
              "      <td>7.8</td>\n",
              "      <td>4.831933e+07</td>\n",
              "    </tr>\n",
              "    <tr>\n",
              "      <th>4102</th>\n",
              "      <td>3967.0</td>\n",
              "      <td>2012.000000</td>\n",
              "      <td>2.350000</td>\n",
              "      <td>100.000000</td>\n",
              "      <td>2386.0</td>\n",
              "      <td>4.045539e+07</td>\n",
              "      <td>6.3</td>\n",
              "      <td>1.044300e+04</td>\n",
              "    </tr>\n",
              "    <tr>\n",
              "      <th>4103</th>\n",
              "      <td>1100.0</td>\n",
              "      <td>2004.000000</td>\n",
              "      <td>1.850000</td>\n",
              "      <td>90.000000</td>\n",
              "      <td>163.0</td>\n",
              "      <td>1.100000e+03</td>\n",
              "      <td>6.6</td>\n",
              "      <td>8.522200e+04</td>\n",
              "    </tr>\n",
              "  </tbody>\n",
              "</table>\n",
              "<p>4104 rows × 8 columns</p>\n",
              "</div>"
            ],
            "text/plain": [
              "      production_budget   title_year  aspect_ratio    duration  \\\n",
              "0           425000000.0  2009.000000      1.780000  178.000000   \n",
              "1           306000000.0  2002.130733      2.126976  108.577186   \n",
              "2           300000000.0  2007.000000      2.350000  169.000000   \n",
              "3           300000000.0  2015.000000      2.350000  148.000000   \n",
              "4           275000000.0  2012.000000      2.350000  164.000000   \n",
              "...                 ...          ...           ...         ...   \n",
              "4099             7000.0  2004.000000      1.850000   77.000000   \n",
              "4100             7000.0  2005.000000      2.126976   80.000000   \n",
              "4101             7000.0  2005.000000      2.126976   84.000000   \n",
              "4102             3967.0  2012.000000      2.350000  100.000000   \n",
              "4103             1100.0  2004.000000      1.850000   90.000000   \n",
              "\n",
              "      cast_total_facebook_likes        budget  imdb_score         gross  \n",
              "0                        4834.0  2.370000e+08         7.9  7.605058e+08  \n",
              "1                         143.0  4.045539e+07         7.1  4.831933e+07  \n",
              "2                       48350.0  3.000000e+08         7.1  3.094042e+08  \n",
              "3                       11700.0  2.450000e+08         6.8  2.000742e+08  \n",
              "4                      106759.0  2.500000e+08         8.5  4.481306e+08  \n",
              "...                         ...           ...         ...           ...  \n",
              "4099                      368.0  7.000000e+03         7.0  4.247600e+05  \n",
              "4100                        0.0  7.000000e+03         6.3  7.007100e+04  \n",
              "4101                       93.0  3.250000e+03         7.8  4.831933e+07  \n",
              "4102                     2386.0  4.045539e+07         6.3  1.044300e+04  \n",
              "4103                      163.0  1.100000e+03         6.6  8.522200e+04  \n",
              "\n",
              "[4104 rows x 8 columns]"
            ]
          },
          "metadata": {
            "tags": []
          },
          "execution_count": 5
        }
      ]
    },
    {
      "cell_type": "code",
      "metadata": {
        "id": "n505c9sUMktE",
        "colab_type": "code",
        "colab": {}
      },
      "source": [
        "#vamos a separar nuestros datos para obtener el conjunto de entrenamiento y el conjunto de prueba\n",
        "#para esto usamos train_test_split que nos permite creat conjuntos train y test con un porcentaje del total\n",
        "from sklearn.model_selection import train_test_split\n",
        "x_train, x_test, y_train, y_test = train_test_split(x,y,test_size=0.4)"
      ],
      "execution_count": 0,
      "outputs": []
    },
    {
      "cell_type": "code",
      "metadata": {
        "id": "VqGMlRNzMktO",
        "colab_type": "code",
        "outputId": "a71a0683-2718-4754-a981-6b96caf3f270",
        "colab": {}
      },
      "source": [
        "print(len(x))\n",
        "print(len(x_train))\n",
        "print(len(x_test))"
      ],
      "execution_count": 0,
      "outputs": [
        {
          "output_type": "stream",
          "text": [
            "4104\n",
            "2462\n",
            "1642\n"
          ],
          "name": "stdout"
        }
      ]
    },
    {
      "cell_type": "code",
      "metadata": {
        "id": "Dx8nUzv4MktW",
        "colab_type": "code",
        "colab": {}
      },
      "source": [
        "#procedemos a hacer nuestra primera regresion con el metodo Lasso, lo importamos y lo instanciamos\n",
        "from sklearn.linear_model import Lasso\n",
        "model = Lasso()"
      ],
      "execution_count": 0,
      "outputs": []
    },
    {
      "cell_type": "code",
      "metadata": {
        "id": "HFhobZa7Mktg",
        "colab_type": "code",
        "outputId": "ec5409d3-75f0-4a9a-84c5-610fb746a1a5",
        "colab": {}
      },
      "source": [
        "#ya se encuentra entrenado el modelo basandonos en Lasso\n",
        "model.fit(x_train,y_train)"
      ],
      "execution_count": 0,
      "outputs": [
        {
          "output_type": "stream",
          "text": [
            "C:\\Users\\willi\\Anaconda3\\envs\\Peliculas\\lib\\site-packages\\sklearn\\linear_model\\_coordinate_descent.py:476: ConvergenceWarning: Objective did not converge. You might want to increase the number of iterations. Duality gap: 7.605958495950899e+17, tolerance: 7288637988862921.0\n",
            "  positive)\n"
          ],
          "name": "stderr"
        },
        {
          "output_type": "execute_result",
          "data": {
            "text/plain": [
              "Lasso(alpha=1.0, copy_X=True, fit_intercept=True, max_iter=1000,\n",
              "      normalize=False, positive=False, precompute=False, random_state=None,\n",
              "      selection='cyclic', tol=0.0001, warm_start=False)"
            ]
          },
          "metadata": {
            "tags": []
          },
          "execution_count": 11
        }
      ]
    },
    {
      "cell_type": "code",
      "metadata": {
        "id": "CXrnYpl-Mktp",
        "colab_type": "code",
        "colab": {}
      },
      "source": [
        "#realizamos las predicciones usando el modelo entrenado\n",
        "predicted = model.predict(x_test)"
      ],
      "execution_count": 0,
      "outputs": []
    },
    {
      "cell_type": "code",
      "metadata": {
        "id": "1ILkwnviMktz",
        "colab_type": "code",
        "outputId": "45c8d197-b18c-4488-b408-70eff66207aa",
        "colab": {}
      },
      "source": [
        "#confirmamos que el tamaño de nuestra prediccion concuerda con el del conjunto de test\n",
        "predicted.shape"
      ],
      "execution_count": 0,
      "outputs": [
        {
          "output_type": "execute_result",
          "data": {
            "text/plain": [
              "(1642,)"
            ]
          },
          "metadata": {
            "tags": []
          },
          "execution_count": 13
        }
      ]
    },
    {
      "cell_type": "code",
      "metadata": {
        "id": "HglDw1t5Mkt9",
        "colab_type": "code",
        "outputId": "79569dbf-8c97-48e3-a901-75327d68ea91",
        "colab": {}
      },
      "source": [
        "#verificamos con matplotlib de manera visual que los valores de la prediccion y del test se acercan\n",
        "import matplotlib.pyplot as plt\n",
        "%matplotlib inline\n",
        "\n",
        "plt.hist([predicted,y_test])"
      ],
      "execution_count": 0,
      "outputs": [
        {
          "output_type": "execute_result",
          "data": {
            "text/plain": [
              "([array([1.378e+03, 2.010e+02, 4.600e+01, 1.500e+01, 1.000e+00, 0.000e+00,\n",
              "         0.000e+00, 1.000e+00, 0.000e+00, 0.000e+00]),\n",
              "  array([1.418e+03, 1.580e+02, 4.100e+01, 1.700e+01, 5.000e+00, 2.000e+00,\n",
              "         0.000e+00, 0.000e+00, 0.000e+00, 1.000e+00])],\n",
              " array([-1.10776864e+08,  1.78692721e+08,  4.68162305e+08,  7.57631890e+08,\n",
              "         1.04710147e+09,  1.33657106e+09,  1.62604064e+09,  1.91551023e+09,\n",
              "         2.20497981e+09,  2.49444940e+09,  2.78391898e+09]),\n",
              " <a list of 2 Lists of Patches objects>)"
            ]
          },
          "metadata": {
            "tags": []
          },
          "execution_count": 15
        },
        {
          "output_type": "display_data",
          "data": {
            "image/png": "[encoded data removed]",
            "text/plain": [
              "<Figure size 432x288 with 1 Axes>"
            ]
          },
          "metadata": {
            "tags": [],
            "needs_background": "light"
          }
        }
      ]
    },
    {
      "cell_type": "code",
      "metadata": {
        "id": "uWDo-XuCMkuH",
        "colab_type": "code",
        "outputId": "3273dd96-30af-4d6e-b2e4-dbf951c3c084",
        "colab": {}
      },
      "source": [
        "#vamos a evaluar la presicion de nuestro modelo a través de su R2\n",
        "model.score(x_test,y_test)"
      ],
      "execution_count": 0,
      "outputs": [
        {
          "output_type": "execute_result",
          "data": {
            "text/plain": [
              "0.8618430757414365"
            ]
          },
          "metadata": {
            "tags": []
          },
          "execution_count": 16
        }
      ]
    },
    {
      "cell_type": "code",
      "metadata": {
        "id": "pDpK361TMkuQ",
        "colab_type": "code",
        "colab": {}
      },
      "source": [
        "#siempre hay que visualizar los resultados"
      ],
      "execution_count": 0,
      "outputs": []
    },
    {
      "cell_type": "code",
      "metadata": {
        "id": "wLbCcqHEMkuX",
        "colab_type": "code",
        "colab": {}
      },
      "source": [
        "#los residuales son las diferencias entre los valores reales y los predichos\n",
        "residuals = y_test - predicted"
      ],
      "execution_count": 0,
      "outputs": []
    },
    {
      "cell_type": "code",
      "metadata": {
        "id": "luXhFNn4Mkue",
        "colab_type": "code",
        "outputId": "5d41d10e-dc61-4f60-aef8-032a6be4240a",
        "colab": {}
      },
      "source": [
        "#graficamos los residuales para ver los errores\n",
        "plt.scatter(y_test,residuals)"
      ],
      "execution_count": 0,
      "outputs": [
        {
          "output_type": "execute_result",
          "data": {
            "text/plain": [
              "<matplotlib.collections.PathCollection at 0x1315dc00788>"
            ]
          },
          "metadata": {
            "tags": []
          },
          "execution_count": 18
        },
        {
          "output_type": "display_data",
          "data": {
            "image/png": "[encoded data removed]",
            "text/plain": [
              "<Figure size 432x288 with 1 Axes>"
            ]
          },
          "metadata": {
            "tags": [],
            "needs_background": "light"
          }
        }
      ]
    },
    {
      "cell_type": "code",
      "metadata": {
        "id": "mqbhiU5HMkul",
        "colab_type": "code",
        "colab": {}
      },
      "source": [
        "#visualizamos en forma de promedio los valores para hacernos una mejor idea de los errores\n",
        "ap_residuals = np.abs(residuals) / y_test"
      ],
      "execution_count": 0,
      "outputs": []
    },
    {
      "cell_type": "code",
      "metadata": {
        "id": "Q-4cNjhzMkus",
        "colab_type": "code",
        "outputId": "8b433bca-ab0a-4cfd-c7ec-b105fed40f69",
        "colab": {}
      },
      "source": [
        "plt.scatter(y_test, ap_residuals)"
      ],
      "execution_count": 0,
      "outputs": [
        {
          "output_type": "execute_result",
          "data": {
            "text/plain": [
              "<matplotlib.collections.PathCollection at 0x1315dc74308>"
            ]
          },
          "metadata": {
            "tags": []
          },
          "execution_count": 20
        },
        {
          "output_type": "display_data",
          "data": {
            "image/png": "[encoded data removed]",
            "text/plain": [
              "<Figure size 432x288 with 1 Axes>"
            ]
          },
          "metadata": {
            "tags": [],
            "needs_background": "light"
          }
        }
      ]
    },
    {
      "cell_type": "code",
      "metadata": {
        "id": "Rx7_ORLrMku0",
        "colab_type": "code",
        "colab": {}
      },
      "source": [
        "#una escala logaritmica nos puede ayudar a ver de maneramas compacta el comportamiento del modelo\n",
        "lap_residuals = np.log(ap_residuals)"
      ],
      "execution_count": 0,
      "outputs": []
    },
    {
      "cell_type": "code",
      "metadata": {
        "id": "mn4u_JfMMku7",
        "colab_type": "code",
        "outputId": "7047f83c-878f-4127-f47c-9e3e39938c8f",
        "colab": {}
      },
      "source": [
        "plt.scatter(y_test, lap_residuals)"
      ],
      "execution_count": 0,
      "outputs": [
        {
          "output_type": "execute_result",
          "data": {
            "text/plain": [
              "<matplotlib.collections.PathCollection at 0x1315dd48848>"
            ]
          },
          "metadata": {
            "tags": []
          },
          "execution_count": 23
        },
        {
          "output_type": "display_data",
          "data": {
            "image/png": "[encoded data removed]",
            "text/plain": [
              "<Figure size 432x288 with 1 Axes>"
            ]
          },
          "metadata": {
            "tags": [],
            "needs_background": "light"
          }
        }
      ]
    },
    {
      "cell_type": "code",
      "metadata": {
        "id": "jyiy4e3QMkvC",
        "colab_type": "code",
        "outputId": "4e298a85-6aeb-4d23-c337-a7e5d58e6ccf",
        "colab": {}
      },
      "source": [
        "#de esta manera podemos notar que se confirma lo visto en el R2 aunque todavia podemos mejorar este modelo\n",
        "plt.hist(lap_residuals,bins=100, density=1, histtype='step', cumulative=True);"
      ],
      "execution_count": 0,
      "outputs": [
        {
          "output_type": "display_data",
          "data": {
            "image/png": "[encoded data removed]",
            "text/plain": [
              "<Figure size 432x288 with 1 Axes>"
            ]
          },
          "metadata": {
            "tags": [],
            "needs_background": "light"
          }
        }
      ]
    },
    {
      "cell_type": "code",
      "metadata": {
        "id": "408oiQzSMkvL",
        "colab_type": "code",
        "colab": {}
      },
      "source": [
        ""
      ],
      "execution_count": 0,
      "outputs": []
    },
    {
      "cell_type": "code",
      "metadata": {
        "id": "c0ocnV90MkvT",
        "colab_type": "code",
        "colab": {}
      },
      "source": [
        ""
      ],
      "execution_count": 0,
      "outputs": []
    },
    {
      "cell_type": "code",
      "metadata": {
        "id": "LBakJbJaMkvc",
        "colab_type": "code",
        "colab": {}
      },
      "source": [
        ""
      ],
      "execution_count": 0,
      "outputs": []
    },
    {
      "cell_type": "code",
      "metadata": {
        "id": "CDFLh-ziMkvm",
        "colab_type": "code",
        "colab": {}
      },
      "source": [
        ""
      ],
      "execution_count": 0,
      "outputs": []
    },
    {
      "cell_type": "code",
      "metadata": {
        "id": "b6Iz1XEYMkvt",
        "colab_type": "code",
        "colab": {}
      },
      "source": [
        ""
      ],
      "execution_count": 0,
      "outputs": []
    }
  ]
}